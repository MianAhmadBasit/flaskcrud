{
 "cells": [
  {
   "cell_type": "markdown",
   "metadata": {},
   "source": [
    "Programming Paradims\n"
   ]
  },
  {
   "cell_type": "code",
   "execution_count": 31,
   "metadata": {},
   "outputs": [
    {
     "name": "stdout",
     "output_type": "stream",
     "text": [
      "Ahmad's house address is House num 122\n"
     ]
    }
   ],
   "source": [
    "class House:\n",
    "    address:str = \"House num 122\"\n",
    "    num_of_rooms:int = 4\n",
    "    num_of_bathrooms:int = 2\n",
    "\n",
    "ahmad_house = House()\n",
    "def __init__(self):\n",
    " \n",
    "   print(self.address)\n",
    "# raza_house = House()\n",
    "\n",
    "\n",
    "# print(ahmad_house.address)\n",
    "# print(ahmad_house.num_of_rooms)\n",
    "# print(ahmad_house.num_of_bathrooms)\n",
    "\n",
    "print(f\"Ahmad's house address is {ahmad_house.address}\")\n",
    "# print(f\"Raza's house address is {raza_house.address}\")\n"
   ]
  }
 ],
 "metadata": {
  "kernelspec": {
   "display_name": "Python 3",
   "language": "python",
   "name": "python3"
  },
  "language_info": {
   "codemirror_mode": {
    "name": "ipython",
    "version": 3
   },
   "file_extension": ".py",
   "mimetype": "text/x-python",
   "name": "python",
   "nbconvert_exporter": "python",
   "pygments_lexer": "ipython3",
   "version": "3.10.11"
  }
 },
 "nbformat": 4,
 "nbformat_minor": 2
}
