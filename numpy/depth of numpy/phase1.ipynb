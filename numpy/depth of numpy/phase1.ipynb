{
 "cells": [
  {
   "cell_type": "markdown",
   "metadata": {},
   "source": [
    "* Numpy Basics\n"
   ]
  },
  {
   "cell_type": "code",
   "execution_count": 10,
   "metadata": {},
   "outputs": [
    {
     "name": "stdout",
     "output_type": "stream",
     "text": [
      "[ 4  8 12]\n"
     ]
    }
   ],
   "source": [
    "import numpy as np\n",
    "a = np.array([1,2,3])   ## vector  tenser\n",
    "print(a*4)"
   ]
  },
  {
   "cell_type": "code",
   "execution_count": 25,
   "metadata": {},
   "outputs": [
    {
     "name": "stdout",
     "output_type": "stream",
     "text": [
      "[['ali' 'ali' 'ali' 'ali']\n",
      " ['ali' 'ali' 'ali' 'ali']\n",
      " ['ali' 'ali' 'ali' 'ali']]\n"
     ]
    }
   ],
   "source": [
    "a1 = np.full((3,4),\"ali\")\n",
    "print(a1)"
   ]
  },
  {
   "cell_type": "code",
   "execution_count": 2,
   "metadata": {},
   "outputs": [
    {
     "name": "stdout",
     "output_type": "stream",
     "text": [
      "1D array: [1 2 3 4 5]\n"
     ]
    }
   ],
   "source": [
    "# create nupmy array\n",
    "arr_1d = np.array([1, 2, 3, 4, 5])\n",
    "print(\"1D array:\" , arr_1d)\n"
   ]
  },
  {
   "cell_type": "code",
   "execution_count": 3,
   "metadata": {},
   "outputs": [
    {
     "name": "stdout",
     "output_type": "stream",
     "text": [
      "2D array: [[1 2 3]\n",
      " [4 5 6]\n",
      " [7 8 9]]\n"
     ]
    }
   ],
   "source": [
    "arr_2d = np.array([[1, 2, 3], [4, 5, 6], [7, 8, 9]])\n",
    "print(\"2D array:\" , arr_2d)"
   ]
  },
  {
   "cell_type": "code",
   "execution_count": 2,
   "metadata": {},
   "outputs": [
    {
     "name": "stdout",
     "output_type": "stream",
     "text": [
      "List: [1, 2, 3, 4, 5, 1, 2, 3, 4, 5, 1, 2, 3, 4, 5]\n"
     ]
    }
   ],
   "source": [
    "# list vs numpy\n",
    "lst = [1, 2, 3, 4, 5]\n",
    "print(\"List:\", lst*3)\n"
   ]
  },
  {
   "cell_type": "code",
   "execution_count": null,
   "metadata": {},
   "outputs": [
    {
     "name": "stdout",
     "output_type": "stream",
     "text": [
      "Numpy array: [ 3  6  9 12 15]\n"
     ]
    }
   ],
   "source": [
    "np_arr = np.array([1, 2, 3, 4, 5])\n",
    "print(\"Numpy array:\", np_arr*3)   ## element wise multiplication"
   ]
  },
  {
   "cell_type": "code",
   "execution_count": 12,
   "metadata": {},
   "outputs": [
    {
     "name": "stdout",
     "output_type": "stream",
     "text": [
      "Time taken for list: 0.6819858551025391\n"
     ]
    }
   ],
   "source": [
    "import time \n",
    "start =time.time()\n",
    "pytime = [i*2 for i in range(1000000)]\n",
    "print(\"Time taken for list:\", time.time()-start)"
   ]
  },
  {
   "cell_type": "code",
   "execution_count": 17,
   "metadata": {},
   "outputs": [
    {
     "name": "stdout",
     "output_type": "stream",
     "text": [
      "\n",
      " Time \n",
      " taken for numpy: 0.010110616683959961\n"
     ]
    }
   ],
   "source": [
    "start =time.time()\n",
    "nptime = np.arange(1000000) *2\n",
    "print(\"\\n Time \\n taken for numpy:\", time.time()-start)"
   ]
  },
  {
   "cell_type": "code",
   "execution_count": 3,
   "metadata": {},
   "outputs": [
    {
     "name": "stdout",
     "output_type": "stream",
     "text": [
      "Zero array:\n",
      " [[0. 0. 0.]\n",
      " [0. 0. 0.]\n",
      " [0. 0. 0.]\n",
      " [0. 0. 0.]]\n"
     ]
    }
   ],
   "source": [
    "#creating array from scratch\n",
    "zeroarr = np.zeros((4, 3))\n",
    "print(\"Zero array:\\n\", zeroarr)"
   ]
  },
  {
   "cell_type": "code",
   "execution_count": 4,
   "metadata": {},
   "outputs": [
    {
     "name": "stdout",
     "output_type": "stream",
     "text": [
      "Zero array:\n",
      " [[1. 1. 1.]\n",
      " [1. 1. 1.]\n",
      " [1. 1. 1.]]\n"
     ]
    }
   ],
   "source": [
    "zeroarr = np.ones((3, 3))\n",
    "print(\"Zero array:\\n\", zeroarr)"
   ]
  },
  {
   "cell_type": "code",
   "execution_count": 13,
   "metadata": {},
   "outputs": [
    {
     "name": "stdout",
     "output_type": "stream",
     "text": [
      "Full array:\n",
      " [['hassan' 'hassan' 'hassan']\n",
      " ['hassan' 'hassan' 'hassan']\n",
      " ['hassan' 'hassan' 'hassan']]\n",
      "Random array:\n",
      " [[0.4563045  0.69035738 0.6544237 ]\n",
      " [0.03724198 0.56555465 0.9343514 ]\n",
      " [0.02402782 0.47809615 0.10062891]]\n",
      "Sequence array:\n",
      " [ 5  8 11 14 17]\n"
     ]
    }
   ],
   "source": [
    "full  = np.full ((3, 3),\"hassan\")\n",
    "print(\"Full array:\\n\", full)\n",
    "rand = np.random.random((3, 3))\n",
    "print(\"Random array:\\n\", rand)\n",
    "seq = np.arange(5, 20 , 3)\n",
    "print(\"Sequence array:\\n\", seq)"
   ]
  },
  {
   "cell_type": "markdown",
   "metadata": {},
   "source": [
    "### Vector Matrix Tensor"
   ]
  },
  {
   "cell_type": "code",
   "execution_count": 27,
   "metadata": {},
   "outputs": [
    {
     "name": "stdout",
     "output_type": "stream",
     "text": [
      "Vector: [1 2 3 4 5]\n"
     ]
    }
   ],
   "source": [
    "vector = np.array([1, 2, 3, 4, 5])\n",
    "print(\"Vector:\", vector) "
   ]
  },
  {
   "cell_type": "code",
   "execution_count": 28,
   "metadata": {},
   "outputs": [
    {
     "name": "stdout",
     "output_type": "stream",
     "text": [
      "Matrix:\n",
      " [[1 2 3]\n",
      " [4 5 6]\n",
      " [7 8 9]]\n"
     ]
    }
   ],
   "source": [
    "matrix = np.array([[1, 2, 3], [4, 5, 6], [7, 8, 9]])\n",
    "print(\"Matrix:\\n\", matrix)"
   ]
  },
  {
   "cell_type": "code",
   "execution_count": 26,
   "metadata": {},
   "outputs": [
    {
     "name": "stdout",
     "output_type": "stream",
     "text": [
      "Tensor:\n",
      " [[[1 2 3]\n",
      "  [4 5 6]\n",
      "  [7 8 9]]\n",
      "\n",
      " [[1 2 3]\n",
      "  [4 5 6]\n",
      "  [7 8 9]]\n",
      "\n",
      " [[1 2 3]\n",
      "  [4 5 6]\n",
      "  [7 8 9]]]\n"
     ]
    }
   ],
   "source": [
    "tensor = np.array([[[1, 2, 3], [4, 5, 6], [7, 8, 9]], [[1, 2, 3], [4, 5, 6], [7, 8, 9]], [[1, 2, 3], [4, 5, 6], [7, 8, 9]]])\n",
    "print(\"Tensor:\\n\", tensor)\n",
    "# multi dimensional array "
   ]
  },
  {
   "cell_type": "markdown",
   "metadata": {},
   "source": [
    "### Array proprty"
   ]
  },
  {
   "cell_type": "code",
   "execution_count": 27,
   "metadata": {},
   "outputs": [
    {
     "name": "stdout",
     "output_type": "stream",
     "text": [
      "Shape: (5,)\n",
      "Data type: int64\n",
      "Size: 5\n",
      "Dimension: 3\n",
      "Item size: 8\n",
      "Number of bytes: 40\n",
      "Strides: (8,)\n",
      "Flags:   C_CONTIGUOUS : True\n",
      "  F_CONTIGUOUS : True\n",
      "  OWNDATA : True\n",
      "  WRITEABLE : True\n",
      "  ALIGNED : True\n",
      "  WRITEBACKIFCOPY : False\n",
      "\n",
      "Contiguous array: True\n",
      "C array: True\n",
      "F array: True\n"
     ]
    }
   ],
   "source": [
    "arr = np.array([1, 2, 3, 4, 5])\n",
    "print(\"Shape:\", arr.shape)\n",
    "print(\"Data type:\", arr.dtype)\n",
    "print(\"Size:\", arr.size)\n",
    "print(\"Dimension:\", tensor.ndim)\n",
    "print(\"Item size:\", arr.itemsize)\n",
    "print(\"Number of bytes:\", arr.nbytes)\n",
    "print(\"Strides:\", arr.strides)\n",
    "print(\"Flags:\", arr.flags)\n",
    "print(\"Contiguous array:\", arr.flags.contiguous)\n",
    "print(\"C array:\", arr.flags.c_contiguous)\n",
    "print(\"F array:\", arr.flags.f_contiguous)"
   ]
  },
  {
   "cell_type": "markdown",
   "metadata": {},
   "source": [
    "### array reshaping"
   ]
  },
  {
   "cell_type": "code",
   "execution_count": 28,
   "metadata": {},
   "outputs": [
    {
     "name": "stdout",
     "output_type": "stream",
     "text": [
      "Original array: [ 0  1  2  3  4  5  6  7  8  9 10 11]\n",
      "Reshaped array:\n",
      " [[ 0  1  2  3]\n",
      " [ 4  5  6  7]\n",
      " [ 8  9 10 11]]\n",
      "Flattened array: [ 0  1  2  3  4  5  6  7  8  9 10 11]\n",
      "Raveled array: [ 0  1  2  3  4  5  6  7  8  9 10 11]\n",
      "Original array:\n",
      " [ 0  1  2  3  4  5  6  7  8  9 10 11]\n",
      "ahmad transpose:\n",
      "  [[1 2]\n",
      " [2 3]]\n",
      "Original array transpose:\n",
      "  [[1 4 7]\n",
      " [2 5 8]\n",
      " [3 6 9]]\n"
     ]
    }
   ],
   "source": [
    "arr = np.arange(12)\n",
    "print(\"Original array:\", arr)\n",
    "reshaped = arr.reshape(3, 4)\n",
    "print(\"Reshaped array:\\n\", reshaped)\n",
    "# flatten   (return copy)\n",
    "flattened = reshaped.flatten()\n",
    "print(\"Flattened array:\", flattened)\n",
    "# ravel (retrun view or orginal instead of copy)\n",
    "raveled = reshaped.ravel()\n",
    "print(\"Raveled array:\", raveled)\n",
    "\n",
    "#transpose\n",
    "arr3 = np.array([[1, 2, 3], [4, 5, 6], [7, 8, 9]])\n",
    "print(\"Original array:\\n\", arr)\n",
    "a = np.array([[1,2] , [2,3]])\n",
    "ab = a.T\n",
    "print(\"ahmad transpose:\\n \", ab)\n",
    "transposed = arr3.T\n",
    "print(\"Original array transpose:\\n \", transposed)\n",
    "\n",
    "\n",
    "\n"
   ]
  },
  {
   "cell_type": "code",
   "execution_count": null,
   "metadata": {},
   "outputs": [],
   "source": []
  },
  {
   "cell_type": "code",
   "execution_count": null,
   "metadata": {},
   "outputs": [],
   "source": []
  }
 ],
 "metadata": {
  "kernelspec": {
   "display_name": "Python 3",
   "language": "python",
   "name": "python3"
  },
  "language_info": {
   "codemirror_mode": {
    "name": "ipython",
    "version": 3
   },
   "file_extension": ".py",
   "mimetype": "text/x-python",
   "name": "python",
   "nbconvert_exporter": "python",
   "pygments_lexer": "ipython3",
   "version": "3.10.11"
  }
 },
 "nbformat": 4,
 "nbformat_minor": 2
}
