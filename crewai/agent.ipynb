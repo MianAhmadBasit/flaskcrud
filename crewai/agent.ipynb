{
 "cells": [
  {
   "cell_type": "code",
   "execution_count": 6,
   "id": "7435e0b8",
   "metadata": {},
   "outputs": [],
   "source": [
    "from crewai import LLM\n",
    "\n",
    "from langchain_ollama.llms import OllamaLLM\n",
    "\n",
    "llm = LLM(\n",
    "    model=\"ollama/llama3.2\",\n",
    "    base_url=\"http://localhost:11434\"\n",
    ")\n",
    "# print(LLM(\"Hello, how are you?\"))\n"
   ]
  },
  {
   "cell_type": "code",
   "execution_count": 12,
   "id": "036f2554",
   "metadata": {},
   "outputs": [],
   "source": [
    "from crewai.tools import tool\n",
    "\n",
    "from langchain_community.tools import DuckDuckGoSearchResults \n",
    "import json\n",
    "\n",
    "\n",
    "@tool\n",
    "def search_web_tool(query: str):\n",
    "    \"\"\"\n",
    "    Searches the web and returns results.\n",
    "    \"\"\"\n",
    "    search_tool = DuckDuckGoSearchResults(num_results=10, verbose=True)\n",
    "    return search_tool.run(query)\n",
    "    \n",
    "    \n"
   ]
  },
  {
   "cell_type": "code",
   "execution_count": 22,
   "id": "3867acd1",
   "metadata": {},
   "outputs": [],
   "source": [
    "from crewai import Agent \n",
    "\n",
    "# Agent Resercher\n",
    "guide_expert= Agent( \n",
    "    role=\"City Local Guide Expert\",\n",
    "    goal=\"Provides information on things to do in the city based on the user's interests.\",\n",
    "    backstory=\"\"\"A local expert with a passion for sharing the best experiences and hidden gems of their city.\"\"\",\n",
    "    tools=[search_web_tool],\n",
    "    verbose=True,\n",
    "    max_iter=5,\n",
    "    llm=LLM(model=\"ollama/llama3.2\",base_url=\"http://localhost:11434\"),  #ChatOpenAI(temperature=0, model=\"gpt-4o-mini\"),\n",
    "    allow_delegation=False,\n",
    "    )\n",
    "# result = guide_expert.run(\"What are the best places to visit in Paris?\")\n",
    "# print(result)\n",
    "\n",
    "\n"
   ]
  },
  {
   "cell_type": "code",
   "execution_count": 23,
   "id": "3752e752",
   "metadata": {},
   "outputs": [],
   "source": [
    "# Agent city expert\n",
    "location_expert = Agent(\n",
    "    role=\"Travel Trip Expert\",\n",
    "    goal=\"Adapt to the user destination vity language (French if city in French Country. Gather helpful information about to the city and city during travel.\",\n",
    "    backstory=\"\"\"A seasoned traveler who has explored various destinations and knows the ins and outs of travel logistics.\"\"\",\n",
    "    tools=[search_web_tool],\n",
    "    verbose=True,\n",
    "    max_iter=5,\n",
    "    llm=LLM(model=\"ollama/llama3.2\",base_url=\"http://localhost:11434\"),\n",
    "    allow_delegation=False,\n",
    "    )"
   ]
  },
  {
   "cell_type": "code",
   "execution_count": 25,
   "id": "776bbd00",
   "metadata": {},
   "outputs": [],
   "source": [
    "planner_expert = Agent(\n",
    "    role=\"Travel Planning Expert\",\n",
    "    goal=\"Compiles all gathered information to provide a comprehensive travel plan.\",\n",
    "    backstory=\"\"\"\n",
    "    You are a professional guide with a passion for travel.\n",
    "    An organizational wizard who can turn a list of possibilities into a seamless itinerary.\n",
    "    \"\"\",\n",
    "    tools=[search_web_tool],\n",
    "    verbose=True,\n",
    "    max_iter=5,\n",
    "    llm=LLM(model=\"ollama/llama3.2\",base_url=\"http://localhost:11434\"),\n",
    "    allow_delegation=False,\n",
    "    )"
   ]
  },
  {
   "cell_type": "code",
   "execution_count": 26,
   "id": "619d8727",
   "metadata": {},
   "outputs": [],
   "source": [
    "from datetime import datetime\n",
    "from crewai import Task\n",
    "\n",
    "from_city = \"New York\"\n",
    "destination_city = \"Paris\"\n",
    "date_from = \"7 August 2025\"\n",
    "date_to = \"22 November 2025\"\n",
    "interests = \"sight seeing and good food & drinks breakfast, lunch and dinner\"\n",
    "\n",
    "location_task = Task(\n",
    "    description=f\"\"\"\n",
    "    In French : This task involves a comprehensive data collection process to provide the traveler with essential information about their destination. It includes researching and compiling details on various accommodations, ranging from budget-friendly hostels to luxury hotels, as well as estimating the cost of living in the area. The task also covers transportation options, visa requirements, and any travel advisories that may be relevant.\n",
    "    consider also the weather conditions forcast on the travel dates. and all the events that may be relevant to the traveler during the trip period.\n",
    "    \n",
    "    Traveling from : {from_city}\n",
    "    Destination city : {destination_city}\n",
    "    Arrival Date : {date_from}\n",
    "    Departure Date : {date_to}\n",
    "\n",
    "    Follow this rules : \n",
    "    1. if the {destination_city} is in a French country : Respond in FRENCH.\n",
    "    \"\"\",\n",
    "    expected_output=f\"\"\"\n",
    "    if the {destination_city} is in a French country : Respond in FRENCH.\n",
    "    In markdown format : A detailed markdown report that includes a curated list of recommended places to stay, a breakdown of daily living expenses, and practical travel tips to ensure a smooth journey.\n",
    "    \"\"\",\n",
    "    agent=location_expert,\n",
    "    output_file='city8_report.md',\n",
    ")"
   ]
  },
  {
   "cell_type": "code",
   "execution_count": 17,
   "id": "126ea59f",
   "metadata": {},
   "outputs": [],
   "source": [
    "guide_task = Task(\n",
    "    description=f\"\"\"\n",
    "    if the {destination_city} is in a French country : Respond in FRENCH.\n",
    "    Tailored to the traveler's personal {interests}, this task focuses on creating an engaging and informative guide to the city's attractions. It involves identifying cultural landmarks, historical spots, entertainment venues, dining experiences, and outdoor activities that align with the user's preferences such {interests}. The guide also highlights seasonal events and festivals that might be of interest during the traveler's visit.\n",
    "    Destination city : {destination_city}\n",
    "    interests : {interests}\n",
    "    Arrival Date : {date_from}\n",
    "    Departure Date : {date_to}\n",
    "\n",
    "    Follow this rules : \n",
    "    1. if the {destination_city} is in a French country : Respond in FRENCH.\n",
    "    \"\"\",\n",
    "    expected_output=f\"\"\"\n",
    "    An interactive markdown report that presents a personalized itinerary of activities and attractions, complete with descriptions, locations, and any necessary reservations or tickets.\n",
    "    \"\"\",\n",
    "\n",
    "    agent=guide_expert,\n",
    "    output_file='guide1_report.md',\n",
    ")"
   ]
  },
  {
   "cell_type": "code",
   "execution_count": 19,
   "id": "e2e0df2f",
   "metadata": {},
   "outputs": [],
   "source": [
    "planner_task = Task(\n",
    "    description=f\"\"\"\n",
    "    This task synthesizes all collected information into a detaileds introduction to the city (description of city and presentation, in 3 pragraphes) cohesive and practical travel plan. and takes into account the traveler's schedule, preferences, and budget to draft a day-by-day itinerary. The planner also provides insights into the city's layout and transportation system to facilitate easy navigation.\n",
    "    Destination city : {destination_city}\n",
    "    interests : {interests}\n",
    "    Arrival Date : {date_from}\n",
    "    Departure Date : {date_to}\n",
    "\n",
    "    Follow this rules : \n",
    "    1. if the {destination_city} is in a French country : Respond in FRENCH.\n",
    "    \"\"\",\n",
    "    expected_output=\"\"\"\n",
    "    if the {destination_city} is in a French country : Respond in FRENCH.\n",
    "    A rich markdown document with emojis on each title and subtitle, that :\n",
    "    In markdown format : \n",
    "    # Welcome to {destination_city} :\n",
    "    A 4 paragraphes markdown formated including :\n",
    "    - a curated articles of presentation of the city, \n",
    "    - a breakdown of daily living expenses, and spots to visit.\n",
    "    # Here's your Travel Plan to {destination_city} :\n",
    "    Outlines a daily detailed travel plan list with time allocations and details for each activity, along with an overview of the city's highlights based on the guide's recommendations\n",
    "    \"\"\",\n",
    "     context=[location_task, guide_task],\n",
    "    # context=context,\n",
    "    agent=planner_expert,\n",
    "        output_file='travel1_plan.md',\n",
    "        )"
   ]
  },
  {
   "cell_type": "code",
   "execution_count": 21,
   "id": "166899ee",
   "metadata": {},
   "outputs": [],
   "source": [
    "# Task: Location\n",
    "def location_task(agent, from_city, destination_city, date_from, date_to):\n",
    "    return Task(\n",
    "        description=f\"\"\"\n",
    "        In French : This task involves a comprehensive data collection process to provide the traveler with essential information about their destination. It includes researching and compiling details on various accommodations, ranging from budget-friendly hostels to luxury hotels, as well as estimating the cost of living in the area. The task also covers transportation options, visa requirements, and any travel advisories that may be relevant.\n",
    "        consider also the weather conditions forcast on the travel dates. and all the events that may be relevant to the traveler during the trip period.\n",
    "        \n",
    "        Traveling from : {from_city}\n",
    "        Destination city : {destination_city}\n",
    "        Arrival Date : {date_from}\n",
    "        Departure Date : {date_to}\n",
    "\n",
    "        Follow this rules : \n",
    "        1. if the {destination_city} is in a French country : Respond in FRENCH.\n",
    "        \"\"\",\n",
    "        expected_output=f\"\"\"\n",
    "        if the {destination_city} is in a French country : Respond in FRENCH.\n",
    "        In markdown format : A detailed markdown report that includes a curated list of recommended places to stay, a breakdown of daily living expenses, and practical travel tips to ensure a smooth journey.\n",
    "        \"\"\",\n",
    "        agent=agent,\n",
    "        output_file='city1_report.md',\n",
    "    )\n",
    "\n",
    "# Task: Location\n",
    "def guide_task(agent, destination_city, interests, date_from, date_to):    \n",
    "    return Task(\n",
    "        description=f\"\"\"\n",
    "        if the {destination_city} is in a French country : Respond in FRENCH.\n",
    "        Tailored to the traveler's personal {interests}, this task focuses on creating an engaging and informative guide to the city's attractions. It involves identifying cultural landmarks, historical spots, entertainment venues, dining experiences, and outdoor activities that align with the user's preferences such {interests}. The guide also highlights seasonal events and festivals that might be of interest during the traveler's visit.\n",
    "        Destination city : {destination_city}\n",
    "        interests : {interests}\n",
    "        Arrival Date : {date_from}\n",
    "        Departure Date : {date_to}\n",
    "\n",
    "        Follow this rules : \n",
    "        1. if the {destination_city} is in a French country : Respond in FRENCH.\n",
    "        \"\"\",\n",
    "        expected_output=f\"\"\"\n",
    "        An interactive markdown report that presents a personalized itinerary of activities and attractions, complete with descriptions, locations, and any necessary reservations or tickets.\n",
    "        \"\"\",\n",
    "\n",
    "        agent=agent,\n",
    "        output_file='guide1_report.md',\n",
    "    )\n",
    "\n",
    "\n",
    "# Task: Planner\n",
    "def planner_task(context, agent, destination_city, interests, date_from, date_to):\n",
    "    return Task(\n",
    "        description=f\"\"\"\n",
    "        This task synthesizes all collected information into a detaileds introduction to the city (description of city and presentation, in 3 pragraphes) cohesive and practical travel plan. and takes into account the traveler's schedule, preferences, and budget to draft a day-by-day itinerary. The planner also provides insights into the city's layout and transportation system to facilitate easy navigation.\n",
    "        Destination city : {destination_city}\n",
    "        interests : {interests}\n",
    "        Arrival Date : {date_from}\n",
    "        Departure Date : {date_to}\n",
    "\n",
    "        Follow this rules : \n",
    "        1. if the {destination_city} is in a French country : Respond in FRENCH.\n",
    "        \"\"\",\n",
    "        expected_output=\"\"\"\n",
    "        if the {destination_city} is in a French country : Respond in FRENCH.\n",
    "        A rich markdown document with emojis on each title and subtitle, that :\n",
    "        In markdown format : \n",
    "        # Welcome to {destination_city} :\n",
    "        A 4 paragraphes markdown formated including :\n",
    "        - a curated articles of presentation of the city, \n",
    "        - a breakdown of daily living expenses, and spots to visit.\n",
    "        # Here's your Travel Plan to {destination_city} :\n",
    "        Outlines a daily detailed travel plan list with time allocations and details for each activity, along with an overview of the city's highlights based on the guide's recommendations\n",
    "        \"\"\",\n",
    "        context=[location_task, guide_task],\n",
    "        # context=context,\n",
    "        agent=agent,\n",
    "        output_file='travel1_plan.md',\n",
    "        )"
   ]
  },
  {
   "cell_type": "code",
   "execution_count": 22,
   "id": "65d6bac7",
   "metadata": {},
   "outputs": [],
   "source": [
    "location_task = location_task(\n",
    "  location_expert,\n",
    "  from_city,\n",
    "  destination_city,\n",
    "  date_from,\n",
    "  date_to\n",
    ")\n",
    "\n",
    "guide_task = guide_task(\n",
    "  guide_expert,\n",
    "  destination_city,\n",
    "  interests,\n",
    "  date_from,\n",
    "  date_to\n",
    ")\n",
    "\n",
    "planner_task = planner_task(\n",
    "  [location_task, guide_task],\n",
    "  planner_expert,\n",
    "  destination_city,\n",
    "  interests,\n",
    "  date_from,\n",
    "  date_to,\n",
    ")"
   ]
  },
  {
   "cell_type": "code",
   "execution_count": 23,
   "id": "77d6d96f",
   "metadata": {},
   "outputs": [
    {
     "data": {
      "text/html": [
       "<pre style=\"white-space:pre;overflow-x:auto;line-height:normal;font-family:Menlo,'DejaVu Sans Mono',consolas,'Courier New',monospace\"><span style=\"color: #008080; text-decoration-color: #008080\">╭──────────────────────────────────────────── Crew Execution Started ─────────────────────────────────────────────╮</span>\n",
       "<span style=\"color: #008080; text-decoration-color: #008080\">│</span>                                                                                                                 <span style=\"color: #008080; text-decoration-color: #008080\">│</span>\n",
       "<span style=\"color: #008080; text-decoration-color: #008080\">│</span>  <span style=\"color: #008080; text-decoration-color: #008080; font-weight: bold\">Crew Execution Started</span>                                                                                         <span style=\"color: #008080; text-decoration-color: #008080\">│</span>\n",
       "<span style=\"color: #008080; text-decoration-color: #008080\">│</span>  <span style=\"color: #c0c0c0; text-decoration-color: #c0c0c0\">Name: </span><span style=\"color: #008080; text-decoration-color: #008080\">crew</span>                                                                                                     <span style=\"color: #008080; text-decoration-color: #008080\">│</span>\n",
       "<span style=\"color: #008080; text-decoration-color: #008080\">│</span>  <span style=\"color: #c0c0c0; text-decoration-color: #c0c0c0\">ID: </span><span style=\"color: #008080; text-decoration-color: #008080\">18d34c12-52ca-425b-91cd-f1dc134229bf</span>                                                                       <span style=\"color: #008080; text-decoration-color: #008080\">│</span>\n",
       "<span style=\"color: #008080; text-decoration-color: #008080\">│</span>  <span style=\"color: #c0c0c0; text-decoration-color: #c0c0c0\">Tool Args: </span>                                                                                                    <span style=\"color: #008080; text-decoration-color: #008080\">│</span>\n",
       "<span style=\"color: #008080; text-decoration-color: #008080\">│</span>                                                                                                                 <span style=\"color: #008080; text-decoration-color: #008080\">│</span>\n",
       "<span style=\"color: #008080; text-decoration-color: #008080\">│</span>                                                                                                                 <span style=\"color: #008080; text-decoration-color: #008080\">│</span>\n",
       "<span style=\"color: #008080; text-decoration-color: #008080\">╰─────────────────────────────────────────────────────────────────────────────────────────────────────────────────╯</span>\n",
       "</pre>\n"
      ],
      "text/plain": [
       "\u001b[36m╭─\u001b[0m\u001b[36m───────────────────────────────────────────\u001b[0m\u001b[36m Crew Execution Started \u001b[0m\u001b[36m────────────────────────────────────────────\u001b[0m\u001b[36m─╮\u001b[0m\n",
       "\u001b[36m│\u001b[0m                                                                                                                 \u001b[36m│\u001b[0m\n",
       "\u001b[36m│\u001b[0m  \u001b[1;36mCrew Execution Started\u001b[0m                                                                                         \u001b[36m│\u001b[0m\n",
       "\u001b[36m│\u001b[0m  \u001b[37mName: \u001b[0m\u001b[36mcrew\u001b[0m                                                                                                     \u001b[36m│\u001b[0m\n",
       "\u001b[36m│\u001b[0m  \u001b[37mID: \u001b[0m\u001b[36m18d34c12-52ca-425b-91cd-f1dc134229bf\u001b[0m                                                                       \u001b[36m│\u001b[0m\n",
       "\u001b[36m│\u001b[0m  \u001b[37mTool Args: \u001b[0m                                                                                                    \u001b[36m│\u001b[0m\n",
       "\u001b[36m│\u001b[0m                                                                                                                 \u001b[36m│\u001b[0m\n",
       "\u001b[36m│\u001b[0m                                                                                                                 \u001b[36m│\u001b[0m\n",
       "\u001b[36m╰─────────────────────────────────────────────────────────────────────────────────────────────────────────────────╯\u001b[0m\n"
      ]
     },
     "metadata": {},
     "output_type": "display_data"
    },
    {
     "data": {
      "text/html": [
       "<pre style=\"white-space:pre;overflow-x:auto;line-height:normal;font-family:Menlo,'DejaVu Sans Mono',consolas,'Courier New',monospace\">\n",
       "</pre>\n"
      ],
      "text/plain": [
       "\n"
      ]
     },
     "metadata": {},
     "output_type": "display_data"
    },
    {
     "data": {
      "text/html": [
       "<pre style=\"white-space:pre;overflow-x:auto;line-height:normal;font-family:Menlo,'DejaVu Sans Mono',consolas,'Courier New',monospace\"></pre>\n"
      ],
      "text/plain": []
     },
     "metadata": {},
     "output_type": "display_data"
    },
    {
     "data": {
      "text/html": [
       "<pre style=\"white-space:pre;overflow-x:auto;line-height:normal;font-family:Menlo,'DejaVu Sans Mono',consolas,'Courier New',monospace\"><span style=\"color: #800080; text-decoration-color: #800080\">╭─────────────────────────────────────────────── 🤖 Agent Started ────────────────────────────────────────────────╮</span>\n",
       "<span style=\"color: #800080; text-decoration-color: #800080\">│</span>                                                                                                                 <span style=\"color: #800080; text-decoration-color: #800080\">│</span>\n",
       "<span style=\"color: #800080; text-decoration-color: #800080\">│</span>  <span style=\"color: #c0c0c0; text-decoration-color: #c0c0c0\">Agent: </span><span style=\"color: #00ff00; text-decoration-color: #00ff00; font-weight: bold\">Travel Trip Expert</span>                                                                                      <span style=\"color: #800080; text-decoration-color: #800080\">│</span>\n",
       "<span style=\"color: #800080; text-decoration-color: #800080\">│</span>                                                                                                                 <span style=\"color: #800080; text-decoration-color: #800080\">│</span>\n",
       "<span style=\"color: #800080; text-decoration-color: #800080\">│</span>  <span style=\"color: #c0c0c0; text-decoration-color: #c0c0c0\">Task: </span>                                                                                                         <span style=\"color: #800080; text-decoration-color: #800080\">│</span>\n",
       "<span style=\"color: #800080; text-decoration-color: #800080\">│</span>  <span style=\"color: #00ff00; text-decoration-color: #00ff00\">        In French : This task involves a comprehensive data collection process to provide the traveler with </span>   <span style=\"color: #800080; text-decoration-color: #800080\">│</span>\n",
       "<span style=\"color: #800080; text-decoration-color: #800080\">│</span>  <span style=\"color: #00ff00; text-decoration-color: #00ff00\">essential information about their destination. It includes researching and compiling details on various </span>       <span style=\"color: #800080; text-decoration-color: #800080\">│</span>\n",
       "<span style=\"color: #800080; text-decoration-color: #800080\">│</span>  <span style=\"color: #00ff00; text-decoration-color: #00ff00\">accommodations, ranging from budget-friendly hostels to luxury hotels, as well as estimating the cost of </span>      <span style=\"color: #800080; text-decoration-color: #800080\">│</span>\n",
       "<span style=\"color: #800080; text-decoration-color: #800080\">│</span>  <span style=\"color: #00ff00; text-decoration-color: #00ff00\">living in the area. The task also covers transportation options, visa requirements, and any travel advisories</span>  <span style=\"color: #800080; text-decoration-color: #800080\">│</span>\n",
       "<span style=\"color: #800080; text-decoration-color: #800080\">│</span>  <span style=\"color: #00ff00; text-decoration-color: #00ff00\">that may be relevant.</span>                                                                                          <span style=\"color: #800080; text-decoration-color: #800080\">│</span>\n",
       "<span style=\"color: #800080; text-decoration-color: #800080\">│</span>  <span style=\"color: #00ff00; text-decoration-color: #00ff00\">        consider also the weather conditions forcast on the travel dates. and all the events that may be </span>      <span style=\"color: #800080; text-decoration-color: #800080\">│</span>\n",
       "<span style=\"color: #800080; text-decoration-color: #800080\">│</span>  <span style=\"color: #00ff00; text-decoration-color: #00ff00\">relevant to the traveler during the trip period.</span>                                                               <span style=\"color: #800080; text-decoration-color: #800080\">│</span>\n",
       "<span style=\"color: #800080; text-decoration-color: #800080\">│</span>  <span style=\"color: #00ff00; text-decoration-color: #00ff00\">        </span>                                                                                                       <span style=\"color: #800080; text-decoration-color: #800080\">│</span>\n",
       "<span style=\"color: #800080; text-decoration-color: #800080\">│</span>  <span style=\"color: #00ff00; text-decoration-color: #00ff00\">        Traveling from : pakistan</span>                                                                              <span style=\"color: #800080; text-decoration-color: #800080\">│</span>\n",
       "<span style=\"color: #800080; text-decoration-color: #800080\">│</span>  <span style=\"color: #00ff00; text-decoration-color: #00ff00\">        Destination city : Paris</span>                                                                               <span style=\"color: #800080; text-decoration-color: #800080\">│</span>\n",
       "<span style=\"color: #800080; text-decoration-color: #800080\">│</span>  <span style=\"color: #00ff00; text-decoration-color: #00ff00\">        Arrival Date : 1st March 2025</span>                                                                          <span style=\"color: #800080; text-decoration-color: #800080\">│</span>\n",
       "<span style=\"color: #800080; text-decoration-color: #800080\">│</span>  <span style=\"color: #00ff00; text-decoration-color: #00ff00\">        Departure Date : 7th August 2025</span>                                                                       <span style=\"color: #800080; text-decoration-color: #800080\">│</span>\n",
       "<span style=\"color: #800080; text-decoration-color: #800080\">│</span>                                                                                                                 <span style=\"color: #800080; text-decoration-color: #800080\">│</span>\n",
       "<span style=\"color: #800080; text-decoration-color: #800080\">│</span>  <span style=\"color: #00ff00; text-decoration-color: #00ff00\">        Follow this rules : </span>                                                                                   <span style=\"color: #800080; text-decoration-color: #800080\">│</span>\n",
       "<span style=\"color: #800080; text-decoration-color: #800080\">│</span>  <span style=\"color: #00ff00; text-decoration-color: #00ff00\">        1. if the Paris is in a French country : Respond in FRENCH.</span>                                            <span style=\"color: #800080; text-decoration-color: #800080\">│</span>\n",
       "<span style=\"color: #800080; text-decoration-color: #800080\">│</span>  <span style=\"color: #00ff00; text-decoration-color: #00ff00\">        </span>                                                                                                       <span style=\"color: #800080; text-decoration-color: #800080\">│</span>\n",
       "<span style=\"color: #800080; text-decoration-color: #800080\">│</span>                                                                                                                 <span style=\"color: #800080; text-decoration-color: #800080\">│</span>\n",
       "<span style=\"color: #800080; text-decoration-color: #800080\">╰─────────────────────────────────────────────────────────────────────────────────────────────────────────────────╯</span>\n",
       "</pre>\n"
      ],
      "text/plain": [
       "\u001b[35m╭─\u001b[0m\u001b[35m──────────────────────────────────────────────\u001b[0m\u001b[35m 🤖 Agent Started \u001b[0m\u001b[35m───────────────────────────────────────────────\u001b[0m\u001b[35m─╮\u001b[0m\n",
       "\u001b[35m│\u001b[0m                                                                                                                 \u001b[35m│\u001b[0m\n",
       "\u001b[35m│\u001b[0m  \u001b[37mAgent: \u001b[0m\u001b[1;92mTravel Trip Expert\u001b[0m                                                                                      \u001b[35m│\u001b[0m\n",
       "\u001b[35m│\u001b[0m                                                                                                                 \u001b[35m│\u001b[0m\n",
       "\u001b[35m│\u001b[0m  \u001b[37mTask: \u001b[0m                                                                                                         \u001b[35m│\u001b[0m\n",
       "\u001b[35m│\u001b[0m  \u001b[92m        In French : This task involves a comprehensive data collection process to provide the traveler with \u001b[0m   \u001b[35m│\u001b[0m\n",
       "\u001b[35m│\u001b[0m  \u001b[92messential information about their destination. It includes researching and compiling details on various \u001b[0m       \u001b[35m│\u001b[0m\n",
       "\u001b[35m│\u001b[0m  \u001b[92maccommodations, ranging from budget-friendly hostels to luxury hotels, as well as estimating the cost of \u001b[0m      \u001b[35m│\u001b[0m\n",
       "\u001b[35m│\u001b[0m  \u001b[92mliving in the area. The task also covers transportation options, visa requirements, and any travel advisories\u001b[0m  \u001b[35m│\u001b[0m\n",
       "\u001b[35m│\u001b[0m  \u001b[92mthat may be relevant.\u001b[0m                                                                                          \u001b[35m│\u001b[0m\n",
       "\u001b[35m│\u001b[0m  \u001b[92m        consider also the weather conditions forcast on the travel dates. and all the events that may be \u001b[0m      \u001b[35m│\u001b[0m\n",
       "\u001b[35m│\u001b[0m  \u001b[92mrelevant to the traveler during the trip period.\u001b[0m                                                               \u001b[35m│\u001b[0m\n",
       "\u001b[35m│\u001b[0m  \u001b[92m        \u001b[0m                                                                                                       \u001b[35m│\u001b[0m\n",
       "\u001b[35m│\u001b[0m  \u001b[92m        Traveling from : pakistan\u001b[0m                                                                              \u001b[35m│\u001b[0m\n",
       "\u001b[35m│\u001b[0m  \u001b[92m        Destination city : Paris\u001b[0m                                                                               \u001b[35m│\u001b[0m\n",
       "\u001b[35m│\u001b[0m  \u001b[92m        Arrival Date : 1st March 2025\u001b[0m                                                                          \u001b[35m│\u001b[0m\n",
       "\u001b[35m│\u001b[0m  \u001b[92m        Departure Date : 7th August 2025\u001b[0m                                                                       \u001b[35m│\u001b[0m\n",
       "\u001b[35m│\u001b[0m                                                                                                                 \u001b[35m│\u001b[0m\n",
       "\u001b[35m│\u001b[0m  \u001b[92m        Follow this rules : \u001b[0m                                                                                   \u001b[35m│\u001b[0m\n",
       "\u001b[35m│\u001b[0m  \u001b[92m        1. if the Paris is in a French country : Respond in FRENCH.\u001b[0m                                            \u001b[35m│\u001b[0m\n",
       "\u001b[35m│\u001b[0m  \u001b[92m        \u001b[0m                                                                                                       \u001b[35m│\u001b[0m\n",
       "\u001b[35m│\u001b[0m                                                                                                                 \u001b[35m│\u001b[0m\n",
       "\u001b[35m╰─────────────────────────────────────────────────────────────────────────────────────────────────────────────────╯\u001b[0m\n"
      ]
     },
     "metadata": {},
     "output_type": "display_data"
    },
    {
     "data": {
      "text/html": [
       "<pre style=\"white-space:pre;overflow-x:auto;line-height:normal;font-family:Menlo,'DejaVu Sans Mono',consolas,'Courier New',monospace\">\n",
       "</pre>\n"
      ],
      "text/plain": [
       "\n"
      ]
     },
     "metadata": {},
     "output_type": "display_data"
    },
    {
     "ename": "",
     "evalue": "",
     "output_type": "error",
     "traceback": [
      "\u001b[1;31mThe Kernel crashed while executing code in the current cell or a previous cell. \n",
      "\u001b[1;31mPlease review the code in the cell(s) to identify a possible cause of the failure. \n",
      "\u001b[1;31mClick <a href='https://aka.ms/vscodeJupyterKernelCrash'>here</a> for more info. \n",
      "\u001b[1;31mView Jupyter <a href='command:jupyter.viewOutput'>log</a> for further details."
     ]
    }
   ],
   "source": [
    "from crewai import Crew, Process\n",
    "crew = Crew(\n",
    "agents=[location_expert, guide_expert, planner_expert],\n",
    "tasks=[location_task, guide_task, planner_task],\n",
    "process=Process.sequential,\n",
    "full_output=True,\n",
    "share_crew=False,\n",
    "verbose=True\n",
    ")\n",
    "\n",
    "result = crew.kickoff()"
   ]
  }
 ],
 "metadata": {
  "kernelspec": {
   "display_name": "Python 3",
   "language": "python",
   "name": "python3"
  },
  "language_info": {
   "codemirror_mode": {
    "name": "ipython",
    "version": 3
   },
   "file_extension": ".py",
   "mimetype": "text/x-python",
   "name": "python",
   "nbconvert_exporter": "python",
   "pygments_lexer": "ipython3",
   "version": "3.10.11"
  }
 },
 "nbformat": 4,
 "nbformat_minor": 5
}
