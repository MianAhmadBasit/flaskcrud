{
 "cells": [
  {
   "cell_type": "code",
   "execution_count": 6,
   "metadata": {},
   "outputs": [
    {
     "name": "stdout",
     "output_type": "stream",
     "text": [
      "sorry i tellonly jokes wrong entry\n"
     ]
    }
   ],
   "source": [
    "joke  = \"you are lier \"\n",
    "sorry = \"wrong entry\"\n",
    "def bot():\n",
    "    use_Input = input(\"what u want\")\n",
    "    if \"joke\" in use_Input:\n",
    "        print(joke)\n",
    "    else:\n",
    "        print(f\"sorry i tellonly jokes {sorry}\")\n",
    "    \n",
    "\n",
    " \n",
    "bot()"
   ]
  },
  {
   "cell_type": "code",
   "execution_count": 1,
   "metadata": {},
   "outputs": [
    {
     "data": {
      "text/plain": [
       "['CATEGORY_VALUES',\n",
       " 'LANGUAGE_VALUES',\n",
       " '__builtins__',\n",
       " '__cached__',\n",
       " '__doc__',\n",
       " '__file__',\n",
       " '__loader__',\n",
       " '__name__',\n",
       " '__package__',\n",
       " '__path__',\n",
       " '__spec__',\n",
       " 'exc',\n",
       " 'forever',\n",
       " 'get_joke',\n",
       " 'get_jokes',\n",
       " 'jokes_cs',\n",
       " 'jokes_de',\n",
       " 'jokes_en',\n",
       " 'jokes_es',\n",
       " 'jokes_eu',\n",
       " 'jokes_fr',\n",
       " 'jokes_gl',\n",
       " 'jokes_hu',\n",
       " 'jokes_it',\n",
       " 'jokes_lt',\n",
       " 'jokes_pl',\n",
       " 'jokes_ru',\n",
       " 'jokes_sv',\n",
       " 'pyjokes']"
      ]
     },
     "execution_count": 1,
     "metadata": {},
     "output_type": "execute_result"
    }
   ],
   "source": [
    "import pyjokes\n",
    "dir(pyjokes)"
   ]
  },
  {
   "cell_type": "code",
   "execution_count": 3,
   "metadata": {},
   "outputs": [
    {
     "name": "stdout",
     "output_type": "stream",
     "text": [
      "Writing PHP is like peeing in the swimming pool, everyone did it, but we don't need to bring it up in public.\n"
     ]
    }
   ],
   "source": [
    "import pyjokes\n",
    "print(pyjokes.get_joke())"
   ]
  },
  {
   "cell_type": "code",
   "execution_count": 7,
   "metadata": {},
   "outputs": [
    {
     "name": "stdout",
     "output_type": "stream",
     "text": [
      "To understand recursion you must first understand recursion.\n"
     ]
    }
   ],
   "source": [
    "import pyjokes\n",
    "joke  = pyjokes.get_joke(\"en\", \"neutral\")\n",
    "sorry = \"wrong entry\"\n",
    "def bot():\n",
    "    use_Input = input(\"what u want\")\n",
    "    if \"joke\" in use_Input:\n",
    "        print(joke)\n",
    "    else:\n",
    "        print(f\"sorry i tellonly jokes {sorry}\")\n",
    "    \n",
    "\n",
    " \n",
    "bot()"
   ]
  },
  {
   "cell_type": "code",
   "execution_count": 2,
   "metadata": {},
   "outputs": [
    {
     "ename": "ModuleNotFoundError",
     "evalue": "No module named 'urdu2roman'",
     "output_type": "error",
     "traceback": [
      "\u001b[1;31m---------------------------------------------------------------------------\u001b[0m",
      "\u001b[1;31mModuleNotFoundError\u001b[0m                       Traceback (most recent call last)",
      "Cell \u001b[1;32mIn[2], line 1\u001b[0m\n\u001b[1;32m----> 1\u001b[0m \u001b[38;5;28;01mimport\u001b[39;00m\u001b[38;5;250m \u001b[39m\u001b[38;5;21;01murdu2roman\u001b[39;00m\n\u001b[0;32m      2\u001b[0m \u001b[38;5;28mdir\u001b[39m(urdu2roman)\n",
      "\u001b[1;31mModuleNotFoundError\u001b[0m: No module named 'urdu2roman'"
     ]
    }
   ],
   "source": [
    "import urdu2roman\n",
    "dir(urdu2roman)"
   ]
  },
  {
   "cell_type": "code",
   "execution_count": 3,
   "metadata": {},
   "outputs": [
    {
     "ename": "ModuleNotFoundError",
     "evalue": "No module named 'urdu2roman'",
     "output_type": "error",
     "traceback": [
      "\u001b[1;31m---------------------------------------------------------------------------\u001b[0m",
      "\u001b[1;31mModuleNotFoundError\u001b[0m                       Traceback (most recent call last)",
      "Cell \u001b[1;32mIn[3], line 1\u001b[0m\n\u001b[1;32m----> 1\u001b[0m \u001b[38;5;28;01mimport\u001b[39;00m\u001b[38;5;250m \u001b[39m\u001b[38;5;21;01murdu2roman\u001b[39;00m\n\u001b[0;32m      2\u001b[0m \u001b[38;5;28mdir\u001b[39m(urdu2roman)\n",
      "\u001b[1;31mModuleNotFoundError\u001b[0m: No module named 'urdu2roman'"
     ]
    }
   ],
   "source": [
    "import urdu2roman\n",
    "dir(urdu2roman)"
   ]
  },
  {
   "cell_type": "code",
   "execution_count": 4,
   "metadata": {},
   "outputs": [
    {
     "name": "stdout",
     "output_type": "stream",
     "text": [
      "In 7 Seconds WhatsApp will open and after 15 Seconds Message will be Delivered!\n"
     ]
    }
   ],
   "source": [
    "import pywhatkit\n",
    "pywhatkit.sendwhatmsg(\"+923072770751\", \"Hello ahamd!\", 4, 26)\n"
   ]
  },
  {
   "cell_type": "code",
   "execution_count": 11,
   "metadata": {},
   "outputs": [
    {
     "name": "stdout",
     "output_type": "stream",
     "text": [
      "Message sent to +923072770751\n",
      "Message sent to +923117220081\n",
      "Message sent to +923072770751\n"
     ]
    }
   ],
   "source": [
    "import pywhatkit as kit\n",
    "import time\n",
    "\n",
    "numbers = [\"+923072770751\", \"+923117220081\", \"+923072770751\"]  \n",
    "message = \"Hello from Python!\"\n",
    "\n",
    "for number in numbers:\n",
    "    kit.sendwhatmsg_instantl\n",
    "    y(number, message, wait_time=10)  # wait_time prevents quick closing\n",
    "    print(f\"Message sent to {number}\")\n",
    "    time.sleep(5)  # Delay to avoid spam detection\n"
   ]
  },
  {
   "cell_type": "code",
   "execution_count": null,
   "metadata": {},
   "outputs": [],
   "source": [
    "import pywhatkit\n",
    "import time\n",
    "\n",
    "numbers = [\"+923001234567\", \"+923112345678\", \"+923221234567\"]  # Add more numbers here\n",
    "message = \"Hello from Python!\"\n",
    "hour, minute = 15, 30  # Set the initial time\n",
    "\n",
    "for number in numbers:\n",
    "    pywhatkit.sendwhatmsg(number, message, hour, minute)\n",
    "    print(f\"Message sent to {number}\")\n",
    "    \n",
    "    # Increase time for the next message (WhatsApp needs a gap of at least 1-2 mins)\n",
    "    minute += 2  \n",
    "    time.sleep(10)  # Small delay to avoid issues\n"
   ]
  },
  {
   "cell_type": "code",
   "execution_count": 1,
   "metadata": {},
   "outputs": [
    {
     "name": "stdout",
     "output_type": "stream",
     "text": [
      "In 86381 Seconds WhatsApp will open and after 15 Seconds Message will be Delivered!\n"
     ]
    },
    {
     "ename": "",
     "evalue": "",
     "output_type": "error",
     "traceback": [
      "\u001b[1;31mThe Kernel crashed while executing code in the current cell or a previous cell. \n",
      "\u001b[1;31mPlease review the code in the cell(s) to identify a possible cause of the failure. \n",
      "\u001b[1;31mClick <a href='https://aka.ms/vscodeJupyterKernelCrash'>here</a> for more info. \n",
      "\u001b[1;31mView Jupyter <a href='command:jupyter.viewOutput'>log</a> for further details."
     ]
    }
   ],
   "source": [
    "import pywhatkit as kit\n",
    "import time\n",
    "\n",
    "# List of recipient phone numbers (include country codes)\n",
    "phone_numbers = [\n",
    "    \"+923072770751\", \n",
    "    \"+923117220081\", \n",
    "    \"+923072770751\"\n",
    "]\n",
    "\n",
    "# The message you want to send\n",
    "message = \"Hello from Python! This is a bulk message.\"\n",
    "\n",
    "# Set an initial time for the first message (24-hour format)\n",
    "# For example, if you want to send the first message at 15:30, set hour and minute accordingly.\n",
    "hour = 4\n",
    "minute = 38\n",
    "\n",
    "# Loop through each phone number\n",
    "for number in phone_numbers:\n",
    "    # Schedule the message\n",
    "    kit.sendwhatmsg(number, message, hour, minute, wait_time=15, tab_close=True)\n",
    "    print(f\"Scheduled message to {number} at {hour}:{minute}\")\n",
    "    \n",
    "    # Increase the minute for the next message by at least 2 minutes\n",
    "    # This prevents overlapping and gives WhatsApp Web time to load.\n",
    "    minute += 2\n",
    "    \n",
    "    # If minute goes beyond 59, adjust hour and minute accordingly\n",
    "    if minute >= 60:\n",
    "        hour += minute // 60\n",
    "        minute = minute % 60\n",
    "    \n",
    "    # Optional: Add a small delay between iterations\n",
    "    time.sleep(10)\n"
   ]
  },
  {
   "cell_type": "code",
   "execution_count": 6,
   "metadata": {},
   "outputs": [
    {
     "name": "stdout",
     "output_type": "stream",
     "text": [
      "No headlines found. Check the HTML structure.\n"
     ]
    }
   ],
   "source": [
    "import requests\n",
    "from bs4 import BeautifulSoup\n",
    "\n",
    "url = \"https://www.nexskill.com\"  # Apni target website ka URL dalain\n",
    "headers = {\n",
    "    \"User-Agent\": \"Mozilla/5.0 (Windows NT 10.0; Win64; x64)\"  # Fake browser user-agent\n",
    "}\n",
    "\n",
    "response = requests.get(url, headers=headers)\n",
    "\n",
    "if response.status_code == 200:\n",
    "    soup = BeautifulSoup(response.text, 'html.parser')\n",
    "    \n",
    "    # Agar headlines kisi class \"headline\" ke andar hain\n",
    "    headlines = soup.find_all('h2', class_=\"headline\")  # Class specify karein\n",
    "    \n",
    "    if headlines:\n",
    "        print(\"Headlines:\")\n",
    "        for idx, headline in enumerate(headlines, start=1):\n",
    "            print(f\"{idx}. {headline.text.strip()}\")\n",
    "    else:\n",
    "        print(\"No headlines found. Check the HTML structure.\")\n",
    "else:\n",
    "    print(\"Failed to fetch data, Status code:\", response.status_code)\n"
   ]
  },
  {
   "cell_type": "code",
   "execution_count": 8,
   "metadata": {},
   "outputs": [
    {
     "name": "stdout",
     "output_type": "stream",
     "text": [
      "No headlines found. Check the HTML structure.\n"
     ]
    }
   ],
   "source": [
    "import requests\n",
    "from bs4 import BeautifulSoup\n",
    "\n",
    "url = \"https://www.p2pclouds.net\"  # Apna URL yahan dalein\n",
    "headers = {\n",
    "    \"User-Agent\": \"Mozilla/5.0 (Windows NT 10.0; Win64; x64)\"\n",
    "}\n",
    "response = requests.get(url, headers=headers)\n",
    "\n",
    "if response.status_code == 200:\n",
    "    soup = BeautifulSoup(response.text, 'html.parser')\n",
    "    \n",
    "    # Updated selector: h2 tag with class \"news-title\"\n",
    "    headlines = soup.find_all('h2', class_=\"news-title\")\n",
    "    \n",
    "    if headlines:\n",
    "        print(\"Headlines:\")\n",
    "        for idx, headline in enumerate(headlines, start=1):\n",
    "            print(f\"{idx}. {headline.text.strip()}\")\n",
    "    else:\n",
    "        print(\"No headlines found. Check the HTML structure.\")\n",
    "else:\n",
    "    print(\"Failed to fetch data, Status code:\", response.status_code)\n"
   ]
  },
  {
   "cell_type": "code",
   "execution_count": 14,
   "metadata": {},
   "outputs": [
    {
     "name": "stdout",
     "output_type": "stream",
     "text": [
      "Obfuscated Reality Mappers (ORMs) can be useful database tools.\n"
     ]
    }
   ],
   "source": [
    "import pyjokes\n",
    "joke = pyjokes.get_joke(\"en\", \"neutral\")\n",
    "sorry = \"sorry you entr wrong words\"\n",
    "def app():\n",
    "    use_input = input(\"enter your joke\") \n",
    "    if \"joke\" in use_input:\n",
    "        print(joke)\n",
    "    else:\n",
    "        print(f\"wrong entry {sorry}\")\n",
    "app()  \n"
   ]
  },
  {
   "cell_type": "code",
   "execution_count": null,
   "metadata": {},
   "outputs": [
    {
     "data": {
      "text/plain": [
       "['CATEGORY_VALUES',\n",
       " 'LANGUAGE_VALUES',\n",
       " '__builtins__',\n",
       " '__cached__',\n",
       " '__doc__',\n",
       " '__file__',\n",
       " '__loader__',\n",
       " '__name__',\n",
       " '__package__',\n",
       " '__path__',\n",
       " '__spec__',\n",
       " 'exc',\n",
       " 'forever',\n",
       " 'get_joke',\n",
       " 'get_jokes',\n",
       " 'jokes_cs',\n",
       " 'jokes_de',\n",
       " 'jokes_en',\n",
       " 'jokes_es',\n",
       " 'jokes_eu',\n",
       " 'jokes_fr',\n",
       " 'jokes_gl',\n",
       " 'jokes_hu',\n",
       " 'jokes_it',\n",
       " 'jokes_lt',\n",
       " 'jokes_pl',\n",
       " 'jokes_ru',\n",
       " 'jokes_sv',\n",
       " 'pyjokes']"
      ]
     },
     "execution_count": 12,
     "metadata": {},
     "output_type": "execute_result"
    }
   ],
   "source": []
  },
  {
   "cell_type": "code",
   "execution_count": null,
   "metadata": {},
   "outputs": [],
   "source": []
  }
 ],
 "metadata": {
  "kernelspec": {
   "display_name": "Python 3",
   "language": "python",
   "name": "python3"
  },
  "language_info": {
   "codemirror_mode": {
    "name": "ipython",
    "version": 3
   },
   "file_extension": ".py",
   "mimetype": "text/x-python",
   "name": "python",
   "nbconvert_exporter": "python",
   "pygments_lexer": "ipython3",
   "version": "3.10.11"
  }
 },
 "nbformat": 4,
 "nbformat_minor": 2
}
