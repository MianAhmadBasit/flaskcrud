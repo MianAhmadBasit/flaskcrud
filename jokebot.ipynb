{
 "cells": [
  {
   "cell_type": "code",
   "execution_count": 1,
   "metadata": {},
   "outputs": [
    {
     "name": "stdout",
     "output_type": "stream",
     "text": [
      "sorry i tellonly jokes wrong entry\n"
     ]
    }
   ],
   "source": [
    "joke  = \"you are lier \"\n",
    "sorry = \"wrong entry\"\n",
    "def bot():\n",
    "    use_Input = input(\"what u want\")\n",
    "    if \"joke\" in use_Input:\n",
    "        print(joke)\n",
    "    else:\n",
    "        print(f\"sorry i tellonly jokes {sorry}\")\n",
    "    \n",
    "\n",
    " \n",
    "bot()"
   ]
  },
  {
   "cell_type": "code",
   "execution_count": 1,
   "metadata": {},
   "outputs": [
    {
     "data": {
      "text/plain": [
       "['CATEGORY_VALUES',\n",
       " 'LANGUAGE_VALUES',\n",
       " '__builtins__',\n",
       " '__cached__',\n",
       " '__doc__',\n",
       " '__file__',\n",
       " '__loader__',\n",
       " '__name__',\n",
       " '__package__',\n",
       " '__path__',\n",
       " '__spec__',\n",
       " 'exc',\n",
       " 'forever',\n",
       " 'get_joke',\n",
       " 'get_jokes',\n",
       " 'jokes_cs',\n",
       " 'jokes_de',\n",
       " 'jokes_en',\n",
       " 'jokes_es',\n",
       " 'jokes_eu',\n",
       " 'jokes_fr',\n",
       " 'jokes_gl',\n",
       " 'jokes_hu',\n",
       " 'jokes_it',\n",
       " 'jokes_lt',\n",
       " 'jokes_pl',\n",
       " 'jokes_ru',\n",
       " 'jokes_sv',\n",
       " 'pyjokes']"
      ]
     },
     "execution_count": 1,
     "metadata": {},
     "output_type": "execute_result"
    }
   ],
   "source": [
    "import pyjokes\n",
    "dir(pyjokes)"
   ]
  },
  {
   "cell_type": "code",
   "execution_count": 3,
   "metadata": {},
   "outputs": [
    {
     "name": "stdout",
     "output_type": "stream",
     "text": [
      "Writing PHP is like peeing in the swimming pool, everyone did it, but we don't need to bring it up in public.\n"
     ]
    }
   ],
   "source": [
    "import pyjokes\n",
    "print(pyjokes.get_joke())"
   ]
  },
  {
   "cell_type": "code",
   "execution_count": 7,
   "metadata": {},
   "outputs": [
    {
     "name": "stdout",
     "output_type": "stream",
     "text": [
      "To understand recursion you must first understand recursion.\n"
     ]
    }
   ],
   "source": [
    "import pyjokes\n",
    "joke  = pyjokes.get_joke(\"en\", \"neutral\")\n",
    "sorry = \"wrong entry\"\n",
    "def bot():\n",
    "    use_Input = input(\"what u want\")\n",
    "    if \"joke\" in use_Input:\n",
    "        print(joke)\n",
    "    else:\n",
    "        print(f\"sorry i tellonly jokes {sorry}\")\n",
    "    \n",
    "\n",
    " \n",
    "bot()"
   ]
  },
  {
   "cell_type": "code",
   "execution_count": 2,
   "metadata": {},
   "outputs": [
    {
     "ename": "ModuleNotFoundError",
     "evalue": "No module named 'urdu2roman'",
     "output_type": "error",
     "traceback": [
      "\u001b[1;31m---------------------------------------------------------------------------\u001b[0m",
      "\u001b[1;31mModuleNotFoundError\u001b[0m                       Traceback (most recent call last)",
      "Cell \u001b[1;32mIn[2], line 1\u001b[0m\n\u001b[1;32m----> 1\u001b[0m \u001b[38;5;28;01mimport\u001b[39;00m\u001b[38;5;250m \u001b[39m\u001b[38;5;21;01murdu2roman\u001b[39;00m\n\u001b[0;32m      2\u001b[0m \u001b[38;5;28mdir\u001b[39m(urdu2roman)\n",
      "\u001b[1;31mModuleNotFoundError\u001b[0m: No module named 'urdu2roman'"
     ]
    }
   ],
   "source": [
    "import urdu2roman\n",
    "dir(urdu2roman)"
   ]
  },
  {
   "cell_type": "code",
   "execution_count": 3,
   "metadata": {},
   "outputs": [
    {
     "ename": "ModuleNotFoundError",
     "evalue": "No module named 'urdu2roman'",
     "output_type": "error",
     "traceback": [
      "\u001b[1;31m---------------------------------------------------------------------------\u001b[0m",
      "\u001b[1;31mModuleNotFoundError\u001b[0m                       Traceback (most recent call last)",
      "Cell \u001b[1;32mIn[3], line 1\u001b[0m\n\u001b[1;32m----> 1\u001b[0m \u001b[38;5;28;01mimport\u001b[39;00m\u001b[38;5;250m \u001b[39m\u001b[38;5;21;01murdu2roman\u001b[39;00m\n\u001b[0;32m      2\u001b[0m \u001b[38;5;28mdir\u001b[39m(urdu2roman)\n",
      "\u001b[1;31mModuleNotFoundError\u001b[0m: No module named 'urdu2roman'"
     ]
    }
   ],
   "source": [
    "import urdu2roman\n",
    "dir(urdu2roman)"
   ]
  },
  {
   "cell_type": "code",
   "execution_count": null,
   "metadata": {},
   "outputs": [
    {
     "name": "stdout",
     "output_type": "stream",
     "text": [
      "In 79425 Seconds WhatsApp will open and after 15 Seconds Message will be Delivered!\n"
     ]
    }
   ],
   "source": [
    "import pywhatkit\n",
    "pywhatkit.sendwhatmsg(\"+923072770751\", \"Hello ahamd!\", , 13)\n"
   ]
  },
  {
   "cell_type": "code",
   "execution_count": 1,
   "metadata": {},
   "outputs": [
    {
     "ename": "AttributeError",
     "evalue": "module 'pywhatkit' has no attribute 'sendwhatmsg_instantl'",
     "output_type": "error",
     "traceback": [
      "\u001b[1;31m---------------------------------------------------------------------------\u001b[0m",
      "\u001b[1;31mAttributeError\u001b[0m                            Traceback (most recent call last)",
      "Cell \u001b[1;32mIn[1], line 8\u001b[0m\n\u001b[0;32m      5\u001b[0m message \u001b[38;5;241m=\u001b[39m \u001b[38;5;124m\"\u001b[39m\u001b[38;5;124mHello from Python!\u001b[39m\u001b[38;5;124m\"\u001b[39m\n\u001b[0;32m      7\u001b[0m \u001b[38;5;28;01mfor\u001b[39;00m number \u001b[38;5;129;01min\u001b[39;00m numbers:\n\u001b[1;32m----> 8\u001b[0m     \u001b[43mkit\u001b[49m\u001b[38;5;241;43m.\u001b[39;49m\u001b[43msendwhatmsg_instantl\u001b[49m\n\u001b[0;32m      9\u001b[0m     y(number, message, wait_time\u001b[38;5;241m=\u001b[39m\u001b[38;5;241m10\u001b[39m)  \u001b[38;5;66;03m# wait_time prevents quick closing\u001b[39;00m\n\u001b[0;32m     10\u001b[0m     \u001b[38;5;28mprint\u001b[39m(\u001b[38;5;124mf\u001b[39m\u001b[38;5;124m\"\u001b[39m\u001b[38;5;124mMessage sent to \u001b[39m\u001b[38;5;132;01m{\u001b[39;00mnumber\u001b[38;5;132;01m}\u001b[39;00m\u001b[38;5;124m\"\u001b[39m)\n",
      "\u001b[1;31mAttributeError\u001b[0m: module 'pywhatkit' has no attribute 'sendwhatmsg_instantl'"
     ]
    }
   ],
   "source": [
    "import pywhatkit as kit\n",
    "import time\n",
    "\n",
    "numbers = [\"+923072770751\", \"+923117220081\", \"+923072770751\"]  \n",
    "message = \"Hello from Python!\"\n",
    "\n",
    "for number in numbers:\n",
    "    kit.sendwhatmsg_instantl\n",
    "    y(number, message, wait_time=10)  # wait_time prevents quick closing\n",
    "    print(f\"Message sent to {number}\")\n",
    "    time.sleep(5)  # Delay to avoid spam detection\n"
   ]
  },
  {
   "cell_type": "code",
   "execution_count": null,
   "metadata": {},
   "outputs": [
    {
     "name": "stdout",
     "output_type": "stream",
     "text": [
      "In 1117 Seconds WhatsApp will open and after 15 Seconds Message will be Delivered!\n"
     ]
    }
   ],
   "source": [
    "import pywhatkit\n",
    "import time\n",
    "\n",
    "numbers = [\"+923001234567\", \"+923112345678\", \"+923221234567\"]  # Add more numbers here\n",
    "message = \"Hello from Python!\"\n",
    "hour, minute = 15, 30  # Set the initial time\n",
    "\n",
    "for number in numbers:\n",
    "    pywhatkit.sendwhatmsg(number, message, hour, minute)\n",
    "    print(f\"Message sent to {number}\")\n",
    "    \n",
    "    # Increase time for the next message (WhatsApp needs a gap of at least 1-2 mins)\n",
    "    minute += 2  \n",
    "    time.sleep(10)  # Small delay to avoid issues\n"
   ]
  },
  {
   "cell_type": "code",
   "execution_count": 1,
   "metadata": {},
   "outputs": [
    {
     "name": "stdout",
     "output_type": "stream",
     "text": [
      "In 86381 Seconds WhatsApp will open and after 15 Seconds Message will be Delivered!\n"
     ]
    },
    {
     "ename": "",
     "evalue": "",
     "output_type": "error",
     "traceback": [
      "\u001b[1;31mThe Kernel crashed while executing code in the current cell or a previous cell. \n",
      "\u001b[1;31mPlease review the code in the cell(s) to identify a possible cause of the failure. \n",
      "\u001b[1;31mClick <a href='https://aka.ms/vscodeJupyterKernelCrash'>here</a> for more info. \n",
      "\u001b[1;31mView Jupyter <a href='command:jupyter.viewOutput'>log</a> for further details."
     ]
    }
   ],
   "source": [
    "import pywhatkit as kit\n",
    "import time\n",
    "\n",
    "# List of recipient phone numbers (include country codes)\n",
    "phone_numbers = [\n",
    "    \"+923072770751\", \n",
    "    \"+923117220081\", \n",
    "    \"+923072770751\"\n",
    "]\n",
    "\n",
    "# The message you want to send\n",
    "message = \"Hello from Python! This is a bulk message.\"\n",
    "\n",
    "# Set an initial time for the first message (24-hour format)\n",
    "# For example, if you want to send the first message at 15:30, set hour and minute accordingly.\n",
    "hour = 4\n",
    "minute = 38\n",
    "\n",
    "# Loop through each phone number\n",
    "for number in phone_numbers:\n",
    "    # Schedule the message\n",
    "    kit.sendwhatmsg(number, message, hour, minute, wait_time=15, tab_close=True)\n",
    "    print(f\"Scheduled message to {number} at {hour}:{minute}\")\n",
    "    \n",
    "    # Increase the minute for the next message by at least 2 minutes\n",
    "    # This prevents overlapping and gives WhatsApp Web time to load.\n",
    "    minute += 2\n",
    "    \n",
    "    # If minute goes beyond 59, adjust hour and minute accordingly\n",
    "    if minute >= 60:\n",
    "        hour += minute // 60\n",
    "        minute = minute % 60\n",
    "    \n",
    "    # Optional: Add a small delay between iterations\n",
    "    time.sleep(10)\n"
   ]
  },
  {
   "cell_type": "code",
   "execution_count": 6,
   "metadata": {},
   "outputs": [
    {
     "name": "stdout",
     "output_type": "stream",
     "text": [
      "No headlines found. Check the HTML structure.\n"
     ]
    }
   ],
   "source": [
    "import requests\n",
    "from bs4 import BeautifulSoup\n",
    "\n",
    "url = \"https://www.nexskill.com\"  # Apni target website ka URL dalain\n",
    "headers = {\n",
    "    \"User-Agent\": \"Mozilla/5.0 (Windows NT 10.0; Win64; x64)\"  # Fake browser user-agent\n",
    "}\n",
    "\n",
    "response = requests.get(url, headers=headers)\n",
    "\n",
    "if response.status_code == 200:\n",
    "    soup = BeautifulSoup(response.text, 'html.parser')\n",
    "    \n",
    "    # Agar headlines kisi class \"headline\" ke andar hain\n",
    "    headlines = soup.find_all('h2', class_=\"headline\")  # Class specify karein\n",
    "    \n",
    "    if headlines:\n",
    "        print(\"Headlines:\")\n",
    "        for idx, headline in enumerate(headlines, start=1):\n",
    "            print(f\"{idx}. {headline.text.strip()}\")\n",
    "    else:\n",
    "        print(\"No headlines found. Check the HTML structure.\")\n",
    "else:\n",
    "    print(\"Failed to fetch data, Status code:\", response.status_code)\n"
   ]
  },
  {
   "cell_type": "code",
   "execution_count": 8,
   "metadata": {},
   "outputs": [
    {
     "name": "stdout",
     "output_type": "stream",
     "text": [
      "No headlines found. Check the HTML structure.\n"
     ]
    }
   ],
   "source": [
    "import requests\n",
    "from bs4 import BeautifulSoup\n",
    "\n",
    "url = \"https://www.p2pclouds.net\"  # Apna URL yahan dalein\n",
    "headers = {\n",
    "    \"User-Agent\": \"Mozilla/5.0 (Windows NT 10.0; Win64; x64)\"\n",
    "}\n",
    "response = requests.get(url, headers=headers)\n",
    "\n",
    "if response.status_code == 200:\n",
    "    soup = BeautifulSoup(response.text, 'html.parser')\n",
    "    \n",
    "    # Updated selector: h2 tag with class \"news-title\"\n",
    "    headlines = soup.find_all('h2', class_=\"news-title\")\n",
    "    \n",
    "    if headlines:\n",
    "        print(\"Headlines:\")\n",
    "        for idx, headline in enumerate(headlines, start=1):\n",
    "            print(f\"{idx}. {headline.text.strip()}\")\n",
    "    else:\n",
    "        print(\"No headlines found. Check the HTML structure.\")\n",
    "else:\n",
    "    print(\"Failed to fetch data, Status code:\", response.status_code)\n"
   ]
  },
  {
   "cell_type": "code",
   "execution_count": 14,
   "metadata": {},
   "outputs": [
    {
     "name": "stdout",
     "output_type": "stream",
     "text": [
      "Obfuscated Reality Mappers (ORMs) can be useful database tools.\n"
     ]
    }
   ],
   "source": [
    "import pyjokes\n",
    "joke = pyjokes.get_joke(\"en\", \"neutral\")\n",
    "sorry = \"sorry you entr wrong words\"\n",
    "def app():\n",
    "    use_input = input(\"enter your joke\") \n",
    "    if \"joke\" in use_input:\n",
    "        print(joke)\n",
    "    else:\n",
    "        print(f\"wrong entry {sorry}\")\n",
    "app()  \n"
   ]
  },
  {
   "cell_type": "code",
   "execution_count": null,
   "metadata": {},
   "outputs": [
    {
     "data": {
      "text/plain": [
       "['CATEGORY_VALUES',\n",
       " 'LANGUAGE_VALUES',\n",
       " '__builtins__',\n",
       " '__cached__',\n",
       " '__doc__',\n",
       " '__file__',\n",
       " '__loader__',\n",
       " '__name__',\n",
       " '__package__',\n",
       " '__path__',\n",
       " '__spec__',\n",
       " 'exc',\n",
       " 'forever',\n",
       " 'get_joke',\n",
       " 'get_jokes',\n",
       " 'jokes_cs',\n",
       " 'jokes_de',\n",
       " 'jokes_en',\n",
       " 'jokes_es',\n",
       " 'jokes_eu',\n",
       " 'jokes_fr',\n",
       " 'jokes_gl',\n",
       " 'jokes_hu',\n",
       " 'jokes_it',\n",
       " 'jokes_lt',\n",
       " 'jokes_pl',\n",
       " 'jokes_ru',\n",
       " 'jokes_sv',\n",
       " 'pyjokes']"
      ]
     },
     "execution_count": 12,
     "metadata": {},
     "output_type": "execute_result"
    }
   ],
   "source": []
  },
  {
   "cell_type": "code",
   "execution_count": 21,
   "metadata": {},
   "outputs": [
    {
     "name": "stdout",
     "output_type": "stream",
     "text": [
      "[\"Complaining about the lack of smoking shelters, the nicotine addicted Python programmers said there ought to be 'spaces for tabs'.\", 'Ubuntu users are apt to get this joke.', 'Obfuscated Reality Mappers (ORMs) can be useful database tools.', 'Asked to explain Unicode during an interview, Geoff went into detail about his final year university project. He was not hired.', \"Triumphantly, Beth removed Python 2.7 from her server in 2030. 'Finally!' she said with glee, only to see the announcement for Python 4.4.\", \"An SQL query goes into a bar, walks up to two tables and asks, 'Can I join you?'\", 'When your hammer is C++, everything begins to look like a thumb.', 'If you put a million monkeys at a million keyboards, one of them will eventually write a Java program. The rest of them will write Perl.', 'To understand recursion you must first understand recursion.', \"I suggested holding a 'Python Object Oriented Programming Seminar', but the acronym was unpopular.\", \"'Knock, knock.' 'Who's there?' ... very long pause ... 'Java.'\", \"How many programmers does it take to change a lightbulb? None, that's a hardware problem.\", \"What's the object-oriented way to become wealthy? Inheritance.\", \"Why don't jokes work in octal? Because 7 10 11.\", 'How many programmers does it take to change a lightbulb? None, they just make darkness a standard.', \"Two bytes meet. The first byte asks, 'Are you ill?' The second byte replies, 'No, just feeling a bit off.'\", \"Two threads walk into a bar. The barkeeper looks up and yells, 'Hey, I want don't any conditions race like time last!'\", \"Old C programmers don't die, they're just cast into void.\", \"Eight bytes walk into a bar. The bartender asks, 'Can I get you anything?' 'Yeah,' replies the bytes. 'Make us a double.'\", \"Why did the programmer quit his job? Because he didn't get arrays.\", \"Why do Java programmers have to wear glasses? Because they don't see sharp.\", 'Software developers like to solve problems. If there are no problems handily available, they will create their own.', \".NET was named .NET so that it wouldn't show up in a Unix directory listing.\", 'Hardware: The part of a computer that you can kick.', \"A programmer was found dead in the shower. Next to their body was a bottle of shampoo with the instructions 'Lather, Rinse and Repeat'.\", 'Optimist: The glass is half full. Pessimist: The glass is half empty. Programmer: The glass is twice as large as necessary.', 'In C we had to code our own bugs. In C++ we can inherit them.', 'How come there is no obfuscated Perl contest? Because everyone would win.', \"If you play a Windows CD backwards, you'll hear satanic chanting ... worse still, if you play it forwards, it installs Windows.\", 'How many programmers does it take to kill a cockroach? Two: one holds, the other installs Windows on it.', 'What do you call a programmer from Finland? Nerdic.', \"What did the Java code say to the C code? A: You've got no class.\", \"Why did Microsoft name their search engine BING? Because It's Not Google.\", \"Pirates go 'arg!', computer pirates go 'argv!'\", 'Software salesmen and used-car salesmen differ in that the latter know when they are lying.', \"Child: Dad, why does the sun rise in the east and set in the west? Dad: Son, it's working, don't touch it.\", 'Why do programmers confuse Halloween with Christmas? Because OCT 31 == DEC 25.', 'How many Prolog programmers does it take to change a lightbulb? false.', 'Real programmers can write assembly code in any language.', 'Waiter: Would you like coffee or tea? Programmer: Yes.', 'What do you get when you cross a cat and a dog? Cat dog sin theta.', \"If loving you is ROM I don't wanna read write.\", 'A programmer walks into a foo...', \"A programmer walks into a bar and orders 1.38 root beers. The bartender informs her it's a root beer float. She says 'Make it a double!'\", \"What is Benoit B. Mandelbrot's middle name? Benoit B. Mandelbrot.\", \"Why are you always smiling? That's just my... regular expression.\", 'ASCII stupid question, get a stupid ANSI.', \"A programmer had a problem. He thought to himself, 'I know, I'll solve it with threads!'. has Now problems. two he\", 'Why do sin and tan work? Just cos.', 'Java: Write once, run away.', 'I would tell you a joke about UDP, but you would never get it.', 'A QA engineer walks into a bar. Runs into a bar. Crawls into a bar. Dances into a bar. Tiptoes into a bar. Rams a bar. Jumps into a bar.', \"My friend's in a band called '1023 Megabytes'... They haven't got a gig yet!\", \"I had a problem so I thought I'd use Java. Now I have a ProblemFactory.\", 'QA Engineer walks into a bar. Orders a beer. Orders 0 beers. Orders 999999999 beers. Orders a lizard. Orders -1 beers. Orders a sfdeljknesv.', 'A product manager walks into a bar, asks for drink. Bartender says no, but will consider adding later.', 'How do you generate a random string? Put a first year Computer Science student in Vim and ask them to save and exit.', \"I've been using Vim for a long time now, mainly because I can't figure out how to exit.\", \"How do you know whether a person is a Vim user? Don't worry, they'll tell you.\", \"Waiter: He's choking! Is anyone a doctor? Programmer: I'm a Vim user.\", \"3 Database Admins walked into a NoSQL bar. A little while later they walked out because they couldn't find a table.\", 'How to explain the movie Inception to a programmer? When you run a VM inside another VM, inside another VM ... everything runs real slow!', 'What do you call a parrot that says \"Squawk! Pieces of nine! Pieces of nine!\"? A parrot-ey error.', 'There are only two hard problems in Computer Science: cache invalidation, naming things and off-by-one-errors.', \"There are 10 types of people: those who understand binary and those who don't.\", 'There are 2 types of people: those who can extrapolate from incomplete data sets...', \"There are II types of people: Those who understand Roman Numerals and those who don't.\", 'There are 10 types of people: those who understand hexadecimal and 15 others.', \"There are 10 types of people: those who understand binary, those who don't, and those who were expecting this joke to be in trinary.\", \"There are 10 types of people: those who understand trinary, those who don't, and those who have never heard of it.\", 'What do you call eight hobbits? A hobbyte.', 'The best thing about a Boolean is even if you are wrong, you are only off by a bit.', 'A good programmer is someone who always looks both ways before crossing a one-way street.', 'There are two ways to write error-free programs; only the third one works.', 'QAs consist of 55% water, 30% blood and 15% Jira tickets.', 'Sympathy for the Devil is really just about being nice to QAs.', \"How many QAs does it take to change a lightbulb? They noticed that the room was dark. They don't fix problems, they find them.\", 'A programmer crashes a car at the bottom of a hill, a bystander asks what happened, he says \"No idea. Let\\'s push it back up and try again\".', \"What do you mean 911 is only for emergencies? I've got a merge conflict.\", \"Writing PHP is like peeing in the swimming pool, everyone did it, but we don't need to bring it up in public.\", \"Why did the QA cross the road? To ruin everyone's day.\", 'Number of days since I have encountered an array index error: -1.', 'Number of days since I have encountered an off-by-one error: 0.', 'Speed dating is useless. 5 minutes is not enough to properly explain the benefits of the Unix philosophy.', 'Microsoft hold a bi-monthly internal \"productive week\" where they use Google instead of Bing.', \"Schrodinger's attitude to web development: If I don't look at it in Internet Explorer then there's a chance it looks fine.\", 'Finding a good PHP developer is like looking for a needle in a haystack. Or is it a hackstack in a needle?', \"Unix is user friendly. It's just very particular about who its friends are.\", 'A COBOL programmer makes millions with Y2K remediation and decides to get cryogenically frozen. \"The year is 9999. You know COBOL, right?\"', 'The C language combines all the power of assembly language with all the ease-of-use of assembly language.', 'An SEO expert walks into a bar, bars, pub, public house, Irish pub, tavern, bartender, beer, liquor, wine, alcohol, spirits...', \"What does 'Emacs' stand for? 'Exclusively used by middle aged computer scientists.'\", 'What does pyjokes have in common with Adobe Flash? It gets updated all the time, but never gets any better.', \"Why does Waldo only wear stripes? Because he doesn't want to be spotted.\", 'I went to a street where the houses were numbered 8k, 16k, 32k, 64k, 128k, 256k and 512k. It was a trip down Memory Lane.', \"!false, (It's funny because it's true)\", \"['hip', 'hip'] (hip hip array!)\", \"Programmer: The ship I boarded crashed and I am dying! Project Manager: Then let's do a quick knowledge transfer session before you go.\", 'Are you a RESTful API? because you GET my attention, PUT some love, POST the cutest smile, and DELETE my bad day.', 'I used to know a joke about Java, but I run out of memory.', 'My girlfriend dumped me after I named a class after her. She felt I treated her like an object.', 'Girl: Do you drink? Programmer: No. Girl: Have Girlfriend? Programmer: No. Girl: Then how do you enjoy life? Programmer: I am Programmer', 'A Programmer was walking out of door for work, his wife said \"while you\\'re out, buy some milk\" and he never returned.', 'A: What is your address? Me: 173.168.15.10 A: No, your local address Me: 127.0.0.1 A: I mean your physical address B: 29:01:38:62:31:58', 'Why do programmers always mix up Halloween and Christmas? Because Oct 31 equals Dec 25.', 'Programming is 10% science, 20% ingenuity, and 70% getting the ingenuity to work with the science.', 'There are three kinds of lies: Lies, damned lies, and benchmarks.', 'All programmers are playwrights, and all computers are lousy actors.', \"Have you heard about the new Cray super computer? It's so fast, it executes an infinite loop in 6 seconds.\", 'The generation of random numbers is too important to be left to chance.', 'I just saw my life flash before my eyes and all I could see was a close tag.', 'The computer is mightier than the pen, the sword, and usually, the programmer', 'Debugging: Removing the needles from the haystack.', 'If doctors were like software engineers, they would say things like Have you tried killing yourself and being reborn?', 'Debugging is like being the detective in a crime drama where you are also the murderer.', 'The best thing about a Boolean is that even if you are wrong, you are only off by a bit.', 'If you listen to a UNIX shell, can you hear the C?', \"Why do Java programmers have to wear glasses? Because they don't C#.\", 'When Apple employees die, does their life HTML5 in front of their eyes?', 'What did the router say to the doctor? It hurts when IP.', 'Learning JavaScript is like looking both ways before you cross the street, and then getting hit by an airplane.', 'I for one am excited for the days when dereferencing a null pointer causes an aneurysm.', 'Debugging is like an onion. There are multiple layers to it, and the more you peel them back.', \"When your code does not change color automatically, Something's wrong, I can feel it.\", 'I have a joke on programming but it only works on my computer.', \"Why do you always use i and j variales in loops? It's the law......\", 'As far as we know, our computer has never had an undetected error.', 'A user friendly computer first requires a friendly user.', \"Bug? That's not a bug, that's a feature.\", 'Buy a Pentium 586/200 so you can reboot faster.', \"Computer analyst to programmer: You start coding. I'll go find out what they want.\", 'Computer programmers do it byte by byte.', \"Don't compute and drive; the life you save may be your own.\", 'How an engineer writes a program: Start by debugging an empty file...', \"If at first you don't succeed, call it version 1.0.\", 'I have a dream: 1073741824 bytes free.', \"I haven't lost my mind; it's backed up on tape somewhere.\", 'Is reading in the bathroom considered Multi-Tasking.', \"Never say 'OOPS!' always say 'Ah, Interesting!'\", \"One person's error is another person's data.\", 'Press CTRL-ALT-DEL to continue....', \"Programmer's Time-Space Continuum: Programmers continuously space the time.\", 'Speed Kills! Use Windows.', \"The box said: 'install on Windows 95, NT 4.0 or better'. So I installed it on Linux.\", 'The program is absolutely right; therefore the computer must be wrong.', \"There are only 10 types of people in this world: those who understand binary, and those who don't.\", 'There were computers in Biblical times. Eve had an Apple.', 'Those who can, do. Those who cannot, teach. Those who cannot teach, HACK!', 'User error: replace user and press any key to continue.', 'Warning, keyboard not found. Press Enter to continue.', \"Why do they call this a word processor? It's simple, ... you've seen what food processors do to food, right?\", 'Why do we want intelligent terminals when there are so many stupid users?', 'Windows is NOT a virus. Viruses DO something.', 'WINDOWS stands for Will Install Needless Data On Whole System.', 'You are making progress if each mistake is a new one.', 'You had mail, but the super-user read it, and deleted it!', 'You never finish a program, you just stop working on it.', \"You don't have to know how the computer works, just how to work the computer.\", \"You forgot to do your backup 16 days ago. Tomorrow you'll need that version.\", \"I love pressing the F5 key. It's refreshing.\", 'My favourite computer based band is the Black IPs.', \"Why was the developer bankrupt? He'd used all his cache.\", \"A friend is in a band called 1023Mb. They haven't had a gig yet.\", \"Apparently my password needs to be capitals only so I've changed it to LONDONMADRIDROME\", \"I changed my password to BeefStew but the computer told me it wasn't Stroganoff.\", \"Changed my password to fortnight but apparently that's two week.\", 'Artificial intelligence usually beats real stupidity.', 'The Internet: where men are men, women are men, and children are FBI agents.', 'Bugs come in through open Windows.', \"Unix is user friendly. It's just selective about who its friends are.\", 'Failure is not an option. It comes bundled with your Microsoft product.', 'Computers are like air conditioners: they stop working when you open Windows.', 'Beware of programmers that carry screwdrivers.', \"I'm not anti-social; I'm just not user friendly.\", 'Hey! It compiles! Ship it!', \"If Ruby is not and Perl is the answer, you don't understand the question.\", \"My attitude isn't bad. It's in beta.\", 'Programmers are tools for converting caffeine into code.', \"There are three kinds of people: those who can count and those who can't.\", 'Why do programmers prefer dark mode? Because light attracts bugs.']\n"
     ]
    }
   ],
   "source": [
    "import pyjokes\n",
    "\n",
    "joke = pyjokes.get_jokes(\"en\" , \"neutral\")\n",
    "sorry = \"sorry not provides \"\n",
    "\n",
    "def bot1():\n",
    "    user1 = input(\"Enter your joke\")\n",
    "    if \"joke\" in user1:\n",
    "        print(joke)\n",
    "    else:\n",
    "        print(sorry)\n",
    "        \n",
    "\n",
    "\n",
    "bot1()\n",
    "\n",
    "\n",
    "\n"
   ]
  },
  {
   "cell_type": "code",
   "execution_count": null,
   "metadata": {},
   "outputs": [
    {
     "name": "stdout",
     "output_type": "stream",
     "text": [
      "[\"Complaining about the lack of smoking shelters, the nicotine addicted Python programmers said there ought to be 'spaces for tabs'.\", 'Ubuntu users are apt to get this joke.', 'Obfuscated Reality Mappers (ORMs) can be useful database tools.', 'Asked to explain Unicode during an interview, Geoff went into detail about his final year university project. He was not hired.', \"Triumphantly, Beth removed Python 2.7 from her server in 2030. 'Finally!' she said with glee, only to see the announcement for Python 4.4.\", \"An SQL query goes into a bar, walks up to two tables and asks, 'Can I join you?'\", 'When your hammer is C++, everything begins to look like a thumb.', 'If you put a million monkeys at a million keyboards, one of them will eventually write a Java program. The rest of them will write Perl.', 'To understand recursion you must first understand recursion.', \"I suggested holding a 'Python Object Oriented Programming Seminar', but the acronym was unpopular.\", \"'Knock, knock.' 'Who's there?' ... very long pause ... 'Java.'\", \"How many programmers does it take to change a lightbulb? None, that's a hardware problem.\", \"What's the object-oriented way to become wealthy? Inheritance.\", \"Why don't jokes work in octal? Because 7 10 11.\", 'How many programmers does it take to change a lightbulb? None, they just make darkness a standard.', \"Two bytes meet. The first byte asks, 'Are you ill?' The second byte replies, 'No, just feeling a bit off.'\", \"Two threads walk into a bar. The barkeeper looks up and yells, 'Hey, I want don't any conditions race like time last!'\", \"Old C programmers don't die, they're just cast into void.\", \"Eight bytes walk into a bar. The bartender asks, 'Can I get you anything?' 'Yeah,' replies the bytes. 'Make us a double.'\", \"Why did the programmer quit his job? Because he didn't get arrays.\", \"Why do Java programmers have to wear glasses? Because they don't see sharp.\", 'Software developers like to solve problems. If there are no problems handily available, they will create their own.', \".NET was named .NET so that it wouldn't show up in a Unix directory listing.\", 'Hardware: The part of a computer that you can kick.', \"A programmer was found dead in the shower. Next to their body was a bottle of shampoo with the instructions 'Lather, Rinse and Repeat'.\", 'Optimist: The glass is half full. Pessimist: The glass is half empty. Programmer: The glass is twice as large as necessary.', 'In C we had to code our own bugs. In C++ we can inherit them.', 'How come there is no obfuscated Perl contest? Because everyone would win.', \"If you play a Windows CD backwards, you'll hear satanic chanting ... worse still, if you play it forwards, it installs Windows.\", 'How many programmers does it take to kill a cockroach? Two: one holds, the other installs Windows on it.', 'What do you call a programmer from Finland? Nerdic.', \"What did the Java code say to the C code? A: You've got no class.\", \"Why did Microsoft name their search engine BING? Because It's Not Google.\", \"Pirates go 'arg!', computer pirates go 'argv!'\", 'Software salesmen and used-car salesmen differ in that the latter know when they are lying.', \"Child: Dad, why does the sun rise in the east and set in the west? Dad: Son, it's working, don't touch it.\", 'Why do programmers confuse Halloween with Christmas? Because OCT 31 == DEC 25.', 'How many Prolog programmers does it take to change a lightbulb? false.', 'Real programmers can write assembly code in any language.', 'Waiter: Would you like coffee or tea? Programmer: Yes.', 'What do you get when you cross a cat and a dog? Cat dog sin theta.', \"If loving you is ROM I don't wanna read write.\", 'A programmer walks into a foo...', \"A programmer walks into a bar and orders 1.38 root beers. The bartender informs her it's a root beer float. She says 'Make it a double!'\", \"What is Benoit B. Mandelbrot's middle name? Benoit B. Mandelbrot.\", \"Why are you always smiling? That's just my... regular expression.\", 'ASCII stupid question, get a stupid ANSI.', \"A programmer had a problem. He thought to himself, 'I know, I'll solve it with threads!'. has Now problems. two he\", 'Why do sin and tan work? Just cos.', 'Java: Write once, run away.', 'I would tell you a joke about UDP, but you would never get it.', 'A QA engineer walks into a bar. Runs into a bar. Crawls into a bar. Dances into a bar. Tiptoes into a bar. Rams a bar. Jumps into a bar.', \"My friend's in a band called '1023 Megabytes'... They haven't got a gig yet!\", \"I had a problem so I thought I'd use Java. Now I have a ProblemFactory.\", 'QA Engineer walks into a bar. Orders a beer. Orders 0 beers. Orders 999999999 beers. Orders a lizard. Orders -1 beers. Orders a sfdeljknesv.', 'A product manager walks into a bar, asks for drink. Bartender says no, but will consider adding later.', 'How do you generate a random string? Put a first year Computer Science student in Vim and ask them to save and exit.', \"I've been using Vim for a long time now, mainly because I can't figure out how to exit.\", \"How do you know whether a person is a Vim user? Don't worry, they'll tell you.\", \"Waiter: He's choking! Is anyone a doctor? Programmer: I'm a Vim user.\", \"3 Database Admins walked into a NoSQL bar. A little while later they walked out because they couldn't find a table.\", 'How to explain the movie Inception to a programmer? When you run a VM inside another VM, inside another VM ... everything runs real slow!', 'What do you call a parrot that says \"Squawk! Pieces of nine! Pieces of nine!\"? A parrot-ey error.', 'There are only two hard problems in Computer Science: cache invalidation, naming things and off-by-one-errors.', \"There are 10 types of people: those who understand binary and those who don't.\", 'There are 2 types of people: those who can extrapolate from incomplete data sets...', \"There are II types of people: Those who understand Roman Numerals and those who don't.\", 'There are 10 types of people: those who understand hexadecimal and 15 others.', \"There are 10 types of people: those who understand binary, those who don't, and those who were expecting this joke to be in trinary.\", \"There are 10 types of people: those who understand trinary, those who don't, and those who have never heard of it.\", 'What do you call eight hobbits? A hobbyte.', 'The best thing about a Boolean is even if you are wrong, you are only off by a bit.', 'A good programmer is someone who always looks both ways before crossing a one-way street.', 'There are two ways to write error-free programs; only the third one works.', 'QAs consist of 55% water, 30% blood and 15% Jira tickets.', 'Sympathy for the Devil is really just about being nice to QAs.', \"How many QAs does it take to change a lightbulb? They noticed that the room was dark. They don't fix problems, they find them.\", 'A programmer crashes a car at the bottom of a hill, a bystander asks what happened, he says \"No idea. Let\\'s push it back up and try again\".', \"What do you mean 911 is only for emergencies? I've got a merge conflict.\", \"Writing PHP is like peeing in the swimming pool, everyone did it, but we don't need to bring it up in public.\", \"Why did the QA cross the road? To ruin everyone's day.\", 'Number of days since I have encountered an array index error: -1.', 'Number of days since I have encountered an off-by-one error: 0.', 'Speed dating is useless. 5 minutes is not enough to properly explain the benefits of the Unix philosophy.', 'Microsoft hold a bi-monthly internal \"productive week\" where they use Google instead of Bing.', \"Schrodinger's attitude to web development: If I don't look at it in Internet Explorer then there's a chance it looks fine.\", 'Finding a good PHP developer is like looking for a needle in a haystack. Or is it a hackstack in a needle?', \"Unix is user friendly. It's just very particular about who its friends are.\", 'A COBOL programmer makes millions with Y2K remediation and decides to get cryogenically frozen. \"The year is 9999. You know COBOL, right?\"', 'The C language combines all the power of assembly language with all the ease-of-use of assembly language.', 'An SEO expert walks into a bar, bars, pub, public house, Irish pub, tavern, bartender, beer, liquor, wine, alcohol, spirits...', \"What does 'Emacs' stand for? 'Exclusively used by middle aged computer scientists.'\", 'What does pyjokes have in common with Adobe Flash? It gets updated all the time, but never gets any better.', \"Why does Waldo only wear stripes? Because he doesn't want to be spotted.\", 'I went to a street where the houses were numbered 8k, 16k, 32k, 64k, 128k, 256k and 512k. It was a trip down Memory Lane.', \"!false, (It's funny because it's true)\", \"['hip', 'hip'] (hip hip array!)\", \"Programmer: The ship I boarded crashed and I am dying! Project Manager: Then let's do a quick knowledge transfer session before you go.\", 'Are you a RESTful API? because you GET my attention, PUT some love, POST the cutest smile, and DELETE my bad day.', 'I used to know a joke about Java, but I run out of memory.', 'My girlfriend dumped me after I named a class after her. She felt I treated her like an object.', 'Girl: Do you drink? Programmer: No. Girl: Have Girlfriend? Programmer: No. Girl: Then how do you enjoy life? Programmer: I am Programmer', 'A Programmer was walking out of door for work, his wife said \"while you\\'re out, buy some milk\" and he never returned.', 'A: What is your address? Me: 173.168.15.10 A: No, your local address Me: 127.0.0.1 A: I mean your physical address B: 29:01:38:62:31:58', 'Why do programmers always mix up Halloween and Christmas? Because Oct 31 equals Dec 25.', 'Programming is 10% science, 20% ingenuity, and 70% getting the ingenuity to work with the science.', 'There are three kinds of lies: Lies, damned lies, and benchmarks.', 'All programmers are playwrights, and all computers are lousy actors.', \"Have you heard about the new Cray super computer? It's so fast, it executes an infinite loop in 6 seconds.\", 'The generation of random numbers is too important to be left to chance.', 'I just saw my life flash before my eyes and all I could see was a close tag.', 'The computer is mightier than the pen, the sword, and usually, the programmer', 'Debugging: Removing the needles from the haystack.', 'If doctors were like software engineers, they would say things like Have you tried killing yourself and being reborn?', 'Debugging is like being the detective in a crime drama where you are also the murderer.', 'The best thing about a Boolean is that even if you are wrong, you are only off by a bit.', 'If you listen to a UNIX shell, can you hear the C?', \"Why do Java programmers have to wear glasses? Because they don't C#.\", 'When Apple employees die, does their life HTML5 in front of their eyes?', 'What did the router say to the doctor? It hurts when IP.', 'Learning JavaScript is like looking both ways before you cross the street, and then getting hit by an airplane.', 'I for one am excited for the days when dereferencing a null pointer causes an aneurysm.', 'Debugging is like an onion. There are multiple layers to it, and the more you peel them back.', \"When your code does not change color automatically, Something's wrong, I can feel it.\", 'I have a joke on programming but it only works on my computer.', \"Why do you always use i and j variales in loops? It's the law......\", 'As far as we know, our computer has never had an undetected error.', 'A user friendly computer first requires a friendly user.', \"Bug? That's not a bug, that's a feature.\", 'Buy a Pentium 586/200 so you can reboot faster.', \"Computer analyst to programmer: You start coding. I'll go find out what they want.\", 'Computer programmers do it byte by byte.', \"Don't compute and drive; the life you save may be your own.\", 'How an engineer writes a program: Start by debugging an empty file...', \"If at first you don't succeed, call it version 1.0.\", 'I have a dream: 1073741824 bytes free.', \"I haven't lost my mind; it's backed up on tape somewhere.\", 'Is reading in the bathroom considered Multi-Tasking.', \"Never say 'OOPS!' always say 'Ah, Interesting!'\", \"One person's error is another person's data.\", 'Press CTRL-ALT-DEL to continue....', \"Programmer's Time-Space Continuum: Programmers continuously space the time.\", 'Speed Kills! Use Windows.', \"The box said: 'install on Windows 95, NT 4.0 or better'. So I installed it on Linux.\", 'The program is absolutely right; therefore the computer must be wrong.', \"There are only 10 types of people in this world: those who understand binary, and those who don't.\", 'There were computers in Biblical times. Eve had an Apple.', 'Those who can, do. Those who cannot, teach. Those who cannot teach, HACK!', 'User error: replace user and press any key to continue.', 'Warning, keyboard not found. Press Enter to continue.', \"Why do they call this a word processor? It's simple, ... you've seen what food processors do to food, right?\", 'Why do we want intelligent terminals when there are so many stupid users?', 'Windows is NOT a virus. Viruses DO something.', 'WINDOWS stands for Will Install Needless Data On Whole System.', 'You are making progress if each mistake is a new one.', 'You had mail, but the super-user read it, and deleted it!', 'You never finish a program, you just stop working on it.', \"You don't have to know how the computer works, just how to work the computer.\", \"You forgot to do your backup 16 days ago. Tomorrow you'll need that version.\", \"I love pressing the F5 key. It's refreshing.\", 'My favourite computer based band is the Black IPs.', \"Why was the developer bankrupt? He'd used all his cache.\", \"A friend is in a band called 1023Mb. They haven't had a gig yet.\", \"Apparently my password needs to be capitals only so I've changed it to LONDONMADRIDROME\", \"I changed my password to BeefStew but the computer told me it wasn't Stroganoff.\", \"Changed my password to fortnight but apparently that's two week.\", 'Artificial intelligence usually beats real stupidity.', 'The Internet: where men are men, women are men, and children are FBI agents.', 'Bugs come in through open Windows.', \"Unix is user friendly. It's just selective about who its friends are.\", 'Failure is not an option. It comes bundled with your Microsoft product.', 'Computers are like air conditioners: they stop working when you open Windows.', 'Beware of programmers that carry screwdrivers.', \"I'm not anti-social; I'm just not user friendly.\", 'Hey! It compiles! Ship it!', \"If Ruby is not and Perl is the answer, you don't understand the question.\", \"My attitude isn't bad. It's in beta.\", 'Programmers are tools for converting caffeine into code.', \"There are three kinds of people: those who can count and those who can't.\", 'Why do programmers prefer dark mode? Because light attracts bugs.']\n"
     ]
    }
   ],
   "source": [
    "import pyjokes\n",
    "print(pyjokes.get_jokes())"
   ]
  },
  {
   "cell_type": "code",
   "execution_count": 13,
   "metadata": {},
   "outputs": [
    {
     "name": "stdout",
     "output_type": "stream",
     "text": [
      "sorry not provides\n"
     ]
    }
   ],
   "source": [
    "import pyjokes\n",
    "joke1 = pyjokes.get_joke(\"en\", \"neutral\")\n",
    "sorry1 = \"sorry not provides\"\n",
    "def app7():\n",
    "    user_input = input(\"Enter your joke\")\n",
    "    if \"joke\" in user_input:\n",
    "        print(f\"this is joke \" + joke1)\n",
    "    else:\n",
    "        print(sorry1)\n",
    "\n",
    "\n",
    "app7()"
   ]
  },
  {
   "cell_type": "code",
   "execution_count": null,
   "metadata": {},
   "outputs": [
    {
     "data": {
      "text/plain": [
       "'Halleluiah'"
      ]
     },
     "execution_count": 10,
     "metadata": {},
     "output_type": "execute_result"
    }
   ],
   "source": []
  },
  {
   "cell_type": "code",
   "execution_count": null,
   "metadata": {},
   "outputs": [],
   "source": []
  }
 ],
 "metadata": {
  "kernelspec": {
   "display_name": "Python 3",
   "language": "python",
   "name": "python3"
  },
  "language_info": {
   "codemirror_mode": {
    "name": "ipython",
    "version": 3
   },
   "file_extension": ".py",
   "mimetype": "text/x-python",
   "name": "python",
   "nbconvert_exporter": "python",
   "pygments_lexer": "ipython3",
   "version": "3.10.11"
  }
 },
 "nbformat": 4,
 "nbformat_minor": 2
}
