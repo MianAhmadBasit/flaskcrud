{
 "cells": [
  {
   "cell_type": "code",
   "execution_count": 1,
   "id": "779152ae",
   "metadata": {},
   "outputs": [],
   "source": [
    "import sqlite3\n"
   ]
  },
  {
   "cell_type": "code",
   "execution_count": 2,
   "id": "babfab37",
   "metadata": {},
   "outputs": [],
   "source": [
    "conn = sqlite3.connect('mydatabase.db')  # فائل بن جائے گی اگر نہ ہو\n",
    "cursor = conn.cursor()\n"
   ]
  },
  {
   "cell_type": "code",
   "execution_count": 3,
   "id": "4197c03c",
   "metadata": {},
   "outputs": [],
   "source": [
    "# create a table if it does not exist \n",
    "cursor.execute('''\n",
    "    CREATE TABLE IF NOT EXISTS employees (\n",
    "        id INTEGER PRIMARY KEY,\n",
    "        name TEXT,\n",
    "        age INTEGER,\n",
    "        department TEXT\n",
    "    )\n",
    "''')\n",
    "conn.commit()\n"
   ]
  },
  {
   "cell_type": "code",
   "execution_count": 4,
   "id": "df827948",
   "metadata": {},
   "outputs": [],
   "source": [
    "# data insertion\n",
    "def insert_employee(id, name, age, department):\n",
    "    cursor.execute('''\n",
    "        INSERT INTO employees (id, name, age, department)\n",
    "        VALUES (?, ?, ?, ?)\n",
    "    ''', (id, name, age, department))\n",
    "    conn.commit()\n"
   ]
  },
  {
   "cell_type": "code",
   "execution_count": 8,
   "id": "18ff1fee",
   "metadata": {},
   "outputs": [],
   "source": [
    "# insert_employee(1, 'Ali', 30, 'HR')\n",
    "# insert_employee(2, 'Sara', 28, 'IT')\n",
    "insert_employee(3, 'Ahmed', 35, 'Finance')"
   ]
  },
  {
   "cell_type": "code",
   "execution_count": 9,
   "id": "5bb55cd7",
   "metadata": {},
   "outputs": [],
   "source": [
    "# read of data\n",
    "def get_all_employees():\n",
    "    cursor.execute('SELECT * FROM employees')\n",
    "    rows = cursor.fetchall()\n",
    "    for row in rows:\n",
    "        print(row)\n"
   ]
  },
  {
   "cell_type": "code",
   "execution_count": 10,
   "id": "56aebfd9",
   "metadata": {},
   "outputs": [
    {
     "name": "stdout",
     "output_type": "stream",
     "text": [
      "(1, 'ahmadbasitofficial@gmail.com', 22, 'nn')\n",
      "(2, 'Sara', 28, 'IT')\n",
      "(3, 'Ahmed', 35, 'Finance')\n"
     ]
    }
   ],
   "source": [
    "# use of data\n",
    "get_all_employees()\n"
   ]
  },
  {
   "cell_type": "code",
   "execution_count": 11,
   "id": "78d637ee",
   "metadata": {},
   "outputs": [],
   "source": [
    "# update of data\n",
    "def update_employee_age(emp_id, new_age):\n",
    "    cursor.execute('''\n",
    "        UPDATE employees\n",
    "        SET age = ?\n",
    "        WHERE id = ?\n",
    "    ''', (new_age, emp_id))\n",
    "    conn.commit()\n"
   ]
  },
  {
   "cell_type": "code",
   "execution_count": 13,
   "id": "d0feca62",
   "metadata": {},
   "outputs": [],
   "source": [
    "update_employee_age(2, 35)\n"
   ]
  },
  {
   "cell_type": "code",
   "execution_count": 14,
   "id": "5bb88e8b",
   "metadata": {},
   "outputs": [],
   "source": [
    "def delete_employee(emp_id):\n",
    "    cursor.execute('DELETE FROM employees WHERE id = ?', (emp_id,))\n",
    "    conn.commit()\n"
   ]
  },
  {
   "cell_type": "code",
   "execution_count": 15,
   "id": "2059a7a7",
   "metadata": {},
   "outputs": [],
   "source": [
    "delete_employee(2)\n"
   ]
  },
  {
   "cell_type": "code",
   "execution_count": 16,
   "id": "9c56d923",
   "metadata": {},
   "outputs": [],
   "source": [
    "conn.close()\n"
   ]
  },
  {
   "cell_type": "code",
   "execution_count": null,
   "id": "2bd153c0",
   "metadata": {},
   "outputs": [],
   "source": []
  }
 ],
 "metadata": {
  "kernelspec": {
   "display_name": "Python 3",
   "language": "python",
   "name": "python3"
  },
  "language_info": {
   "codemirror_mode": {
    "name": "ipython",
    "version": 3
   },
   "file_extension": ".py",
   "mimetype": "text/x-python",
   "name": "python",
   "nbconvert_exporter": "python",
   "pygments_lexer": "ipython3",
   "version": "3.10.11"
  }
 },
 "nbformat": 4,
 "nbformat_minor": 5
}
