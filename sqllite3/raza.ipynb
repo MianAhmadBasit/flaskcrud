{
 "cells": [
  {
   "cell_type": "code",
   "execution_count": 3,
   "id": "a8b6f0ba",
   "metadata": {},
   "outputs": [],
   "source": [
    "import sqlite3\n"
   ]
  },
  {
   "cell_type": "code",
   "execution_count": 4,
   "id": "cc324ad6",
   "metadata": {},
   "outputs": [],
   "source": [
    "conn = sqlite3.connect('hassan.db')\n",
    "c = conn.cursor()"
   ]
  },
  {
   "cell_type": "code",
   "execution_count": 20,
   "id": "29c7bd61",
   "metadata": {},
   "outputs": [],
   "source": [
    "# create a table if it does not exist \n",
    "c.execute('''\n",
    "    CREATE TABLE IF NOT EXISTS employees1 (\n",
    "    contact_id INTEGER PRIMARY KEY,\n",
    "\tfirst_name TEXT NOT NULL,\n",
    "\tlast_name TEXT NOT NULL,\n",
    "\temail TEXT NOT NULL UNIQUE,\n",
    "\tphone TEXT NOT NULL UNIQUE\n",
    "    )\n",
    "''')\n",
    "conn.commit()"
   ]
  },
  {
   "cell_type": "code",
   "execution_count": 25,
   "id": "dfddd749",
   "metadata": {},
   "outputs": [],
   "source": [
    "# data insertion\n",
    "def insert_employee1 (contact_id, first_name, last_name ,email, phone):\n",
    "    c.execute('''\n",
    "        INSERT INTO employees1 (contact_id, first_name, last_name ,email, phone)\n",
    "        VALUES (?, ?, ?, ? , ? )\n",
    "    ''', (contact_id, first_name, last_name ,email, phone))\n",
    "    conn.commit()\n"
   ]
  },
  {
   "cell_type": "code",
   "execution_count": 26,
   "id": "5a70850e",
   "metadata": {},
   "outputs": [],
   "source": [
    "insert_employee1(1, 'Hassan', 'Raza', 'ahmad@gmail.com' , '23685635')\n",
    "insert_employee1(2, 'Hassan2', 'Raza2', 'ahmad2@gmail.com' , '236856352')"
   ]
  },
  {
   "cell_type": "code",
   "execution_count": 27,
   "id": "0a1a2922",
   "metadata": {},
   "outputs": [],
   "source": [
    "def get_all_employees():\n",
    "    c.execute('SELECT * FROM employees1')\n",
    "    rows = c.fetchall()\n",
    "    for row in rows:\n",
    "        print(row)"
   ]
  },
  {
   "cell_type": "code",
   "execution_count": 28,
   "id": "aa59930a",
   "metadata": {},
   "outputs": [
    {
     "name": "stdout",
     "output_type": "stream",
     "text": [
      "(1, 'Hassan', 'Raza', 'ahmad@gmail.com', '23685635')\n",
      "(2, 'Hassan2', 'Raza2', 'ahmad2@gmail.com', '236856352')\n"
     ]
    }
   ],
   "source": [
    "get_all_employees()"
   ]
  },
  {
   "cell_type": "code",
   "execution_count": null,
   "id": "aff9bc5d",
   "metadata": {},
   "outputs": [],
   "source": []
  }
 ],
 "metadata": {
  "kernelspec": {
   "display_name": "Python 3",
   "language": "python",
   "name": "python3"
  },
  "language_info": {
   "codemirror_mode": {
    "name": "ipython",
    "version": 3
   },
   "file_extension": ".py",
   "mimetype": "text/x-python",
   "name": "python",
   "nbconvert_exporter": "python",
   "pygments_lexer": "ipython3",
   "version": "3.10.11"
  }
 },
 "nbformat": 4,
 "nbformat_minor": 5
}
