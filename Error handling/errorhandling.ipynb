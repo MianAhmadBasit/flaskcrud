{
 "cells": [
  {
   "cell_type": "code",
   "execution_count": 3,
   "metadata": {},
   "outputs": [
    {
     "name": "stdout",
     "output_type": "stream",
     "text": [
      "An error occurred due to value error\n"
     ]
    }
   ],
   "source": [
    "try:\n",
    " a = input(\"divde 1 num\")\n",
    " b = input(\"divde by 2 num\")\n",
    " c = int(a)/int(b)\n",
    " print(c)\n",
    "except ZeroDivisionError:\n",
    " print(\"An error occurred due to zero division\")\n",
    "except ValueError:\n",
    " print(\"An error occurred due to value error\")\n",
    "except Exception in e:\n",
    " print(\"An error occurred\" + str(e))"
   ]
  },
  {
   "cell_type": "code",
   "execution_count": null,
   "metadata": {},
   "outputs": [
    {
     "name": "stdout",
     "output_type": "stream",
     "text": [
      "An error occurred due to zero division\n"
     ]
    }
   ],
   "source": [
    "try:\n",
    " a = input(\"divde 1 num\")\n",
    " b = input(\"divde by 2 num\")\n",
    " c = int(a)/int(b)\n",
    " print(c)\n",
    "except ZeroDivisionError:\n",
    "    print(\"An error occurred due to zero division\")\n"
   ]
  },
  {
   "cell_type": "code",
   "execution_count": null,
   "metadata": {},
   "outputs": [
    {
     "name": "stdout",
     "output_type": "stream",
     "text": [
      "result is 0.2\n"
     ]
    }
   ],
   "source": [
    "# why we need error handling in python\n",
    "# error handling is important because it helps us to handle errors in our code and prevent our code from crashing\n",
    "# error handling is done using try and except block in python\n",
    "# try block is used to test a block of code for errors  and except block is used to handle the error\n",
    "# if the error is not handled the code will crash and the program will stop executing\n",
    "# error handling is also called exception handling\n",
    "# there are different types of errors in python such as syntax error, runtime error, logical error\n",
    "# syntax error is when the code is not written correctly\n",
    "# runtime error is when the code is running and an error occurs during execution of the code etc\n",
    "\n",
    "# look like javascript promise  \n",
    "# try:\n",
    "#     code to be executed\n",
    "# except:\n",
    "#     code to be executed if an error occurs    \n",
    "\n",
    "\n",
    "\n",
    "try:\n",
    "  num = int(input(\"Enter a number: \"))\n",
    "  Res = num /10\n",
    "  print(f\"result is {Res}\")\n",
    "except ZeroDivisionError:\n",
    "  print(\"An error occurred can't divide by zero\")\n",
    "\n",
    "except ValueError:\n",
    "  print(\"An error occurred please enter a number\")\n",
    "\n"
   ]
  },
  {
   "cell_type": "markdown",
   "metadata": {},
   "source": [
    "Error handling "
   ]
  },
  {
   "cell_type": "code",
   "execution_count": null,
   "metadata": {},
   "outputs": [
    {
     "name": "stdout",
     "output_type": "stream",
     "text": [
      "An error occurred can't divide by zero\n"
     ]
    }
   ],
   "source": [
    "try: \n",
    "    print(10/0)\n",
    "except ZeroDivisionError:\n",
    "    print(\"An error occurred can't divide by zero\")\n",
    "except ValueError:\n",
    "    print(\"An error occurred please enter a number\")\n",
    "\n",
    "except Exception as e:\n",
    "    print(\"An error occurred\" + str(e))  \n",
    "\n"
   ]
  },
  {
   "cell_type": "markdown",
   "metadata": {},
   "source": [
    "Modules in py"
   ]
  },
  {
   "cell_type": "code",
   "execution_count": 4,
   "metadata": {},
   "outputs": [
    {
     "name": "stdout",
     "output_type": "stream",
     "text": [
      "hi ahmad\n"
     ]
    }
   ],
   "source": [
    "def say_Hello():\n",
    "    return \"hi ahmad\"\n",
    "print(say_Hello())"
   ]
  },
  {
   "cell_type": "code",
   "execution_count": 10,
   "metadata": {},
   "outputs": [
    {
     "name": "stdout",
     "output_type": "stream",
     "text": [
      "9\n"
     ]
    }
   ],
   "source": [
    "import fun\n",
    "a=[1,3,5]\n",
    "print(fun.find_total(a))"
   ]
  },
  {
   "cell_type": "code",
   "execution_count": 12,
   "metadata": {},
   "outputs": [
    {
     "name": "stdout",
     "output_type": "stream",
     "text": [
      "area is a 314.1592653589793\n"
     ]
    }
   ],
   "source": [
    "import math\n",
    "redius = 10\n",
    "area = math.pi * redius ** 2\n",
    "print(f\"area is a {area}\")"
   ]
  },
  {
   "cell_type": "code",
   "execution_count": null,
   "metadata": {},
   "outputs": [
    {
     "name": "stdout",
     "output_type": "stream",
     "text": [
      "wrong entrydivision by zero\n"
     ]
    }
   ],
   "source": [
    "try:\n",
    "    num1= int(input(\"Enter a number: \"))\n",
    "    num2= int(input(\"Enter another number: \"))\n",
    "    print(num1/num2)\n",
    "except ZeroDivisionError:\n",
    "    print(\"An error occurred can't divide by zero\")\n",
    "except ValueError:\n",
    "    print(\"An error occurred please enter a number\")\n",
    "except Exception as e:\n",
    "    print(\"wrong entry\" + str(e))"
   ]
  },
  {
   "cell_type": "code",
   "execution_count": 11,
   "metadata": {},
   "outputs": [
    {
     "name": "stdout",
     "output_type": "stream",
     "text": [
      "expensee ahmad 1 [33, 55, 77] \n",
      " 165\n",
      "expensee ahmad 3 [31, 525, 277] \n",
      " 833\n",
      "expensee ahmad 2 [3, 55, 77] \n",
      " 135\n",
      "15\n"
     ]
    }
   ],
   "source": [
    "import fun\n",
    "a = [1,2,3,4,5]\n",
    "print(fun.find_total(a))"
   ]
  },
  {
   "cell_type": "code",
   "execution_count": 16,
   "metadata": {},
   "outputs": [
    {
     "name": "stdout",
     "output_type": "stream",
     "text": [
      "area is 18627\n"
     ]
    },
    {
     "data": {
      "text/plain": [
       "8.0"
      ]
     },
     "execution_count": 16,
     "metadata": {},
     "output_type": "execute_result"
    }
   ],
   "source": [
    "import math\n",
    "radius = 77 \n",
    "area = math.pi *radius ** 2\n",
    "c = round(area)\n",
    "print(f\"area is {c}\")\n",
    "math.pow(2,3)"
   ]
  },
  {
   "cell_type": "code",
   "execution_count": null,
   "metadata": {},
   "outputs": [],
   "source": [
    "import streamlit as st\n",
    "\n",
    "st.title(\"My first app\")\n",
    "st.write(\"Hello world\")"
   ]
  }
 ],
 "metadata": {
  "kernelspec": {
   "display_name": "Python 3",
   "language": "python",
   "name": "python3"
  },
  "language_info": {
   "codemirror_mode": {
    "name": "ipython",
    "version": 3
   },
   "file_extension": ".py",
   "mimetype": "text/x-python",
   "name": "python",
   "nbconvert_exporter": "python",
   "pygments_lexer": "ipython3",
   "version": "3.10.11"
  }
 },
 "nbformat": 4,
 "nbformat_minor": 2
}
