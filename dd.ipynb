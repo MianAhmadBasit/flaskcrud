{
 "cells": [
  {
   "cell_type": "code",
   "execution_count": 23,
   "id": "fb322b92",
   "metadata": {},
   "outputs": [
    {
     "data": {
      "text/plain": [
       "[1, 3, 4]"
      ]
     },
     "execution_count": 23,
     "metadata": {},
     "output_type": "execute_result"
    }
   ],
   "source": [
    "a = [1,2,3,4]\n",
    "a.remove(2)\n",
    "a\n",
    "\n"
   ]
  },
  {
   "cell_type": "code",
   "execution_count": null,
   "id": "5709707d",
   "metadata": {},
   "outputs": [
    {
     "name": "stdout",
     "output_type": "stream",
     "text": [
      "fruits  =  ['apple', 'banana', 'cherry']\n",
      "numbers =  [10, 20, 30, 40]\n",
      "mixed   =  ['hello', 42, 3.14, True]\n"
     ]
    }
   ],
   "source": [
    "# Creating lists with different data types\n",
    "fruits: list  = [\"apple\", \"banana\", \"cherry\"]\n",
    "numbers: list = [10, 20, 30, 40]\n",
    "mixed: list   = [\"hello\", 42, 3.14, True]\n",
    "\n",
    "print(\"fruits  = \", fruits)\n",
    "print(\"numbers = \", numbers)\n",
    "print(\"mixed   = \", mixed)"
   ]
  },
  {
   "cell_type": "code",
   "execution_count": 27,
   "id": "302d0699",
   "metadata": {},
   "outputs": [
    {
     "data": {
      "text/plain": [
       "[5, 4, 3, 1]"
      ]
     },
     "execution_count": 27,
     "metadata": {},
     "output_type": "execute_result"
    }
   ],
   "source": [
    "a = [4,3,5,1]\n",
    "a.sort(reverse=True)\n",
    "a"
   ]
  },
  {
   "cell_type": "code",
   "execution_count": 29,
   "id": "b49ec4c4",
   "metadata": {},
   "outputs": [
    {
     "name": "stdout",
     "output_type": "stream",
     "text": [
      "1 hi\n",
      "3 hi\n",
      "5 hi\n",
      "7 hi\n",
      "9 hi\n"
     ]
    }
   ],
   "source": [
    "for i in range(1, 10, 2):\n",
    "  print(i, end=\" hi\\n\")  "
   ]
  },
  {
   "cell_type": "code",
   "execution_count": 34,
   "id": "3b596950",
   "metadata": {},
   "outputs": [
    {
     "name": "stdout",
     "output_type": "stream",
     "text": [
      "you sallary is 55000\n"
     ]
    }
   ],
   "source": [
    "sallary  = [1000,2000,3000,4000,5000,6000,7000,8000,9000,10000] ; \n",
    "\n",
    "total_sallary = 0 \n",
    "\n",
    "for sal in sallary:\n",
    "    total_sallary += sal\n",
    "print(f\"you sallary is {total_sallary}\")"
   ]
  },
  {
   "cell_type": "code",
   "execution_count": null,
   "id": "e1df1455",
   "metadata": {},
   "outputs": [],
   "source": [
    "import gym_snake_game\n",
    "import gym\n",
    "\n",
    "# both work\n",
    "env = gym.make('Snake-v0', render_mode='human')\n",
    "env = gym_snake_game.make('Snake-v0', render_mode='human')\n",
    "env.reset()\n",
    "\n",
    "# for human playing\n",
    "env.play()\n",
    "\n",
    "# for ai playing\n",
    "while True:\n",
    "    obs, reward, done, truncated, info = env.step(env.action_space.sample())\n",
    "    if done:\n",
    "        break\n",
    "env.close()"
   ]
  }
 ],
 "metadata": {
  "kernelspec": {
   "display_name": "Python 3",
   "language": "python",
   "name": "python3"
  },
  "language_info": {
   "codemirror_mode": {
    "name": "ipython",
    "version": 3
   },
   "file_extension": ".py",
   "mimetype": "text/x-python",
   "name": "python",
   "nbconvert_exporter": "python",
   "pygments_lexer": "ipython3",
   "version": "3.10.11"
  }
 },
 "nbformat": 4,
 "nbformat_minor": 5
}
