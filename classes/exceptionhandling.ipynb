{
 "cells": [
  {
   "cell_type": "code",
   "execution_count": 5,
   "metadata": {},
   "outputs": [
    {
     "name": "stdout",
     "output_type": "stream",
     "text": [
      "Exception occur division by zero\n",
      "div is  0\n"
     ]
    }
   ],
   "source": [
    "x = input(\"Enter num one\")\n",
    "y = input(\"enter num 2\")\n",
    "\n",
    "try:\n",
    " z = int(x) / int(y)\n",
    "except Exception as e:\n",
    " print(\"Exception occur\" , e)\n",
    " z = 0\n",
    "\n",
    "print(\"div is \" , z)\n",
    "# zerodivsion situation 1 / 0"
   ]
  },
  {
   "cell_type": "code",
   "execution_count": null,
   "metadata": {},
   "outputs": [],
   "source": []
  }
 ],
 "metadata": {
  "kernelspec": {
   "display_name": "Python 3",
   "language": "python",
   "name": "python3"
  },
  "language_info": {
   "codemirror_mode": {
    "name": "ipython",
    "version": 3
   },
   "file_extension": ".py",
   "mimetype": "text/x-python",
   "name": "python",
   "nbconvert_exporter": "python",
   "pygments_lexer": "ipython3",
   "version": "3.10.11"
  }
 },
 "nbformat": 4,
 "nbformat_minor": 2
}
