{
 "cells": [
  {
   "cell_type": "code",
   "execution_count": null,
   "metadata": {},
   "outputs": [
    {
     "data": {
      "application/vnd.microsoft.datawrangler.viewer.v0+json": {
       "columns": [
        {
         "name": "index",
         "rawType": "object",
         "type": "string"
        },
        {
         "name": "release_year",
         "rawType": "float64",
         "type": "float"
        },
        {
         "name": "imdb_rating",
         "rawType": "float64",
         "type": "float"
        },
        {
         "name": "budget",
         "rawType": "float64",
         "type": "float"
        },
        {
         "name": "revenue",
         "rawType": "float64",
         "type": "float"
        }
       ],
       "conversionMethod": "pd.DataFrame",
       "ref": "425cac9c-fb83-4b98-ba35-ce75291329fb",
       "rows": [
        [
         "count",
         "37.0",
         "36.0",
         "37.0",
         "37.0"
        ],
        [
         "mean",
         "2007.027027027027",
         "7.919444444444445",
         "2084.975135135135",
         "4117.135135135136"
        ],
        [
         "std",
         "17.65799549226369",
         "1.2049468143436146",
         "11477.487145324882",
         "16372.462681608886"
        ],
        [
         "min",
         "1946.0",
         "1.9",
         "1.0",
         "3.1"
        ],
        [
         "25%",
         "2001.0",
         "7.8",
         "15.5",
         "263.1"
        ],
        [
         "50%",
         "2014.0",
         "8.1",
         "165.0",
         "701.8"
        ],
        [
         "75%",
         "2018.0",
         "8.4",
         "250.0",
         "2000.0"
        ],
        [
         "max",
         "2022.0",
         "9.3",
         "70000.0",
         "100000.0"
        ]
       ],
       "shape": {
        "columns": 4,
        "rows": 8
       }
      },
      "text/html": [
       "<div>\n",
       "<style scoped>\n",
       "    .dataframe tbody tr th:only-of-type {\n",
       "        vertical-align: middle;\n",
       "    }\n",
       "\n",
       "    .dataframe tbody tr th {\n",
       "        vertical-align: top;\n",
       "    }\n",
       "\n",
       "    .dataframe thead th {\n",
       "        text-align: right;\n",
       "    }\n",
       "</style>\n",
       "<table border=\"1\" class=\"dataframe\">\n",
       "  <thead>\n",
       "    <tr style=\"text-align: right;\">\n",
       "      <th></th>\n",
       "      <th>release_year</th>\n",
       "      <th>imdb_rating</th>\n",
       "      <th>budget</th>\n",
       "      <th>revenue</th>\n",
       "    </tr>\n",
       "  </thead>\n",
       "  <tbody>\n",
       "    <tr>\n",
       "      <th>count</th>\n",
       "      <td>37.000000</td>\n",
       "      <td>36.000000</td>\n",
       "      <td>37.000000</td>\n",
       "      <td>37.000000</td>\n",
       "    </tr>\n",
       "    <tr>\n",
       "      <th>mean</th>\n",
       "      <td>2007.027027</td>\n",
       "      <td>7.919444</td>\n",
       "      <td>2084.975135</td>\n",
       "      <td>4117.135135</td>\n",
       "    </tr>\n",
       "    <tr>\n",
       "      <th>std</th>\n",
       "      <td>17.657995</td>\n",
       "      <td>1.204947</td>\n",
       "      <td>11477.487145</td>\n",
       "      <td>16372.462682</td>\n",
       "    </tr>\n",
       "    <tr>\n",
       "      <th>min</th>\n",
       "      <td>1946.000000</td>\n",
       "      <td>1.900000</td>\n",
       "      <td>1.000000</td>\n",
       "      <td>3.100000</td>\n",
       "    </tr>\n",
       "    <tr>\n",
       "      <th>25%</th>\n",
       "      <td>2001.000000</td>\n",
       "      <td>7.800000</td>\n",
       "      <td>15.500000</td>\n",
       "      <td>263.100000</td>\n",
       "    </tr>\n",
       "    <tr>\n",
       "      <th>50%</th>\n",
       "      <td>2014.000000</td>\n",
       "      <td>8.100000</td>\n",
       "      <td>165.000000</td>\n",
       "      <td>701.800000</td>\n",
       "    </tr>\n",
       "    <tr>\n",
       "      <th>75%</th>\n",
       "      <td>2018.000000</td>\n",
       "      <td>8.400000</td>\n",
       "      <td>250.000000</td>\n",
       "      <td>2000.000000</td>\n",
       "    </tr>\n",
       "    <tr>\n",
       "      <th>max</th>\n",
       "      <td>2022.000000</td>\n",
       "      <td>9.300000</td>\n",
       "      <td>70000.000000</td>\n",
       "      <td>100000.000000</td>\n",
       "    </tr>\n",
       "  </tbody>\n",
       "</table>\n",
       "</div>"
      ],
      "text/plain": [
       "       release_year  imdb_rating        budget        revenue\n",
       "count     37.000000    36.000000     37.000000      37.000000\n",
       "mean    2007.027027     7.919444   2084.975135    4117.135135\n",
       "std       17.657995     1.204947  11477.487145   16372.462682\n",
       "min     1946.000000     1.900000      1.000000       3.100000\n",
       "25%     2001.000000     7.800000     15.500000     263.100000\n",
       "50%     2014.000000     8.100000    165.000000     701.800000\n",
       "75%     2018.000000     8.400000    250.000000    2000.000000\n",
       "max     2022.000000     9.300000  70000.000000  100000.000000"
      ]
     },
     "execution_count": 8,
     "metadata": {},
     "output_type": "execute_result"
    }
   ],
   "source": [
    "import pandas as pd\n",
    "data9 = pd.read_csv(\"movies.csv\") \n",
    "data9.head(10)\n",
    "data9.tail(4)\n",
    "data9.describe()\n"
   ]
  },
  {
   "cell_type": "code",
   "execution_count": 9,
   "metadata": {},
   "outputs": [
    {
     "data": {
      "application/vnd.microsoft.datawrangler.viewer.v0+json": {
       "columns": [
        {
         "name": "index",
         "rawType": "int64",
         "type": "integer"
        },
        {
         "name": "title",
         "rawType": "object",
         "type": "string"
        },
        {
         "name": "industry",
         "rawType": "object",
         "type": "string"
        },
        {
         "name": "release_year",
         "rawType": "int64",
         "type": "integer"
        },
        {
         "name": "imdb_rating",
         "rawType": "float64",
         "type": "float"
        },
        {
         "name": "studio",
         "rawType": "object",
         "type": "unknown"
        },
        {
         "name": "budget",
         "rawType": "float64",
         "type": "float"
        },
        {
         "name": "revenue",
         "rawType": "float64",
         "type": "float"
        },
        {
         "name": "unit",
         "rawType": "object",
         "type": "string"
        },
        {
         "name": "currency",
         "rawType": "object",
         "type": "string"
        },
        {
         "name": "language",
         "rawType": "object",
         "type": "string"
        }
       ],
       "conversionMethod": "pd.DataFrame",
       "ref": "f00d14cf-5963-4d62-932e-f2ab18d6084c",
       "rows": [
        [
         "2",
         "Thor: The Dark World ",
         "Hollywood",
         "2013",
         "6.8",
         "Marvel Studios",
         "165.0",
         "644.8",
         "Millions",
         "USD",
         "English"
        ],
        [
         "34",
         "Pushpa: The Rise - Part 1",
         "Bollywood",
         "2021",
         "7.6",
         "Mythri Movie Makers",
         "2.0",
         "3.6",
         "Billions",
         "INR",
         "Telugu"
        ],
        [
         "32",
         "Shershaah",
         "Bollywood",
         "2021",
         "8.4",
         "Dharma Productions",
         "500.0",
         "950.0",
         "Millions",
         "INR",
         "Hindi"
        ],
        [
         "25",
         "Taare Zameen Par",
         "Bollywood",
         "2007",
         "8.3",
         null,
         "120.0",
         "1350.0",
         "Millions",
         "INR",
         "Hindi"
        ]
       ],
       "shape": {
        "columns": 10,
        "rows": 4
       }
      },
      "text/html": [
       "<div>\n",
       "<style scoped>\n",
       "    .dataframe tbody tr th:only-of-type {\n",
       "        vertical-align: middle;\n",
       "    }\n",
       "\n",
       "    .dataframe tbody tr th {\n",
       "        vertical-align: top;\n",
       "    }\n",
       "\n",
       "    .dataframe thead th {\n",
       "        text-align: right;\n",
       "    }\n",
       "</style>\n",
       "<table border=\"1\" class=\"dataframe\">\n",
       "  <thead>\n",
       "    <tr style=\"text-align: right;\">\n",
       "      <th></th>\n",
       "      <th>title</th>\n",
       "      <th>industry</th>\n",
       "      <th>release_year</th>\n",
       "      <th>imdb_rating</th>\n",
       "      <th>studio</th>\n",
       "      <th>budget</th>\n",
       "      <th>revenue</th>\n",
       "      <th>unit</th>\n",
       "      <th>currency</th>\n",
       "      <th>language</th>\n",
       "    </tr>\n",
       "  </thead>\n",
       "  <tbody>\n",
       "    <tr>\n",
       "      <th>2</th>\n",
       "      <td>Thor: The Dark World</td>\n",
       "      <td>Hollywood</td>\n",
       "      <td>2013</td>\n",
       "      <td>6.8</td>\n",
       "      <td>Marvel Studios</td>\n",
       "      <td>165.0</td>\n",
       "      <td>644.8</td>\n",
       "      <td>Millions</td>\n",
       "      <td>USD</td>\n",
       "      <td>English</td>\n",
       "    </tr>\n",
       "    <tr>\n",
       "      <th>34</th>\n",
       "      <td>Pushpa: The Rise - Part 1</td>\n",
       "      <td>Bollywood</td>\n",
       "      <td>2021</td>\n",
       "      <td>7.6</td>\n",
       "      <td>Mythri Movie Makers</td>\n",
       "      <td>2.0</td>\n",
       "      <td>3.6</td>\n",
       "      <td>Billions</td>\n",
       "      <td>INR</td>\n",
       "      <td>Telugu</td>\n",
       "    </tr>\n",
       "    <tr>\n",
       "      <th>32</th>\n",
       "      <td>Shershaah</td>\n",
       "      <td>Bollywood</td>\n",
       "      <td>2021</td>\n",
       "      <td>8.4</td>\n",
       "      <td>Dharma Productions</td>\n",
       "      <td>500.0</td>\n",
       "      <td>950.0</td>\n",
       "      <td>Millions</td>\n",
       "      <td>INR</td>\n",
       "      <td>Hindi</td>\n",
       "    </tr>\n",
       "    <tr>\n",
       "      <th>25</th>\n",
       "      <td>Taare Zameen Par</td>\n",
       "      <td>Bollywood</td>\n",
       "      <td>2007</td>\n",
       "      <td>8.3</td>\n",
       "      <td>NaN</td>\n",
       "      <td>120.0</td>\n",
       "      <td>1350.0</td>\n",
       "      <td>Millions</td>\n",
       "      <td>INR</td>\n",
       "      <td>Hindi</td>\n",
       "    </tr>\n",
       "  </tbody>\n",
       "</table>\n",
       "</div>"
      ],
      "text/plain": [
       "                        title   industry  release_year  imdb_rating  \\\n",
       "2       Thor: The Dark World   Hollywood          2013          6.8   \n",
       "34  Pushpa: The Rise - Part 1  Bollywood          2021          7.6   \n",
       "32                  Shershaah  Bollywood          2021          8.4   \n",
       "25           Taare Zameen Par  Bollywood          2007          8.3   \n",
       "\n",
       "                 studio  budget  revenue      unit currency language  \n",
       "2        Marvel Studios   165.0    644.8  Millions      USD  English  \n",
       "34  Mythri Movie Makers     2.0      3.6  Billions      INR   Telugu  \n",
       "32   Dharma Productions   500.0    950.0  Millions      INR    Hindi  \n",
       "25                  NaN   120.0   1350.0  Millions      INR    Hindi  "
      ]
     },
     "execution_count": 9,
     "metadata": {},
     "output_type": "execute_result"
    }
   ],
   "source": [
    "data9.sample(4)"
   ]
  },
  {
   "cell_type": "code",
   "execution_count": 12,
   "metadata": {},
   "outputs": [
    {
     "data": {
      "application/vnd.microsoft.datawrangler.viewer.v0+json": {
       "columns": [
        {
         "name": "index",
         "rawType": "int64",
         "type": "integer"
        },
        {
         "name": "title",
         "rawType": "object",
         "type": "string"
        },
        {
         "name": "industry",
         "rawType": "object",
         "type": "string"
        },
        {
         "name": "release_year",
         "rawType": "int64",
         "type": "integer"
        },
        {
         "name": "imdb_rating",
         "rawType": "float64",
         "type": "float"
        },
        {
         "name": "studio",
         "rawType": "object",
         "type": "string"
        },
        {
         "name": "budget",
         "rawType": "float64",
         "type": "float"
        },
        {
         "name": "revenue",
         "rawType": "float64",
         "type": "float"
        },
        {
         "name": "unit",
         "rawType": "object",
         "type": "string"
        },
        {
         "name": "currency",
         "rawType": "object",
         "type": "string"
        },
        {
         "name": "language",
         "rawType": "object",
         "type": "string"
        }
       ],
       "conversionMethod": "pd.DataFrame",
       "ref": "7b976071-f6a8-4bb2-8d23-acb79665fb82",
       "rows": [
        [
         "2",
         "Thor: The Dark World ",
         "Hollywood",
         "2013",
         "6.8",
         "Marvel Studios",
         "165.0",
         "644.8",
         "Millions",
         "USD",
         "English"
        ],
        [
         "5",
         "The Shawshank Redemption",
         "Hollywood",
         "1994",
         "9.3",
         "Castle Rock Entertainment",
         "25.0",
         "73.3",
         "Millions",
         "USD",
         "English"
        ]
       ],
       "shape": {
        "columns": 10,
        "rows": 2
       }
      },
      "text/html": [
       "<div>\n",
       "<style scoped>\n",
       "    .dataframe tbody tr th:only-of-type {\n",
       "        vertical-align: middle;\n",
       "    }\n",
       "\n",
       "    .dataframe tbody tr th {\n",
       "        vertical-align: top;\n",
       "    }\n",
       "\n",
       "    .dataframe thead th {\n",
       "        text-align: right;\n",
       "    }\n",
       "</style>\n",
       "<table border=\"1\" class=\"dataframe\">\n",
       "  <thead>\n",
       "    <tr style=\"text-align: right;\">\n",
       "      <th></th>\n",
       "      <th>title</th>\n",
       "      <th>industry</th>\n",
       "      <th>release_year</th>\n",
       "      <th>imdb_rating</th>\n",
       "      <th>studio</th>\n",
       "      <th>budget</th>\n",
       "      <th>revenue</th>\n",
       "      <th>unit</th>\n",
       "      <th>currency</th>\n",
       "      <th>language</th>\n",
       "    </tr>\n",
       "  </thead>\n",
       "  <tbody>\n",
       "    <tr>\n",
       "      <th>2</th>\n",
       "      <td>Thor: The Dark World</td>\n",
       "      <td>Hollywood</td>\n",
       "      <td>2013</td>\n",
       "      <td>6.8</td>\n",
       "      <td>Marvel Studios</td>\n",
       "      <td>165.0</td>\n",
       "      <td>644.8</td>\n",
       "      <td>Millions</td>\n",
       "      <td>USD</td>\n",
       "      <td>English</td>\n",
       "    </tr>\n",
       "    <tr>\n",
       "      <th>5</th>\n",
       "      <td>The Shawshank Redemption</td>\n",
       "      <td>Hollywood</td>\n",
       "      <td>1994</td>\n",
       "      <td>9.3</td>\n",
       "      <td>Castle Rock Entertainment</td>\n",
       "      <td>25.0</td>\n",
       "      <td>73.3</td>\n",
       "      <td>Millions</td>\n",
       "      <td>USD</td>\n",
       "      <td>English</td>\n",
       "    </tr>\n",
       "  </tbody>\n",
       "</table>\n",
       "</div>"
      ],
      "text/plain": [
       "                      title   industry  release_year  imdb_rating  \\\n",
       "2     Thor: The Dark World   Hollywood          2013          6.8   \n",
       "5  The Shawshank Redemption  Hollywood          1994          9.3   \n",
       "\n",
       "                      studio  budget  revenue      unit currency language  \n",
       "2             Marvel Studios   165.0    644.8  Millions      USD  English  \n",
       "5  Castle Rock Entertainment    25.0     73.3  Millions      USD  English  "
      ]
     },
     "execution_count": 12,
     "metadata": {},
     "output_type": "execute_result"
    }
   ],
   "source": [
    "data9[2:6:3]"
   ]
  },
  {
   "cell_type": "code",
   "execution_count": 13,
   "metadata": {},
   "outputs": [
    {
     "data": {
      "text/plain": [
       "(37, 10)"
      ]
     },
     "execution_count": 13,
     "metadata": {},
     "output_type": "execute_result"
    }
   ],
   "source": [
    "data9.shape"
   ]
  },
  {
   "cell_type": "code",
   "execution_count": 22,
   "metadata": {},
   "outputs": [
    {
     "data": {
      "text/plain": [
       "np.int64(37)"
      ]
     },
     "execution_count": 22,
     "metadata": {},
     "output_type": "execute_result"
    }
   ],
   "source": [
    "data9.industry.count()"
   ]
  },
  {
   "cell_type": "code",
   "execution_count": 23,
   "metadata": {},
   "outputs": [],
   "source": [
    "a  = data9[data9.industry == \"Bollywood\"]"
   ]
  },
  {
   "cell_type": "code",
   "execution_count": 24,
   "metadata": {},
   "outputs": [
    {
     "data": {
      "application/vnd.microsoft.datawrangler.viewer.v0+json": {
       "columns": [
        {
         "name": "index",
         "rawType": "int64",
         "type": "integer"
        },
        {
         "name": "title",
         "rawType": "object",
         "type": "string"
        },
        {
         "name": "industry",
         "rawType": "object",
         "type": "string"
        },
        {
         "name": "release_year",
         "rawType": "int64",
         "type": "integer"
        },
        {
         "name": "imdb_rating",
         "rawType": "float64",
         "type": "float"
        },
        {
         "name": "studio",
         "rawType": "object",
         "type": "unknown"
        },
        {
         "name": "budget",
         "rawType": "float64",
         "type": "float"
        },
        {
         "name": "revenue",
         "rawType": "float64",
         "type": "float"
        },
        {
         "name": "unit",
         "rawType": "object",
         "type": "string"
        },
        {
         "name": "currency",
         "rawType": "object",
         "type": "string"
        },
        {
         "name": "language",
         "rawType": "object",
         "type": "string"
        }
       ],
       "conversionMethod": "pd.DataFrame",
       "ref": "56a49a57-f3e9-43aa-a62f-bdc294dfde67",
       "rows": [
        [
         "0",
         "Pather Panchali",
         "Bollywood",
         "1955",
         "8.3",
         "Government of West Bengal",
         "70000.0",
         "100000.0",
         "Thousands",
         "INR",
         "Bengali"
        ],
        [
         "21",
         "Dilwale Dulhania Le Jayenge",
         "Bollywood",
         "1995",
         "8.0",
         "Yash Raj Films",
         "400.0",
         "2000.0",
         "Millions",
         "INR",
         "Hindi"
        ],
        [
         "22",
         "3 Idiots",
         "Bollywood",
         "2009",
         "8.4",
         "Vinod Chopra Films",
         "550.0",
         "4000.0",
         "Millions",
         "INR",
         "Hindi"
        ],
        [
         "23",
         "Kabhi Khushi Kabhie Gham",
         "Bollywood",
         "2001",
         "7.4",
         "Dharma Productions",
         "390.0",
         "1360.0",
         "Millions",
         "INR",
         "Hindi"
        ],
        [
         "24",
         "Bajirao Mastani ",
         "Bollywood",
         "2015",
         "7.2",
         null,
         "1.4",
         "3.5",
         "Billions",
         "INR",
         "Hindi"
        ],
        [
         "25",
         "Taare Zameen Par",
         "Bollywood",
         "2007",
         "8.3",
         null,
         "120.0",
         "1350.0",
         "Millions",
         "INR",
         "Hindi"
        ],
        [
         "26",
         "Munna Bhai M.B.B.S.",
         "Bollywood",
         "2003",
         "8.1",
         "Vinod Chopra Productions",
         "100.0",
         "410.0",
         "Millions",
         "INR",
         "Hindi"
        ],
        [
         "27",
         "PK",
         "Bollywood",
         "2014",
         "8.1",
         "Vinod Chopra Films",
         "850.0",
         "8540.0",
         "Millions",
         "INR",
         "Hindi"
        ],
        [
         "28",
         "Sanju",
         "Bollywood",
         "2018",
         null,
         "Vinod Chopra Films",
         "1.0",
         "5.9",
         "Billions",
         "INR",
         "Hindi"
        ],
        [
         "29",
         "The Kashmir Files",
         "Bollywood",
         "2022",
         "8.3",
         "Zee Studios",
         "250.0",
         "3409.0",
         "Millions",
         "INR",
         "Hindi"
        ],
        [
         "30",
         "Bajrangi Bhaijaan",
         "Bollywood",
         "2015",
         "8.1",
         "Salman Khan Films",
         "900.0",
         "11690.0",
         "Millions",
         "INR",
         "Hindi"
        ],
        [
         "31",
         "Race 3",
         "Bollywood",
         "2018",
         "1.9",
         "Salman Khan Films",
         "1.8",
         "3.1",
         "Billions",
         "INR",
         "Hindi"
        ],
        [
         "32",
         "Shershaah",
         "Bollywood",
         "2021",
         "8.4",
         "Dharma Productions",
         "500.0",
         "950.0",
         "Millions",
         "INR",
         "Hindi"
        ],
        [
         "33",
         "K.G.F: Chapter 2",
         "Bollywood",
         "2022",
         "8.4",
         "Hombale Films",
         "1.0",
         "12.5",
         "Billions",
         "INR",
         "Kannada"
        ],
        [
         "34",
         "Pushpa: The Rise - Part 1",
         "Bollywood",
         "2021",
         "7.6",
         "Mythri Movie Makers",
         "2.0",
         "3.6",
         "Billions",
         "INR",
         "Telugu"
        ],
        [
         "35",
         "RRR",
         "Bollywood",
         "2022",
         "8.0",
         "DVV Entertainment",
         "5.5",
         "12.0",
         "Billions",
         "INR",
         "Telugu"
        ],
        [
         "36",
         "Baahubali: The Beginning",
         "Bollywood",
         "2015",
         "8.0",
         "Arka Media Works",
         "1.8",
         "6.5",
         "Billions",
         "INR",
         "Telugu"
        ]
       ],
       "shape": {
        "columns": 10,
        "rows": 17
       }
      },
      "text/html": [
       "<div>\n",
       "<style scoped>\n",
       "    .dataframe tbody tr th:only-of-type {\n",
       "        vertical-align: middle;\n",
       "    }\n",
       "\n",
       "    .dataframe tbody tr th {\n",
       "        vertical-align: top;\n",
       "    }\n",
       "\n",
       "    .dataframe thead th {\n",
       "        text-align: right;\n",
       "    }\n",
       "</style>\n",
       "<table border=\"1\" class=\"dataframe\">\n",
       "  <thead>\n",
       "    <tr style=\"text-align: right;\">\n",
       "      <th></th>\n",
       "      <th>title</th>\n",
       "      <th>industry</th>\n",
       "      <th>release_year</th>\n",
       "      <th>imdb_rating</th>\n",
       "      <th>studio</th>\n",
       "      <th>budget</th>\n",
       "      <th>revenue</th>\n",
       "      <th>unit</th>\n",
       "      <th>currency</th>\n",
       "      <th>language</th>\n",
       "    </tr>\n",
       "  </thead>\n",
       "  <tbody>\n",
       "    <tr>\n",
       "      <th>0</th>\n",
       "      <td>Pather Panchali</td>\n",
       "      <td>Bollywood</td>\n",
       "      <td>1955</td>\n",
       "      <td>8.3</td>\n",
       "      <td>Government of West Bengal</td>\n",
       "      <td>70000.0</td>\n",
       "      <td>100000.0</td>\n",
       "      <td>Thousands</td>\n",
       "      <td>INR</td>\n",
       "      <td>Bengali</td>\n",
       "    </tr>\n",
       "    <tr>\n",
       "      <th>21</th>\n",
       "      <td>Dilwale Dulhania Le Jayenge</td>\n",
       "      <td>Bollywood</td>\n",
       "      <td>1995</td>\n",
       "      <td>8.0</td>\n",
       "      <td>Yash Raj Films</td>\n",
       "      <td>400.0</td>\n",
       "      <td>2000.0</td>\n",
       "      <td>Millions</td>\n",
       "      <td>INR</td>\n",
       "      <td>Hindi</td>\n",
       "    </tr>\n",
       "    <tr>\n",
       "      <th>22</th>\n",
       "      <td>3 Idiots</td>\n",
       "      <td>Bollywood</td>\n",
       "      <td>2009</td>\n",
       "      <td>8.4</td>\n",
       "      <td>Vinod Chopra Films</td>\n",
       "      <td>550.0</td>\n",
       "      <td>4000.0</td>\n",
       "      <td>Millions</td>\n",
       "      <td>INR</td>\n",
       "      <td>Hindi</td>\n",
       "    </tr>\n",
       "    <tr>\n",
       "      <th>23</th>\n",
       "      <td>Kabhi Khushi Kabhie Gham</td>\n",
       "      <td>Bollywood</td>\n",
       "      <td>2001</td>\n",
       "      <td>7.4</td>\n",
       "      <td>Dharma Productions</td>\n",
       "      <td>390.0</td>\n",
       "      <td>1360.0</td>\n",
       "      <td>Millions</td>\n",
       "      <td>INR</td>\n",
       "      <td>Hindi</td>\n",
       "    </tr>\n",
       "    <tr>\n",
       "      <th>24</th>\n",
       "      <td>Bajirao Mastani</td>\n",
       "      <td>Bollywood</td>\n",
       "      <td>2015</td>\n",
       "      <td>7.2</td>\n",
       "      <td>NaN</td>\n",
       "      <td>1.4</td>\n",
       "      <td>3.5</td>\n",
       "      <td>Billions</td>\n",
       "      <td>INR</td>\n",
       "      <td>Hindi</td>\n",
       "    </tr>\n",
       "    <tr>\n",
       "      <th>25</th>\n",
       "      <td>Taare Zameen Par</td>\n",
       "      <td>Bollywood</td>\n",
       "      <td>2007</td>\n",
       "      <td>8.3</td>\n",
       "      <td>NaN</td>\n",
       "      <td>120.0</td>\n",
       "      <td>1350.0</td>\n",
       "      <td>Millions</td>\n",
       "      <td>INR</td>\n",
       "      <td>Hindi</td>\n",
       "    </tr>\n",
       "    <tr>\n",
       "      <th>26</th>\n",
       "      <td>Munna Bhai M.B.B.S.</td>\n",
       "      <td>Bollywood</td>\n",
       "      <td>2003</td>\n",
       "      <td>8.1</td>\n",
       "      <td>Vinod Chopra Productions</td>\n",
       "      <td>100.0</td>\n",
       "      <td>410.0</td>\n",
       "      <td>Millions</td>\n",
       "      <td>INR</td>\n",
       "      <td>Hindi</td>\n",
       "    </tr>\n",
       "    <tr>\n",
       "      <th>27</th>\n",
       "      <td>PK</td>\n",
       "      <td>Bollywood</td>\n",
       "      <td>2014</td>\n",
       "      <td>8.1</td>\n",
       "      <td>Vinod Chopra Films</td>\n",
       "      <td>850.0</td>\n",
       "      <td>8540.0</td>\n",
       "      <td>Millions</td>\n",
       "      <td>INR</td>\n",
       "      <td>Hindi</td>\n",
       "    </tr>\n",
       "    <tr>\n",
       "      <th>28</th>\n",
       "      <td>Sanju</td>\n",
       "      <td>Bollywood</td>\n",
       "      <td>2018</td>\n",
       "      <td>NaN</td>\n",
       "      <td>Vinod Chopra Films</td>\n",
       "      <td>1.0</td>\n",
       "      <td>5.9</td>\n",
       "      <td>Billions</td>\n",
       "      <td>INR</td>\n",
       "      <td>Hindi</td>\n",
       "    </tr>\n",
       "    <tr>\n",
       "      <th>29</th>\n",
       "      <td>The Kashmir Files</td>\n",
       "      <td>Bollywood</td>\n",
       "      <td>2022</td>\n",
       "      <td>8.3</td>\n",
       "      <td>Zee Studios</td>\n",
       "      <td>250.0</td>\n",
       "      <td>3409.0</td>\n",
       "      <td>Millions</td>\n",
       "      <td>INR</td>\n",
       "      <td>Hindi</td>\n",
       "    </tr>\n",
       "    <tr>\n",
       "      <th>30</th>\n",
       "      <td>Bajrangi Bhaijaan</td>\n",
       "      <td>Bollywood</td>\n",
       "      <td>2015</td>\n",
       "      <td>8.1</td>\n",
       "      <td>Salman Khan Films</td>\n",
       "      <td>900.0</td>\n",
       "      <td>11690.0</td>\n",
       "      <td>Millions</td>\n",
       "      <td>INR</td>\n",
       "      <td>Hindi</td>\n",
       "    </tr>\n",
       "    <tr>\n",
       "      <th>31</th>\n",
       "      <td>Race 3</td>\n",
       "      <td>Bollywood</td>\n",
       "      <td>2018</td>\n",
       "      <td>1.9</td>\n",
       "      <td>Salman Khan Films</td>\n",
       "      <td>1.8</td>\n",
       "      <td>3.1</td>\n",
       "      <td>Billions</td>\n",
       "      <td>INR</td>\n",
       "      <td>Hindi</td>\n",
       "    </tr>\n",
       "    <tr>\n",
       "      <th>32</th>\n",
       "      <td>Shershaah</td>\n",
       "      <td>Bollywood</td>\n",
       "      <td>2021</td>\n",
       "      <td>8.4</td>\n",
       "      <td>Dharma Productions</td>\n",
       "      <td>500.0</td>\n",
       "      <td>950.0</td>\n",
       "      <td>Millions</td>\n",
       "      <td>INR</td>\n",
       "      <td>Hindi</td>\n",
       "    </tr>\n",
       "    <tr>\n",
       "      <th>33</th>\n",
       "      <td>K.G.F: Chapter 2</td>\n",
       "      <td>Bollywood</td>\n",
       "      <td>2022</td>\n",
       "      <td>8.4</td>\n",
       "      <td>Hombale Films</td>\n",
       "      <td>1.0</td>\n",
       "      <td>12.5</td>\n",
       "      <td>Billions</td>\n",
       "      <td>INR</td>\n",
       "      <td>Kannada</td>\n",
       "    </tr>\n",
       "    <tr>\n",
       "      <th>34</th>\n",
       "      <td>Pushpa: The Rise - Part 1</td>\n",
       "      <td>Bollywood</td>\n",
       "      <td>2021</td>\n",
       "      <td>7.6</td>\n",
       "      <td>Mythri Movie Makers</td>\n",
       "      <td>2.0</td>\n",
       "      <td>3.6</td>\n",
       "      <td>Billions</td>\n",
       "      <td>INR</td>\n",
       "      <td>Telugu</td>\n",
       "    </tr>\n",
       "    <tr>\n",
       "      <th>35</th>\n",
       "      <td>RRR</td>\n",
       "      <td>Bollywood</td>\n",
       "      <td>2022</td>\n",
       "      <td>8.0</td>\n",
       "      <td>DVV Entertainment</td>\n",
       "      <td>5.5</td>\n",
       "      <td>12.0</td>\n",
       "      <td>Billions</td>\n",
       "      <td>INR</td>\n",
       "      <td>Telugu</td>\n",
       "    </tr>\n",
       "    <tr>\n",
       "      <th>36</th>\n",
       "      <td>Baahubali: The Beginning</td>\n",
       "      <td>Bollywood</td>\n",
       "      <td>2015</td>\n",
       "      <td>8.0</td>\n",
       "      <td>Arka Media Works</td>\n",
       "      <td>1.8</td>\n",
       "      <td>6.5</td>\n",
       "      <td>Billions</td>\n",
       "      <td>INR</td>\n",
       "      <td>Telugu</td>\n",
       "    </tr>\n",
       "  </tbody>\n",
       "</table>\n",
       "</div>"
      ],
      "text/plain": [
       "                          title   industry  release_year  imdb_rating  \\\n",
       "0               Pather Panchali  Bollywood          1955          8.3   \n",
       "21  Dilwale Dulhania Le Jayenge  Bollywood          1995          8.0   \n",
       "22                     3 Idiots  Bollywood          2009          8.4   \n",
       "23     Kabhi Khushi Kabhie Gham  Bollywood          2001          7.4   \n",
       "24             Bajirao Mastani   Bollywood          2015          7.2   \n",
       "25             Taare Zameen Par  Bollywood          2007          8.3   \n",
       "26          Munna Bhai M.B.B.S.  Bollywood          2003          8.1   \n",
       "27                           PK  Bollywood          2014          8.1   \n",
       "28                        Sanju  Bollywood          2018          NaN   \n",
       "29            The Kashmir Files  Bollywood          2022          8.3   \n",
       "30            Bajrangi Bhaijaan  Bollywood          2015          8.1   \n",
       "31                       Race 3  Bollywood          2018          1.9   \n",
       "32                    Shershaah  Bollywood          2021          8.4   \n",
       "33             K.G.F: Chapter 2  Bollywood          2022          8.4   \n",
       "34    Pushpa: The Rise - Part 1  Bollywood          2021          7.6   \n",
       "35                          RRR  Bollywood          2022          8.0   \n",
       "36     Baahubali: The Beginning  Bollywood          2015          8.0   \n",
       "\n",
       "                       studio   budget   revenue       unit currency language  \n",
       "0   Government of West Bengal  70000.0  100000.0  Thousands      INR  Bengali  \n",
       "21             Yash Raj Films    400.0    2000.0   Millions      INR    Hindi  \n",
       "22         Vinod Chopra Films    550.0    4000.0   Millions      INR    Hindi  \n",
       "23         Dharma Productions    390.0    1360.0   Millions      INR    Hindi  \n",
       "24                        NaN      1.4       3.5   Billions      INR    Hindi  \n",
       "25                        NaN    120.0    1350.0   Millions      INR    Hindi  \n",
       "26   Vinod Chopra Productions    100.0     410.0   Millions      INR    Hindi  \n",
       "27         Vinod Chopra Films    850.0    8540.0   Millions      INR    Hindi  \n",
       "28         Vinod Chopra Films      1.0       5.9   Billions      INR    Hindi  \n",
       "29                Zee Studios    250.0    3409.0   Millions      INR    Hindi  \n",
       "30          Salman Khan Films    900.0   11690.0   Millions      INR    Hindi  \n",
       "31          Salman Khan Films      1.8       3.1   Billions      INR    Hindi  \n",
       "32         Dharma Productions    500.0     950.0   Millions      INR    Hindi  \n",
       "33              Hombale Films      1.0      12.5   Billions      INR  Kannada  \n",
       "34        Mythri Movie Makers      2.0       3.6   Billions      INR   Telugu  \n",
       "35          DVV Entertainment      5.5      12.0   Billions      INR   Telugu  \n",
       "36           Arka Media Works      1.8       6.5   Billions      INR   Telugu  "
      ]
     },
     "execution_count": 24,
     "metadata": {},
     "output_type": "execute_result"
    }
   ],
   "source": [
    "a"
   ]
  },
  {
   "cell_type": "code",
   "execution_count": null,
   "metadata": {},
   "outputs": [],
   "source": []
  }
 ],
 "metadata": {
  "kernelspec": {
   "display_name": "Python 3",
   "language": "python",
   "name": "python3"
  },
  "language_info": {
   "codemirror_mode": {
    "name": "ipython",
    "version": 3
   },
   "file_extension": ".py",
   "mimetype": "text/x-python",
   "name": "python",
   "nbconvert_exporter": "python",
   "pygments_lexer": "ipython3",
   "version": "3.10.11"
  }
 },
 "nbformat": 4,
 "nbformat_minor": 2
}
