{
 "cells": [
  {
   "cell_type": "code",
   "execution_count": 1,
   "metadata": {},
   "outputs": [
    {
     "data": {
      "application/vnd.microsoft.datawrangler.viewer.v0+json": {
       "columns": [
        {
         "name": "index",
         "rawType": "int64",
         "type": "integer"
        },
        {
         "name": "title",
         "rawType": "object",
         "type": "string"
        },
        {
         "name": "industry",
         "rawType": "object",
         "type": "string"
        },
        {
         "name": "release_year",
         "rawType": "int64",
         "type": "integer"
        },
        {
         "name": "imdb_rating",
         "rawType": "float64",
         "type": "float"
        },
        {
         "name": "studio",
         "rawType": "object",
         "type": "string"
        },
        {
         "name": "budget",
         "rawType": "float64",
         "type": "float"
        },
        {
         "name": "revenue",
         "rawType": "float64",
         "type": "float"
        },
        {
         "name": "unit",
         "rawType": "object",
         "type": "string"
        },
        {
         "name": "currency",
         "rawType": "object",
         "type": "string"
        },
        {
         "name": "language",
         "rawType": "object",
         "type": "string"
        }
       ],
       "conversionMethod": "pd.DataFrame",
       "ref": "2751a09b-56ae-4873-afa2-53d66c1bbfdc",
       "rows": [
        [
         "0",
         "Pather Panchali",
         "Bollywood",
         "1955",
         "8.3",
         "Government of West Bengal",
         "70000.0",
         "100000.0",
         "Thousands",
         "INR",
         "Bengali"
        ],
        [
         "1",
         "Doctor Strange in the Multiverse of Madness",
         "Hollywood",
         "2022",
         "7.0",
         "Marvel Studios",
         "200.0",
         "954.8",
         "Millions",
         "USD",
         "English"
        ],
        [
         "2",
         "Thor: The Dark World ",
         "Hollywood",
         "2013",
         "6.8",
         "Marvel Studios",
         "165.0",
         "644.8",
         "Millions",
         "USD",
         "English"
        ],
        [
         "3",
         "Thor: Ragnarok ",
         "Hollywood",
         "2017",
         "7.9",
         "Marvel Studios",
         "180.0",
         "854.0",
         "Millions",
         "USD",
         "English"
        ]
       ],
       "shape": {
        "columns": 10,
        "rows": 4
       }
      },
      "text/html": [
       "<div>\n",
       "<style scoped>\n",
       "    .dataframe tbody tr th:only-of-type {\n",
       "        vertical-align: middle;\n",
       "    }\n",
       "\n",
       "    .dataframe tbody tr th {\n",
       "        vertical-align: top;\n",
       "    }\n",
       "\n",
       "    .dataframe thead th {\n",
       "        text-align: right;\n",
       "    }\n",
       "</style>\n",
       "<table border=\"1\" class=\"dataframe\">\n",
       "  <thead>\n",
       "    <tr style=\"text-align: right;\">\n",
       "      <th></th>\n",
       "      <th>title</th>\n",
       "      <th>industry</th>\n",
       "      <th>release_year</th>\n",
       "      <th>imdb_rating</th>\n",
       "      <th>studio</th>\n",
       "      <th>budget</th>\n",
       "      <th>revenue</th>\n",
       "      <th>unit</th>\n",
       "      <th>currency</th>\n",
       "      <th>language</th>\n",
       "    </tr>\n",
       "  </thead>\n",
       "  <tbody>\n",
       "    <tr>\n",
       "      <th>0</th>\n",
       "      <td>Pather Panchali</td>\n",
       "      <td>Bollywood</td>\n",
       "      <td>1955</td>\n",
       "      <td>8.3</td>\n",
       "      <td>Government of West Bengal</td>\n",
       "      <td>70000.0</td>\n",
       "      <td>100000.0</td>\n",
       "      <td>Thousands</td>\n",
       "      <td>INR</td>\n",
       "      <td>Bengali</td>\n",
       "    </tr>\n",
       "    <tr>\n",
       "      <th>1</th>\n",
       "      <td>Doctor Strange in the Multiverse of Madness</td>\n",
       "      <td>Hollywood</td>\n",
       "      <td>2022</td>\n",
       "      <td>7.0</td>\n",
       "      <td>Marvel Studios</td>\n",
       "      <td>200.0</td>\n",
       "      <td>954.8</td>\n",
       "      <td>Millions</td>\n",
       "      <td>USD</td>\n",
       "      <td>English</td>\n",
       "    </tr>\n",
       "    <tr>\n",
       "      <th>2</th>\n",
       "      <td>Thor: The Dark World</td>\n",
       "      <td>Hollywood</td>\n",
       "      <td>2013</td>\n",
       "      <td>6.8</td>\n",
       "      <td>Marvel Studios</td>\n",
       "      <td>165.0</td>\n",
       "      <td>644.8</td>\n",
       "      <td>Millions</td>\n",
       "      <td>USD</td>\n",
       "      <td>English</td>\n",
       "    </tr>\n",
       "    <tr>\n",
       "      <th>3</th>\n",
       "      <td>Thor: Ragnarok</td>\n",
       "      <td>Hollywood</td>\n",
       "      <td>2017</td>\n",
       "      <td>7.9</td>\n",
       "      <td>Marvel Studios</td>\n",
       "      <td>180.0</td>\n",
       "      <td>854.0</td>\n",
       "      <td>Millions</td>\n",
       "      <td>USD</td>\n",
       "      <td>English</td>\n",
       "    </tr>\n",
       "  </tbody>\n",
       "</table>\n",
       "</div>"
      ],
      "text/plain": [
       "                                         title   industry  release_year  \\\n",
       "0                              Pather Panchali  Bollywood          1955   \n",
       "1  Doctor Strange in the Multiverse of Madness  Hollywood          2022   \n",
       "2                        Thor: The Dark World   Hollywood          2013   \n",
       "3                              Thor: Ragnarok   Hollywood          2017   \n",
       "\n",
       "   imdb_rating                     studio   budget   revenue       unit  \\\n",
       "0          8.3  Government of West Bengal  70000.0  100000.0  Thousands   \n",
       "1          7.0             Marvel Studios    200.0     954.8   Millions   \n",
       "2          6.8             Marvel Studios    165.0     644.8   Millions   \n",
       "3          7.9             Marvel Studios    180.0     854.0   Millions   \n",
       "\n",
       "  currency language  \n",
       "0      INR  Bengali  \n",
       "1      USD  English  \n",
       "2      USD  English  \n",
       "3      USD  English  "
      ]
     },
     "execution_count": 1,
     "metadata": {},
     "output_type": "execute_result"
    }
   ],
   "source": [
    "import pandas as pd\n",
    "data1 = pd.read_csv('movies.csv')\n",
    "\n",
    "data1.head(4)\n"
   ]
  },
  {
   "cell_type": "code",
   "execution_count": null,
   "metadata": {},
   "outputs": [
    {
     "data": {
      "text/plain": [
       "title\n",
       "PATHER PANCHALI                                1\n",
       "DOCTOR STRANGE IN THE MULTIVERSE OF MADNESS    1\n",
       "THOR: THE DARK WORLD                           1\n",
       "THOR: RAGNAROK                                 1\n",
       "THOR: LOVE AND THUNDER                         1\n",
       "THE SHAWSHANK REDEMPTION                       1\n",
       "INTERSTELLAR                                   1\n",
       "THE PURSUIT OF HAPPYNESS                       1\n",
       "GLADIATOR                                      1\n",
       "TITANIC                                        1\n",
       "IT'S A WONDERFUL LIFE                          1\n",
       "AVATAR                                         1\n",
       "THE GODFATHER                                  1\n",
       "THE DARK KNIGHT                                1\n",
       "SCHINDLER'S LIST                               1\n",
       "JURASSIC PARK                                  1\n",
       "PARASITE                                       1\n",
       "AVENGERS: ENDGAME                              1\n",
       "AVENGERS: INFINITY WAR                         1\n",
       "CAPTAIN AMERICA: THE FIRST AVENGER             1\n",
       "CAPTAIN AMERICA: THE WINTER SOLDIER            1\n",
       "DILWALE DULHANIA LE JAYENGE                    1\n",
       "3 IDIOTS                                       1\n",
       "KABHI KHUSHI KABHIE GHAM                       1\n",
       "BAJIRAO MASTANI                                1\n",
       "TAARE ZAMEEN PAR                               1\n",
       "MUNNA BHAI M.B.B.S.                            1\n",
       "PK                                             1\n",
       "SANJU                                          1\n",
       "THE KASHMIR FILES                              1\n",
       "BAJRANGI BHAIJAAN                              1\n",
       "RACE 3                                         1\n",
       "SHERSHAAH                                      1\n",
       "K.G.F: CHAPTER 2                               1\n",
       "PUSHPA: THE RISE - PART 1                      1\n",
       "RRR                                            1\n",
       "BAAHUBALI: THE BEGINNING                       1\n",
       "Name: count, dtype: int64"
      ]
     },
     "execution_count": 17,
     "metadata": {},
     "output_type": "execute_result"
    }
   ],
   "source": [
    "data1.title\n",
    "data1['title'] = data1['title'].str.upper()\n",
    "data1.shape\n",
    "data1.columns\n",
    "data1.dtypes\n",
    "data1.describe()\n",
    "data1['title'].value_counts() "
   ]
  },
  {
   "cell_type": "code",
   "execution_count": 22,
   "metadata": {},
   "outputs": [
    {
     "data": {
      "text/plain": [
       "industry\n",
       "Hollywood    20\n",
       "Bollywood    17\n",
       "Name: count, dtype: int64"
      ]
     },
     "execution_count": 22,
     "metadata": {},
     "output_type": "execute_result"
    }
   ],
   "source": [
    "data1.industry.unique()\n",
    "data1.industry.value_counts()\n",
    "data1['industry'].value_counts()\n"
   ]
  },
  {
   "cell_type": "code",
   "execution_count": 23,
   "metadata": {},
   "outputs": [
    {
     "data": {
      "text/plain": [
       "array(['Bengali', 'English', 'Hindi', 'Kannada', 'Telugu'], dtype=object)"
      ]
     },
     "execution_count": 23,
     "metadata": {},
     "output_type": "execute_result"
    }
   ],
   "source": [
    "data1.language.unique()"
   ]
  },
  {
   "cell_type": "code",
   "execution_count": 24,
   "metadata": {},
   "outputs": [
    {
     "data": {
      "text/plain": [
       "language\n",
       "English    20\n",
       "Hindi      12\n",
       "Telugu      3\n",
       "Bengali     1\n",
       "Kannada     1\n",
       "Name: count, dtype: int64"
      ]
     },
     "execution_count": 24,
     "metadata": {},
     "output_type": "execute_result"
    }
   ],
   "source": [
    "data1.language.value_counts()"
   ]
  },
  {
   "cell_type": "code",
   "execution_count": 27,
   "metadata": {},
   "outputs": [
    {
     "data": {
      "application/vnd.microsoft.datawrangler.viewer.v0+json": {
       "columns": [
        {
         "name": "index",
         "rawType": "int64",
         "type": "integer"
        },
        {
         "name": "title",
         "rawType": "object",
         "type": "string"
        },
        {
         "name": "language",
         "rawType": "object",
         "type": "string"
        },
        {
         "name": "industry",
         "rawType": "object",
         "type": "string"
        }
       ],
       "conversionMethod": "pd.DataFrame",
       "ref": "b8957b68-acc2-45c5-865d-0ef4cf9c913a",
       "rows": [
        [
         "0",
         "PATHER PANCHALI",
         "Bengali",
         "Bollywood"
        ],
        [
         "1",
         "DOCTOR STRANGE IN THE MULTIVERSE OF MADNESS",
         "English",
         "Hollywood"
        ],
        [
         "2",
         "THOR: THE DARK WORLD ",
         "English",
         "Hollywood"
        ],
        [
         "3",
         "THOR: RAGNAROK ",
         "English",
         "Hollywood"
        ],
        [
         "4",
         "THOR: LOVE AND THUNDER ",
         "English",
         "Hollywood"
        ],
        [
         "5",
         "THE SHAWSHANK REDEMPTION",
         "English",
         "Hollywood"
        ],
        [
         "6",
         "INTERSTELLAR",
         "English",
         "Hollywood"
        ],
        [
         "7",
         "THE PURSUIT OF HAPPYNESS",
         "English",
         "Hollywood"
        ],
        [
         "8",
         "GLADIATOR",
         "English",
         "Hollywood"
        ],
        [
         "9",
         "TITANIC",
         "English",
         "Hollywood"
        ],
        [
         "10",
         "IT'S A WONDERFUL LIFE",
         "English",
         "Hollywood"
        ],
        [
         "11",
         "AVATAR",
         "English",
         "Hollywood"
        ],
        [
         "12",
         "THE GODFATHER",
         "English",
         "Hollywood"
        ],
        [
         "13",
         "THE DARK KNIGHT",
         "English",
         "Hollywood"
        ],
        [
         "14",
         "SCHINDLER'S LIST",
         "English",
         "Hollywood"
        ],
        [
         "15",
         "JURASSIC PARK",
         "English",
         "Hollywood"
        ],
        [
         "16",
         "PARASITE",
         "English",
         "Hollywood"
        ],
        [
         "17",
         "AVENGERS: ENDGAME",
         "English",
         "Hollywood"
        ],
        [
         "18",
         "AVENGERS: INFINITY WAR",
         "English",
         "Hollywood"
        ],
        [
         "19",
         "CAPTAIN AMERICA: THE FIRST AVENGER",
         "English",
         "Hollywood"
        ],
        [
         "20",
         "CAPTAIN AMERICA: THE WINTER SOLDIER",
         "English",
         "Hollywood"
        ],
        [
         "21",
         "DILWALE DULHANIA LE JAYENGE",
         "Hindi",
         "Bollywood"
        ],
        [
         "22",
         "3 IDIOTS",
         "Hindi",
         "Bollywood"
        ],
        [
         "23",
         "KABHI KHUSHI KABHIE GHAM",
         "Hindi",
         "Bollywood"
        ],
        [
         "24",
         "BAJIRAO MASTANI ",
         "Hindi",
         "Bollywood"
        ],
        [
         "25",
         "TAARE ZAMEEN PAR",
         "Hindi",
         "Bollywood"
        ],
        [
         "26",
         "MUNNA BHAI M.B.B.S.",
         "Hindi",
         "Bollywood"
        ],
        [
         "27",
         "PK",
         "Hindi",
         "Bollywood"
        ],
        [
         "28",
         "SANJU",
         "Hindi",
         "Bollywood"
        ],
        [
         "29",
         "THE KASHMIR FILES",
         "Hindi",
         "Bollywood"
        ],
        [
         "30",
         "BAJRANGI BHAIJAAN",
         "Hindi",
         "Bollywood"
        ],
        [
         "31",
         "RACE 3",
         "Hindi",
         "Bollywood"
        ],
        [
         "32",
         "SHERSHAAH",
         "Hindi",
         "Bollywood"
        ],
        [
         "33",
         "K.G.F: CHAPTER 2",
         "Kannada",
         "Bollywood"
        ],
        [
         "34",
         "PUSHPA: THE RISE - PART 1",
         "Telugu",
         "Bollywood"
        ],
        [
         "35",
         "RRR",
         "Telugu",
         "Bollywood"
        ],
        [
         "36",
         "BAAHUBALI: THE BEGINNING",
         "Telugu",
         "Bollywood"
        ]
       ],
       "shape": {
        "columns": 3,
        "rows": 37
       }
      },
      "text/html": [
       "<div>\n",
       "<style scoped>\n",
       "    .dataframe tbody tr th:only-of-type {\n",
       "        vertical-align: middle;\n",
       "    }\n",
       "\n",
       "    .dataframe tbody tr th {\n",
       "        vertical-align: top;\n",
       "    }\n",
       "\n",
       "    .dataframe thead th {\n",
       "        text-align: right;\n",
       "    }\n",
       "</style>\n",
       "<table border=\"1\" class=\"dataframe\">\n",
       "  <thead>\n",
       "    <tr style=\"text-align: right;\">\n",
       "      <th></th>\n",
       "      <th>title</th>\n",
       "      <th>language</th>\n",
       "      <th>industry</th>\n",
       "    </tr>\n",
       "  </thead>\n",
       "  <tbody>\n",
       "    <tr>\n",
       "      <th>0</th>\n",
       "      <td>PATHER PANCHALI</td>\n",
       "      <td>Bengali</td>\n",
       "      <td>Bollywood</td>\n",
       "    </tr>\n",
       "    <tr>\n",
       "      <th>1</th>\n",
       "      <td>DOCTOR STRANGE IN THE MULTIVERSE OF MADNESS</td>\n",
       "      <td>English</td>\n",
       "      <td>Hollywood</td>\n",
       "    </tr>\n",
       "    <tr>\n",
       "      <th>2</th>\n",
       "      <td>THOR: THE DARK WORLD</td>\n",
       "      <td>English</td>\n",
       "      <td>Hollywood</td>\n",
       "    </tr>\n",
       "    <tr>\n",
       "      <th>3</th>\n",
       "      <td>THOR: RAGNAROK</td>\n",
       "      <td>English</td>\n",
       "      <td>Hollywood</td>\n",
       "    </tr>\n",
       "    <tr>\n",
       "      <th>4</th>\n",
       "      <td>THOR: LOVE AND THUNDER</td>\n",
       "      <td>English</td>\n",
       "      <td>Hollywood</td>\n",
       "    </tr>\n",
       "    <tr>\n",
       "      <th>5</th>\n",
       "      <td>THE SHAWSHANK REDEMPTION</td>\n",
       "      <td>English</td>\n",
       "      <td>Hollywood</td>\n",
       "    </tr>\n",
       "    <tr>\n",
       "      <th>6</th>\n",
       "      <td>INTERSTELLAR</td>\n",
       "      <td>English</td>\n",
       "      <td>Hollywood</td>\n",
       "    </tr>\n",
       "    <tr>\n",
       "      <th>7</th>\n",
       "      <td>THE PURSUIT OF HAPPYNESS</td>\n",
       "      <td>English</td>\n",
       "      <td>Hollywood</td>\n",
       "    </tr>\n",
       "    <tr>\n",
       "      <th>8</th>\n",
       "      <td>GLADIATOR</td>\n",
       "      <td>English</td>\n",
       "      <td>Hollywood</td>\n",
       "    </tr>\n",
       "    <tr>\n",
       "      <th>9</th>\n",
       "      <td>TITANIC</td>\n",
       "      <td>English</td>\n",
       "      <td>Hollywood</td>\n",
       "    </tr>\n",
       "    <tr>\n",
       "      <th>10</th>\n",
       "      <td>IT'S A WONDERFUL LIFE</td>\n",
       "      <td>English</td>\n",
       "      <td>Hollywood</td>\n",
       "    </tr>\n",
       "    <tr>\n",
       "      <th>11</th>\n",
       "      <td>AVATAR</td>\n",
       "      <td>English</td>\n",
       "      <td>Hollywood</td>\n",
       "    </tr>\n",
       "    <tr>\n",
       "      <th>12</th>\n",
       "      <td>THE GODFATHER</td>\n",
       "      <td>English</td>\n",
       "      <td>Hollywood</td>\n",
       "    </tr>\n",
       "    <tr>\n",
       "      <th>13</th>\n",
       "      <td>THE DARK KNIGHT</td>\n",
       "      <td>English</td>\n",
       "      <td>Hollywood</td>\n",
       "    </tr>\n",
       "    <tr>\n",
       "      <th>14</th>\n",
       "      <td>SCHINDLER'S LIST</td>\n",
       "      <td>English</td>\n",
       "      <td>Hollywood</td>\n",
       "    </tr>\n",
       "    <tr>\n",
       "      <th>15</th>\n",
       "      <td>JURASSIC PARK</td>\n",
       "      <td>English</td>\n",
       "      <td>Hollywood</td>\n",
       "    </tr>\n",
       "    <tr>\n",
       "      <th>16</th>\n",
       "      <td>PARASITE</td>\n",
       "      <td>English</td>\n",
       "      <td>Hollywood</td>\n",
       "    </tr>\n",
       "    <tr>\n",
       "      <th>17</th>\n",
       "      <td>AVENGERS: ENDGAME</td>\n",
       "      <td>English</td>\n",
       "      <td>Hollywood</td>\n",
       "    </tr>\n",
       "    <tr>\n",
       "      <th>18</th>\n",
       "      <td>AVENGERS: INFINITY WAR</td>\n",
       "      <td>English</td>\n",
       "      <td>Hollywood</td>\n",
       "    </tr>\n",
       "    <tr>\n",
       "      <th>19</th>\n",
       "      <td>CAPTAIN AMERICA: THE FIRST AVENGER</td>\n",
       "      <td>English</td>\n",
       "      <td>Hollywood</td>\n",
       "    </tr>\n",
       "    <tr>\n",
       "      <th>20</th>\n",
       "      <td>CAPTAIN AMERICA: THE WINTER SOLDIER</td>\n",
       "      <td>English</td>\n",
       "      <td>Hollywood</td>\n",
       "    </tr>\n",
       "    <tr>\n",
       "      <th>21</th>\n",
       "      <td>DILWALE DULHANIA LE JAYENGE</td>\n",
       "      <td>Hindi</td>\n",
       "      <td>Bollywood</td>\n",
       "    </tr>\n",
       "    <tr>\n",
       "      <th>22</th>\n",
       "      <td>3 IDIOTS</td>\n",
       "      <td>Hindi</td>\n",
       "      <td>Bollywood</td>\n",
       "    </tr>\n",
       "    <tr>\n",
       "      <th>23</th>\n",
       "      <td>KABHI KHUSHI KABHIE GHAM</td>\n",
       "      <td>Hindi</td>\n",
       "      <td>Bollywood</td>\n",
       "    </tr>\n",
       "    <tr>\n",
       "      <th>24</th>\n",
       "      <td>BAJIRAO MASTANI</td>\n",
       "      <td>Hindi</td>\n",
       "      <td>Bollywood</td>\n",
       "    </tr>\n",
       "    <tr>\n",
       "      <th>25</th>\n",
       "      <td>TAARE ZAMEEN PAR</td>\n",
       "      <td>Hindi</td>\n",
       "      <td>Bollywood</td>\n",
       "    </tr>\n",
       "    <tr>\n",
       "      <th>26</th>\n",
       "      <td>MUNNA BHAI M.B.B.S.</td>\n",
       "      <td>Hindi</td>\n",
       "      <td>Bollywood</td>\n",
       "    </tr>\n",
       "    <tr>\n",
       "      <th>27</th>\n",
       "      <td>PK</td>\n",
       "      <td>Hindi</td>\n",
       "      <td>Bollywood</td>\n",
       "    </tr>\n",
       "    <tr>\n",
       "      <th>28</th>\n",
       "      <td>SANJU</td>\n",
       "      <td>Hindi</td>\n",
       "      <td>Bollywood</td>\n",
       "    </tr>\n",
       "    <tr>\n",
       "      <th>29</th>\n",
       "      <td>THE KASHMIR FILES</td>\n",
       "      <td>Hindi</td>\n",
       "      <td>Bollywood</td>\n",
       "    </tr>\n",
       "    <tr>\n",
       "      <th>30</th>\n",
       "      <td>BAJRANGI BHAIJAAN</td>\n",
       "      <td>Hindi</td>\n",
       "      <td>Bollywood</td>\n",
       "    </tr>\n",
       "    <tr>\n",
       "      <th>31</th>\n",
       "      <td>RACE 3</td>\n",
       "      <td>Hindi</td>\n",
       "      <td>Bollywood</td>\n",
       "    </tr>\n",
       "    <tr>\n",
       "      <th>32</th>\n",
       "      <td>SHERSHAAH</td>\n",
       "      <td>Hindi</td>\n",
       "      <td>Bollywood</td>\n",
       "    </tr>\n",
       "    <tr>\n",
       "      <th>33</th>\n",
       "      <td>K.G.F: CHAPTER 2</td>\n",
       "      <td>Kannada</td>\n",
       "      <td>Bollywood</td>\n",
       "    </tr>\n",
       "    <tr>\n",
       "      <th>34</th>\n",
       "      <td>PUSHPA: THE RISE - PART 1</td>\n",
       "      <td>Telugu</td>\n",
       "      <td>Bollywood</td>\n",
       "    </tr>\n",
       "    <tr>\n",
       "      <th>35</th>\n",
       "      <td>RRR</td>\n",
       "      <td>Telugu</td>\n",
       "      <td>Bollywood</td>\n",
       "    </tr>\n",
       "    <tr>\n",
       "      <th>36</th>\n",
       "      <td>BAAHUBALI: THE BEGINNING</td>\n",
       "      <td>Telugu</td>\n",
       "      <td>Bollywood</td>\n",
       "    </tr>\n",
       "  </tbody>\n",
       "</table>\n",
       "</div>"
      ],
      "text/plain": [
       "                                          title language   industry\n",
       "0                               PATHER PANCHALI  Bengali  Bollywood\n",
       "1   DOCTOR STRANGE IN THE MULTIVERSE OF MADNESS  English  Hollywood\n",
       "2                         THOR: THE DARK WORLD   English  Hollywood\n",
       "3                               THOR: RAGNAROK   English  Hollywood\n",
       "4                       THOR: LOVE AND THUNDER   English  Hollywood\n",
       "5                      THE SHAWSHANK REDEMPTION  English  Hollywood\n",
       "6                                  INTERSTELLAR  English  Hollywood\n",
       "7                      THE PURSUIT OF HAPPYNESS  English  Hollywood\n",
       "8                                     GLADIATOR  English  Hollywood\n",
       "9                                       TITANIC  English  Hollywood\n",
       "10                        IT'S A WONDERFUL LIFE  English  Hollywood\n",
       "11                                       AVATAR  English  Hollywood\n",
       "12                                THE GODFATHER  English  Hollywood\n",
       "13                              THE DARK KNIGHT  English  Hollywood\n",
       "14                             SCHINDLER'S LIST  English  Hollywood\n",
       "15                                JURASSIC PARK  English  Hollywood\n",
       "16                                     PARASITE  English  Hollywood\n",
       "17                            AVENGERS: ENDGAME  English  Hollywood\n",
       "18                       AVENGERS: INFINITY WAR  English  Hollywood\n",
       "19           CAPTAIN AMERICA: THE FIRST AVENGER  English  Hollywood\n",
       "20          CAPTAIN AMERICA: THE WINTER SOLDIER  English  Hollywood\n",
       "21                  DILWALE DULHANIA LE JAYENGE    Hindi  Bollywood\n",
       "22                                     3 IDIOTS    Hindi  Bollywood\n",
       "23                     KABHI KHUSHI KABHIE GHAM    Hindi  Bollywood\n",
       "24                             BAJIRAO MASTANI     Hindi  Bollywood\n",
       "25                             TAARE ZAMEEN PAR    Hindi  Bollywood\n",
       "26                          MUNNA BHAI M.B.B.S.    Hindi  Bollywood\n",
       "27                                           PK    Hindi  Bollywood\n",
       "28                                        SANJU    Hindi  Bollywood\n",
       "29                            THE KASHMIR FILES    Hindi  Bollywood\n",
       "30                            BAJRANGI BHAIJAAN    Hindi  Bollywood\n",
       "31                                       RACE 3    Hindi  Bollywood\n",
       "32                                    SHERSHAAH    Hindi  Bollywood\n",
       "33                             K.G.F: CHAPTER 2  Kannada  Bollywood\n",
       "34                    PUSHPA: THE RISE - PART 1   Telugu  Bollywood\n",
       "35                                          RRR   Telugu  Bollywood\n",
       "36                     BAAHUBALI: THE BEGINNING   Telugu  Bollywood"
      ]
     },
     "execution_count": 27,
     "metadata": {},
     "output_type": "execute_result"
    }
   ],
   "source": [
    "data1[['title','language','industry']]\n",
    "# data1[['title','language','industry']].head(10)\n"
   ]
  },
  {
   "cell_type": "code",
   "execution_count": 30,
   "metadata": {},
   "outputs": [
    {
     "data": {
      "application/vnd.microsoft.datawrangler.viewer.v0+json": {
       "columns": [
        {
         "name": "index",
         "rawType": "int64",
         "type": "integer"
        },
        {
         "name": "title",
         "rawType": "object",
         "type": "string"
        },
        {
         "name": "industry",
         "rawType": "object",
         "type": "string"
        },
        {
         "name": "release_year",
         "rawType": "int64",
         "type": "integer"
        },
        {
         "name": "imdb_rating",
         "rawType": "float64",
         "type": "float"
        },
        {
         "name": "studio",
         "rawType": "object",
         "type": "unknown"
        },
        {
         "name": "budget",
         "rawType": "float64",
         "type": "float"
        },
        {
         "name": "revenue",
         "rawType": "float64",
         "type": "float"
        },
        {
         "name": "unit",
         "rawType": "object",
         "type": "string"
        },
        {
         "name": "currency",
         "rawType": "object",
         "type": "string"
        },
        {
         "name": "language",
         "rawType": "object",
         "type": "string"
        }
       ],
       "conversionMethod": "pd.DataFrame",
       "ref": "47ef99cc-0f8a-4fde-a95d-0acf541bfa50",
       "rows": [
        [
         "1",
         "DOCTOR STRANGE IN THE MULTIVERSE OF MADNESS",
         "Hollywood",
         "2022",
         "7.0",
         "Marvel Studios",
         "200.0",
         "954.8",
         "Millions",
         "USD",
         "English"
        ],
        [
         "2",
         "THOR: THE DARK WORLD ",
         "Hollywood",
         "2013",
         "6.8",
         "Marvel Studios",
         "165.0",
         "644.8",
         "Millions",
         "USD",
         "English"
        ],
        [
         "3",
         "THOR: RAGNAROK ",
         "Hollywood",
         "2017",
         "7.9",
         "Marvel Studios",
         "180.0",
         "854.0",
         "Millions",
         "USD",
         "English"
        ],
        [
         "4",
         "THOR: LOVE AND THUNDER ",
         "Hollywood",
         "2022",
         "6.8",
         "Marvel Studios",
         "250.0",
         "670.0",
         "Millions",
         "USD",
         "English"
        ],
        [
         "5",
         "THE SHAWSHANK REDEMPTION",
         "Hollywood",
         "1994",
         "9.3",
         "Castle Rock Entertainment",
         "25.0",
         "73.3",
         "Millions",
         "USD",
         "English"
        ],
        [
         "6",
         "INTERSTELLAR",
         "Hollywood",
         "2014",
         "8.6",
         "Warner Bros. Pictures",
         "165.0",
         "701.8",
         "Millions",
         "USD",
         "English"
        ],
        [
         "7",
         "THE PURSUIT OF HAPPYNESS",
         "Hollywood",
         "2006",
         "8.0",
         "Columbia Pictures",
         "55.0",
         "307.1",
         "Millions",
         "USD",
         "English"
        ],
        [
         "8",
         "GLADIATOR",
         "Hollywood",
         "2000",
         "8.5",
         "Universal Pictures  ",
         "103.0",
         "460.5",
         "Millions",
         "USD",
         "English"
        ],
        [
         "9",
         "TITANIC",
         "Hollywood",
         "1997",
         "7.9",
         "Paramount Pictures",
         "200.0",
         "2202.0",
         "Millions",
         "USD",
         "English"
        ],
        [
         "10",
         "IT'S A WONDERFUL LIFE",
         "Hollywood",
         "1946",
         "8.6",
         "Liberty Films",
         "3.18",
         "3.3",
         "Millions",
         "USD",
         "English"
        ],
        [
         "11",
         "AVATAR",
         "Hollywood",
         "2009",
         "7.8",
         "20th Century Fox",
         "237.0",
         "2847.0",
         "Millions",
         "USD",
         "English"
        ],
        [
         "12",
         "THE GODFATHER",
         "Hollywood",
         "1972",
         "9.2",
         "Paramount Pictures",
         "7.2",
         "291.0",
         "Millions",
         "USD",
         "English"
        ],
        [
         "13",
         "THE DARK KNIGHT",
         "Hollywood",
         "2008",
         "9.0",
         "Syncopy",
         "185.0",
         "1006.0",
         "Millions",
         "USD",
         "English"
        ],
        [
         "14",
         "SCHINDLER'S LIST",
         "Hollywood",
         "1993",
         "9.0",
         "Universal Pictures",
         "22.0",
         "322.2",
         "Millions",
         "USD",
         "English"
        ],
        [
         "15",
         "JURASSIC PARK",
         "Hollywood",
         "1993",
         "8.2",
         "Universal Pictures",
         "63.0",
         "1046.0",
         "Millions",
         "USD",
         "English"
        ],
        [
         "16",
         "PARASITE",
         "Hollywood",
         "2019",
         "8.5",
         null,
         "15.5",
         "263.1",
         "Millions",
         "USD",
         "English"
        ],
        [
         "17",
         "AVENGERS: ENDGAME",
         "Hollywood",
         "2019",
         "8.4",
         "Marvel Studios",
         "400.0",
         "2798.0",
         "Millions",
         "USD",
         "English"
        ],
        [
         "18",
         "AVENGERS: INFINITY WAR",
         "Hollywood",
         "2018",
         "8.4",
         "Marvel Studios",
         "400.0",
         "2048.0",
         "Millions",
         "USD",
         "English"
        ],
        [
         "19",
         "CAPTAIN AMERICA: THE FIRST AVENGER",
         "Hollywood",
         "2011",
         "6.9",
         "Marvel Studios",
         "216.7",
         "370.6",
         "Millions",
         "USD",
         "English"
        ],
        [
         "20",
         "CAPTAIN AMERICA: THE WINTER SOLDIER",
         "Hollywood",
         "2014",
         "7.8",
         "Marvel Studios",
         "177.0",
         "714.4",
         "Millions",
         "USD",
         "English"
        ]
       ],
       "shape": {
        "columns": 10,
        "rows": 20
       }
      },
      "text/html": [
       "<div>\n",
       "<style scoped>\n",
       "    .dataframe tbody tr th:only-of-type {\n",
       "        vertical-align: middle;\n",
       "    }\n",
       "\n",
       "    .dataframe tbody tr th {\n",
       "        vertical-align: top;\n",
       "    }\n",
       "\n",
       "    .dataframe thead th {\n",
       "        text-align: right;\n",
       "    }\n",
       "</style>\n",
       "<table border=\"1\" class=\"dataframe\">\n",
       "  <thead>\n",
       "    <tr style=\"text-align: right;\">\n",
       "      <th></th>\n",
       "      <th>title</th>\n",
       "      <th>industry</th>\n",
       "      <th>release_year</th>\n",
       "      <th>imdb_rating</th>\n",
       "      <th>studio</th>\n",
       "      <th>budget</th>\n",
       "      <th>revenue</th>\n",
       "      <th>unit</th>\n",
       "      <th>currency</th>\n",
       "      <th>language</th>\n",
       "    </tr>\n",
       "  </thead>\n",
       "  <tbody>\n",
       "    <tr>\n",
       "      <th>1</th>\n",
       "      <td>DOCTOR STRANGE IN THE MULTIVERSE OF MADNESS</td>\n",
       "      <td>Hollywood</td>\n",
       "      <td>2022</td>\n",
       "      <td>7.0</td>\n",
       "      <td>Marvel Studios</td>\n",
       "      <td>200.00</td>\n",
       "      <td>954.8</td>\n",
       "      <td>Millions</td>\n",
       "      <td>USD</td>\n",
       "      <td>English</td>\n",
       "    </tr>\n",
       "    <tr>\n",
       "      <th>2</th>\n",
       "      <td>THOR: THE DARK WORLD</td>\n",
       "      <td>Hollywood</td>\n",
       "      <td>2013</td>\n",
       "      <td>6.8</td>\n",
       "      <td>Marvel Studios</td>\n",
       "      <td>165.00</td>\n",
       "      <td>644.8</td>\n",
       "      <td>Millions</td>\n",
       "      <td>USD</td>\n",
       "      <td>English</td>\n",
       "    </tr>\n",
       "    <tr>\n",
       "      <th>3</th>\n",
       "      <td>THOR: RAGNAROK</td>\n",
       "      <td>Hollywood</td>\n",
       "      <td>2017</td>\n",
       "      <td>7.9</td>\n",
       "      <td>Marvel Studios</td>\n",
       "      <td>180.00</td>\n",
       "      <td>854.0</td>\n",
       "      <td>Millions</td>\n",
       "      <td>USD</td>\n",
       "      <td>English</td>\n",
       "    </tr>\n",
       "    <tr>\n",
       "      <th>4</th>\n",
       "      <td>THOR: LOVE AND THUNDER</td>\n",
       "      <td>Hollywood</td>\n",
       "      <td>2022</td>\n",
       "      <td>6.8</td>\n",
       "      <td>Marvel Studios</td>\n",
       "      <td>250.00</td>\n",
       "      <td>670.0</td>\n",
       "      <td>Millions</td>\n",
       "      <td>USD</td>\n",
       "      <td>English</td>\n",
       "    </tr>\n",
       "    <tr>\n",
       "      <th>5</th>\n",
       "      <td>THE SHAWSHANK REDEMPTION</td>\n",
       "      <td>Hollywood</td>\n",
       "      <td>1994</td>\n",
       "      <td>9.3</td>\n",
       "      <td>Castle Rock Entertainment</td>\n",
       "      <td>25.00</td>\n",
       "      <td>73.3</td>\n",
       "      <td>Millions</td>\n",
       "      <td>USD</td>\n",
       "      <td>English</td>\n",
       "    </tr>\n",
       "    <tr>\n",
       "      <th>6</th>\n",
       "      <td>INTERSTELLAR</td>\n",
       "      <td>Hollywood</td>\n",
       "      <td>2014</td>\n",
       "      <td>8.6</td>\n",
       "      <td>Warner Bros. Pictures</td>\n",
       "      <td>165.00</td>\n",
       "      <td>701.8</td>\n",
       "      <td>Millions</td>\n",
       "      <td>USD</td>\n",
       "      <td>English</td>\n",
       "    </tr>\n",
       "    <tr>\n",
       "      <th>7</th>\n",
       "      <td>THE PURSUIT OF HAPPYNESS</td>\n",
       "      <td>Hollywood</td>\n",
       "      <td>2006</td>\n",
       "      <td>8.0</td>\n",
       "      <td>Columbia Pictures</td>\n",
       "      <td>55.00</td>\n",
       "      <td>307.1</td>\n",
       "      <td>Millions</td>\n",
       "      <td>USD</td>\n",
       "      <td>English</td>\n",
       "    </tr>\n",
       "    <tr>\n",
       "      <th>8</th>\n",
       "      <td>GLADIATOR</td>\n",
       "      <td>Hollywood</td>\n",
       "      <td>2000</td>\n",
       "      <td>8.5</td>\n",
       "      <td>Universal Pictures</td>\n",
       "      <td>103.00</td>\n",
       "      <td>460.5</td>\n",
       "      <td>Millions</td>\n",
       "      <td>USD</td>\n",
       "      <td>English</td>\n",
       "    </tr>\n",
       "    <tr>\n",
       "      <th>9</th>\n",
       "      <td>TITANIC</td>\n",
       "      <td>Hollywood</td>\n",
       "      <td>1997</td>\n",
       "      <td>7.9</td>\n",
       "      <td>Paramount Pictures</td>\n",
       "      <td>200.00</td>\n",
       "      <td>2202.0</td>\n",
       "      <td>Millions</td>\n",
       "      <td>USD</td>\n",
       "      <td>English</td>\n",
       "    </tr>\n",
       "    <tr>\n",
       "      <th>10</th>\n",
       "      <td>IT'S A WONDERFUL LIFE</td>\n",
       "      <td>Hollywood</td>\n",
       "      <td>1946</td>\n",
       "      <td>8.6</td>\n",
       "      <td>Liberty Films</td>\n",
       "      <td>3.18</td>\n",
       "      <td>3.3</td>\n",
       "      <td>Millions</td>\n",
       "      <td>USD</td>\n",
       "      <td>English</td>\n",
       "    </tr>\n",
       "    <tr>\n",
       "      <th>11</th>\n",
       "      <td>AVATAR</td>\n",
       "      <td>Hollywood</td>\n",
       "      <td>2009</td>\n",
       "      <td>7.8</td>\n",
       "      <td>20th Century Fox</td>\n",
       "      <td>237.00</td>\n",
       "      <td>2847.0</td>\n",
       "      <td>Millions</td>\n",
       "      <td>USD</td>\n",
       "      <td>English</td>\n",
       "    </tr>\n",
       "    <tr>\n",
       "      <th>12</th>\n",
       "      <td>THE GODFATHER</td>\n",
       "      <td>Hollywood</td>\n",
       "      <td>1972</td>\n",
       "      <td>9.2</td>\n",
       "      <td>Paramount Pictures</td>\n",
       "      <td>7.20</td>\n",
       "      <td>291.0</td>\n",
       "      <td>Millions</td>\n",
       "      <td>USD</td>\n",
       "      <td>English</td>\n",
       "    </tr>\n",
       "    <tr>\n",
       "      <th>13</th>\n",
       "      <td>THE DARK KNIGHT</td>\n",
       "      <td>Hollywood</td>\n",
       "      <td>2008</td>\n",
       "      <td>9.0</td>\n",
       "      <td>Syncopy</td>\n",
       "      <td>185.00</td>\n",
       "      <td>1006.0</td>\n",
       "      <td>Millions</td>\n",
       "      <td>USD</td>\n",
       "      <td>English</td>\n",
       "    </tr>\n",
       "    <tr>\n",
       "      <th>14</th>\n",
       "      <td>SCHINDLER'S LIST</td>\n",
       "      <td>Hollywood</td>\n",
       "      <td>1993</td>\n",
       "      <td>9.0</td>\n",
       "      <td>Universal Pictures</td>\n",
       "      <td>22.00</td>\n",
       "      <td>322.2</td>\n",
       "      <td>Millions</td>\n",
       "      <td>USD</td>\n",
       "      <td>English</td>\n",
       "    </tr>\n",
       "    <tr>\n",
       "      <th>15</th>\n",
       "      <td>JURASSIC PARK</td>\n",
       "      <td>Hollywood</td>\n",
       "      <td>1993</td>\n",
       "      <td>8.2</td>\n",
       "      <td>Universal Pictures</td>\n",
       "      <td>63.00</td>\n",
       "      <td>1046.0</td>\n",
       "      <td>Millions</td>\n",
       "      <td>USD</td>\n",
       "      <td>English</td>\n",
       "    </tr>\n",
       "    <tr>\n",
       "      <th>16</th>\n",
       "      <td>PARASITE</td>\n",
       "      <td>Hollywood</td>\n",
       "      <td>2019</td>\n",
       "      <td>8.5</td>\n",
       "      <td>NaN</td>\n",
       "      <td>15.50</td>\n",
       "      <td>263.1</td>\n",
       "      <td>Millions</td>\n",
       "      <td>USD</td>\n",
       "      <td>English</td>\n",
       "    </tr>\n",
       "    <tr>\n",
       "      <th>17</th>\n",
       "      <td>AVENGERS: ENDGAME</td>\n",
       "      <td>Hollywood</td>\n",
       "      <td>2019</td>\n",
       "      <td>8.4</td>\n",
       "      <td>Marvel Studios</td>\n",
       "      <td>400.00</td>\n",
       "      <td>2798.0</td>\n",
       "      <td>Millions</td>\n",
       "      <td>USD</td>\n",
       "      <td>English</td>\n",
       "    </tr>\n",
       "    <tr>\n",
       "      <th>18</th>\n",
       "      <td>AVENGERS: INFINITY WAR</td>\n",
       "      <td>Hollywood</td>\n",
       "      <td>2018</td>\n",
       "      <td>8.4</td>\n",
       "      <td>Marvel Studios</td>\n",
       "      <td>400.00</td>\n",
       "      <td>2048.0</td>\n",
       "      <td>Millions</td>\n",
       "      <td>USD</td>\n",
       "      <td>English</td>\n",
       "    </tr>\n",
       "    <tr>\n",
       "      <th>19</th>\n",
       "      <td>CAPTAIN AMERICA: THE FIRST AVENGER</td>\n",
       "      <td>Hollywood</td>\n",
       "      <td>2011</td>\n",
       "      <td>6.9</td>\n",
       "      <td>Marvel Studios</td>\n",
       "      <td>216.70</td>\n",
       "      <td>370.6</td>\n",
       "      <td>Millions</td>\n",
       "      <td>USD</td>\n",
       "      <td>English</td>\n",
       "    </tr>\n",
       "    <tr>\n",
       "      <th>20</th>\n",
       "      <td>CAPTAIN AMERICA: THE WINTER SOLDIER</td>\n",
       "      <td>Hollywood</td>\n",
       "      <td>2014</td>\n",
       "      <td>7.8</td>\n",
       "      <td>Marvel Studios</td>\n",
       "      <td>177.00</td>\n",
       "      <td>714.4</td>\n",
       "      <td>Millions</td>\n",
       "      <td>USD</td>\n",
       "      <td>English</td>\n",
       "    </tr>\n",
       "  </tbody>\n",
       "</table>\n",
       "</div>"
      ],
      "text/plain": [
       "                                          title   industry  release_year  \\\n",
       "1   DOCTOR STRANGE IN THE MULTIVERSE OF MADNESS  Hollywood          2022   \n",
       "2                         THOR: THE DARK WORLD   Hollywood          2013   \n",
       "3                               THOR: RAGNAROK   Hollywood          2017   \n",
       "4                       THOR: LOVE AND THUNDER   Hollywood          2022   \n",
       "5                      THE SHAWSHANK REDEMPTION  Hollywood          1994   \n",
       "6                                  INTERSTELLAR  Hollywood          2014   \n",
       "7                      THE PURSUIT OF HAPPYNESS  Hollywood          2006   \n",
       "8                                     GLADIATOR  Hollywood          2000   \n",
       "9                                       TITANIC  Hollywood          1997   \n",
       "10                        IT'S A WONDERFUL LIFE  Hollywood          1946   \n",
       "11                                       AVATAR  Hollywood          2009   \n",
       "12                                THE GODFATHER  Hollywood          1972   \n",
       "13                              THE DARK KNIGHT  Hollywood          2008   \n",
       "14                             SCHINDLER'S LIST  Hollywood          1993   \n",
       "15                                JURASSIC PARK  Hollywood          1993   \n",
       "16                                     PARASITE  Hollywood          2019   \n",
       "17                            AVENGERS: ENDGAME  Hollywood          2019   \n",
       "18                       AVENGERS: INFINITY WAR  Hollywood          2018   \n",
       "19           CAPTAIN AMERICA: THE FIRST AVENGER  Hollywood          2011   \n",
       "20          CAPTAIN AMERICA: THE WINTER SOLDIER  Hollywood          2014   \n",
       "\n",
       "    imdb_rating                     studio  budget  revenue      unit  \\\n",
       "1           7.0             Marvel Studios  200.00    954.8  Millions   \n",
       "2           6.8             Marvel Studios  165.00    644.8  Millions   \n",
       "3           7.9             Marvel Studios  180.00    854.0  Millions   \n",
       "4           6.8             Marvel Studios  250.00    670.0  Millions   \n",
       "5           9.3  Castle Rock Entertainment   25.00     73.3  Millions   \n",
       "6           8.6      Warner Bros. Pictures  165.00    701.8  Millions   \n",
       "7           8.0          Columbia Pictures   55.00    307.1  Millions   \n",
       "8           8.5       Universal Pictures    103.00    460.5  Millions   \n",
       "9           7.9         Paramount Pictures  200.00   2202.0  Millions   \n",
       "10          8.6              Liberty Films    3.18      3.3  Millions   \n",
       "11          7.8           20th Century Fox  237.00   2847.0  Millions   \n",
       "12          9.2         Paramount Pictures    7.20    291.0  Millions   \n",
       "13          9.0                    Syncopy  185.00   1006.0  Millions   \n",
       "14          9.0         Universal Pictures   22.00    322.2  Millions   \n",
       "15          8.2         Universal Pictures   63.00   1046.0  Millions   \n",
       "16          8.5                        NaN   15.50    263.1  Millions   \n",
       "17          8.4             Marvel Studios  400.00   2798.0  Millions   \n",
       "18          8.4             Marvel Studios  400.00   2048.0  Millions   \n",
       "19          6.9             Marvel Studios  216.70    370.6  Millions   \n",
       "20          7.8             Marvel Studios  177.00    714.4  Millions   \n",
       "\n",
       "   currency language  \n",
       "1       USD  English  \n",
       "2       USD  English  \n",
       "3       USD  English  \n",
       "4       USD  English  \n",
       "5       USD  English  \n",
       "6       USD  English  \n",
       "7       USD  English  \n",
       "8       USD  English  \n",
       "9       USD  English  \n",
       "10      USD  English  \n",
       "11      USD  English  \n",
       "12      USD  English  \n",
       "13      USD  English  \n",
       "14      USD  English  \n",
       "15      USD  English  \n",
       "16      USD  English  \n",
       "17      USD  English  \n",
       "18      USD  English  \n",
       "19      USD  English  \n",
       "20      USD  English  "
      ]
     },
     "execution_count": 30,
     "metadata": {},
     "output_type": "execute_result"
    }
   ],
   "source": [
    "data1[data1['language']=='English']"
   ]
  },
  {
   "cell_type": "code",
   "execution_count": 33,
   "metadata": {},
   "outputs": [
    {
     "data": {
      "application/vnd.microsoft.datawrangler.viewer.v0+json": {
       "columns": [
        {
         "name": "index",
         "rawType": "int64",
         "type": "integer"
        },
        {
         "name": "title",
         "rawType": "object",
         "type": "string"
        },
        {
         "name": "industry",
         "rawType": "object",
         "type": "string"
        },
        {
         "name": "release_year",
         "rawType": "int64",
         "type": "integer"
        },
        {
         "name": "imdb_rating",
         "rawType": "float64",
         "type": "float"
        },
        {
         "name": "studio",
         "rawType": "object",
         "type": "unknown"
        },
        {
         "name": "budget",
         "rawType": "float64",
         "type": "float"
        },
        {
         "name": "revenue",
         "rawType": "float64",
         "type": "float"
        },
        {
         "name": "unit",
         "rawType": "object",
         "type": "string"
        },
        {
         "name": "currency",
         "rawType": "object",
         "type": "string"
        },
        {
         "name": "language",
         "rawType": "object",
         "type": "string"
        }
       ],
       "conversionMethod": "pd.DataFrame",
       "ref": "3cc83512-87c8-4ef6-8c63-2a6cf033b07c",
       "rows": [
        [
         "1",
         "DOCTOR STRANGE IN THE MULTIVERSE OF MADNESS",
         "Hollywood",
         "2022",
         "7.0",
         "Marvel Studios",
         "200.0",
         "954.8",
         "Millions",
         "USD",
         "English"
        ],
        [
         "3",
         "THOR: RAGNAROK ",
         "Hollywood",
         "2017",
         "7.9",
         "Marvel Studios",
         "180.0",
         "854.0",
         "Millions",
         "USD",
         "English"
        ],
        [
         "4",
         "THOR: LOVE AND THUNDER ",
         "Hollywood",
         "2022",
         "6.8",
         "Marvel Studios",
         "250.0",
         "670.0",
         "Millions",
         "USD",
         "English"
        ],
        [
         "16",
         "PARASITE",
         "Hollywood",
         "2019",
         "8.5",
         null,
         "15.5",
         "263.1",
         "Millions",
         "USD",
         "English"
        ],
        [
         "17",
         "AVENGERS: ENDGAME",
         "Hollywood",
         "2019",
         "8.4",
         "Marvel Studios",
         "400.0",
         "2798.0",
         "Millions",
         "USD",
         "English"
        ],
        [
         "18",
         "AVENGERS: INFINITY WAR",
         "Hollywood",
         "2018",
         "8.4",
         "Marvel Studios",
         "400.0",
         "2048.0",
         "Millions",
         "USD",
         "English"
        ],
        [
         "28",
         "SANJU",
         "Bollywood",
         "2018",
         null,
         "Vinod Chopra Films",
         "1.0",
         "5.9",
         "Billions",
         "INR",
         "Hindi"
        ],
        [
         "29",
         "THE KASHMIR FILES",
         "Bollywood",
         "2022",
         "8.3",
         "Zee Studios",
         "250.0",
         "3409.0",
         "Millions",
         "INR",
         "Hindi"
        ],
        [
         "31",
         "RACE 3",
         "Bollywood",
         "2018",
         "1.9",
         "Salman Khan Films",
         "1.8",
         "3.1",
         "Billions",
         "INR",
         "Hindi"
        ],
        [
         "32",
         "SHERSHAAH",
         "Bollywood",
         "2021",
         "8.4",
         "Dharma Productions",
         "500.0",
         "950.0",
         "Millions",
         "INR",
         "Hindi"
        ],
        [
         "33",
         "K.G.F: CHAPTER 2",
         "Bollywood",
         "2022",
         "8.4",
         "Hombale Films",
         "1.0",
         "12.5",
         "Billions",
         "INR",
         "Kannada"
        ],
        [
         "34",
         "PUSHPA: THE RISE - PART 1",
         "Bollywood",
         "2021",
         "7.6",
         "Mythri Movie Makers",
         "2.0",
         "3.6",
         "Billions",
         "INR",
         "Telugu"
        ],
        [
         "35",
         "RRR",
         "Bollywood",
         "2022",
         "8.0",
         "DVV Entertainment",
         "5.5",
         "12.0",
         "Billions",
         "INR",
         "Telugu"
        ]
       ],
       "shape": {
        "columns": 10,
        "rows": 13
       }
      },
      "text/html": [
       "<div>\n",
       "<style scoped>\n",
       "    .dataframe tbody tr th:only-of-type {\n",
       "        vertical-align: middle;\n",
       "    }\n",
       "\n",
       "    .dataframe tbody tr th {\n",
       "        vertical-align: top;\n",
       "    }\n",
       "\n",
       "    .dataframe thead th {\n",
       "        text-align: right;\n",
       "    }\n",
       "</style>\n",
       "<table border=\"1\" class=\"dataframe\">\n",
       "  <thead>\n",
       "    <tr style=\"text-align: right;\">\n",
       "      <th></th>\n",
       "      <th>title</th>\n",
       "      <th>industry</th>\n",
       "      <th>release_year</th>\n",
       "      <th>imdb_rating</th>\n",
       "      <th>studio</th>\n",
       "      <th>budget</th>\n",
       "      <th>revenue</th>\n",
       "      <th>unit</th>\n",
       "      <th>currency</th>\n",
       "      <th>language</th>\n",
       "    </tr>\n",
       "  </thead>\n",
       "  <tbody>\n",
       "    <tr>\n",
       "      <th>1</th>\n",
       "      <td>DOCTOR STRANGE IN THE MULTIVERSE OF MADNESS</td>\n",
       "      <td>Hollywood</td>\n",
       "      <td>2022</td>\n",
       "      <td>7.0</td>\n",
       "      <td>Marvel Studios</td>\n",
       "      <td>200.0</td>\n",
       "      <td>954.8</td>\n",
       "      <td>Millions</td>\n",
       "      <td>USD</td>\n",
       "      <td>English</td>\n",
       "    </tr>\n",
       "    <tr>\n",
       "      <th>3</th>\n",
       "      <td>THOR: RAGNAROK</td>\n",
       "      <td>Hollywood</td>\n",
       "      <td>2017</td>\n",
       "      <td>7.9</td>\n",
       "      <td>Marvel Studios</td>\n",
       "      <td>180.0</td>\n",
       "      <td>854.0</td>\n",
       "      <td>Millions</td>\n",
       "      <td>USD</td>\n",
       "      <td>English</td>\n",
       "    </tr>\n",
       "    <tr>\n",
       "      <th>4</th>\n",
       "      <td>THOR: LOVE AND THUNDER</td>\n",
       "      <td>Hollywood</td>\n",
       "      <td>2022</td>\n",
       "      <td>6.8</td>\n",
       "      <td>Marvel Studios</td>\n",
       "      <td>250.0</td>\n",
       "      <td>670.0</td>\n",
       "      <td>Millions</td>\n",
       "      <td>USD</td>\n",
       "      <td>English</td>\n",
       "    </tr>\n",
       "    <tr>\n",
       "      <th>16</th>\n",
       "      <td>PARASITE</td>\n",
       "      <td>Hollywood</td>\n",
       "      <td>2019</td>\n",
       "      <td>8.5</td>\n",
       "      <td>NaN</td>\n",
       "      <td>15.5</td>\n",
       "      <td>263.1</td>\n",
       "      <td>Millions</td>\n",
       "      <td>USD</td>\n",
       "      <td>English</td>\n",
       "    </tr>\n",
       "    <tr>\n",
       "      <th>17</th>\n",
       "      <td>AVENGERS: ENDGAME</td>\n",
       "      <td>Hollywood</td>\n",
       "      <td>2019</td>\n",
       "      <td>8.4</td>\n",
       "      <td>Marvel Studios</td>\n",
       "      <td>400.0</td>\n",
       "      <td>2798.0</td>\n",
       "      <td>Millions</td>\n",
       "      <td>USD</td>\n",
       "      <td>English</td>\n",
       "    </tr>\n",
       "    <tr>\n",
       "      <th>18</th>\n",
       "      <td>AVENGERS: INFINITY WAR</td>\n",
       "      <td>Hollywood</td>\n",
       "      <td>2018</td>\n",
       "      <td>8.4</td>\n",
       "      <td>Marvel Studios</td>\n",
       "      <td>400.0</td>\n",
       "      <td>2048.0</td>\n",
       "      <td>Millions</td>\n",
       "      <td>USD</td>\n",
       "      <td>English</td>\n",
       "    </tr>\n",
       "    <tr>\n",
       "      <th>28</th>\n",
       "      <td>SANJU</td>\n",
       "      <td>Bollywood</td>\n",
       "      <td>2018</td>\n",
       "      <td>NaN</td>\n",
       "      <td>Vinod Chopra Films</td>\n",
       "      <td>1.0</td>\n",
       "      <td>5.9</td>\n",
       "      <td>Billions</td>\n",
       "      <td>INR</td>\n",
       "      <td>Hindi</td>\n",
       "    </tr>\n",
       "    <tr>\n",
       "      <th>29</th>\n",
       "      <td>THE KASHMIR FILES</td>\n",
       "      <td>Bollywood</td>\n",
       "      <td>2022</td>\n",
       "      <td>8.3</td>\n",
       "      <td>Zee Studios</td>\n",
       "      <td>250.0</td>\n",
       "      <td>3409.0</td>\n",
       "      <td>Millions</td>\n",
       "      <td>INR</td>\n",
       "      <td>Hindi</td>\n",
       "    </tr>\n",
       "    <tr>\n",
       "      <th>31</th>\n",
       "      <td>RACE 3</td>\n",
       "      <td>Bollywood</td>\n",
       "      <td>2018</td>\n",
       "      <td>1.9</td>\n",
       "      <td>Salman Khan Films</td>\n",
       "      <td>1.8</td>\n",
       "      <td>3.1</td>\n",
       "      <td>Billions</td>\n",
       "      <td>INR</td>\n",
       "      <td>Hindi</td>\n",
       "    </tr>\n",
       "    <tr>\n",
       "      <th>32</th>\n",
       "      <td>SHERSHAAH</td>\n",
       "      <td>Bollywood</td>\n",
       "      <td>2021</td>\n",
       "      <td>8.4</td>\n",
       "      <td>Dharma Productions</td>\n",
       "      <td>500.0</td>\n",
       "      <td>950.0</td>\n",
       "      <td>Millions</td>\n",
       "      <td>INR</td>\n",
       "      <td>Hindi</td>\n",
       "    </tr>\n",
       "    <tr>\n",
       "      <th>33</th>\n",
       "      <td>K.G.F: CHAPTER 2</td>\n",
       "      <td>Bollywood</td>\n",
       "      <td>2022</td>\n",
       "      <td>8.4</td>\n",
       "      <td>Hombale Films</td>\n",
       "      <td>1.0</td>\n",
       "      <td>12.5</td>\n",
       "      <td>Billions</td>\n",
       "      <td>INR</td>\n",
       "      <td>Kannada</td>\n",
       "    </tr>\n",
       "    <tr>\n",
       "      <th>34</th>\n",
       "      <td>PUSHPA: THE RISE - PART 1</td>\n",
       "      <td>Bollywood</td>\n",
       "      <td>2021</td>\n",
       "      <td>7.6</td>\n",
       "      <td>Mythri Movie Makers</td>\n",
       "      <td>2.0</td>\n",
       "      <td>3.6</td>\n",
       "      <td>Billions</td>\n",
       "      <td>INR</td>\n",
       "      <td>Telugu</td>\n",
       "    </tr>\n",
       "    <tr>\n",
       "      <th>35</th>\n",
       "      <td>RRR</td>\n",
       "      <td>Bollywood</td>\n",
       "      <td>2022</td>\n",
       "      <td>8.0</td>\n",
       "      <td>DVV Entertainment</td>\n",
       "      <td>5.5</td>\n",
       "      <td>12.0</td>\n",
       "      <td>Billions</td>\n",
       "      <td>INR</td>\n",
       "      <td>Telugu</td>\n",
       "    </tr>\n",
       "  </tbody>\n",
       "</table>\n",
       "</div>"
      ],
      "text/plain": [
       "                                          title   industry  release_year  \\\n",
       "1   DOCTOR STRANGE IN THE MULTIVERSE OF MADNESS  Hollywood          2022   \n",
       "3                               THOR: RAGNAROK   Hollywood          2017   \n",
       "4                       THOR: LOVE AND THUNDER   Hollywood          2022   \n",
       "16                                     PARASITE  Hollywood          2019   \n",
       "17                            AVENGERS: ENDGAME  Hollywood          2019   \n",
       "18                       AVENGERS: INFINITY WAR  Hollywood          2018   \n",
       "28                                        SANJU  Bollywood          2018   \n",
       "29                            THE KASHMIR FILES  Bollywood          2022   \n",
       "31                                       RACE 3  Bollywood          2018   \n",
       "32                                    SHERSHAAH  Bollywood          2021   \n",
       "33                             K.G.F: CHAPTER 2  Bollywood          2022   \n",
       "34                    PUSHPA: THE RISE - PART 1  Bollywood          2021   \n",
       "35                                          RRR  Bollywood          2022   \n",
       "\n",
       "    imdb_rating               studio  budget  revenue      unit currency  \\\n",
       "1           7.0       Marvel Studios   200.0    954.8  Millions      USD   \n",
       "3           7.9       Marvel Studios   180.0    854.0  Millions      USD   \n",
       "4           6.8       Marvel Studios   250.0    670.0  Millions      USD   \n",
       "16          8.5                  NaN    15.5    263.1  Millions      USD   \n",
       "17          8.4       Marvel Studios   400.0   2798.0  Millions      USD   \n",
       "18          8.4       Marvel Studios   400.0   2048.0  Millions      USD   \n",
       "28          NaN   Vinod Chopra Films     1.0      5.9  Billions      INR   \n",
       "29          8.3          Zee Studios   250.0   3409.0  Millions      INR   \n",
       "31          1.9    Salman Khan Films     1.8      3.1  Billions      INR   \n",
       "32          8.4   Dharma Productions   500.0    950.0  Millions      INR   \n",
       "33          8.4        Hombale Films     1.0     12.5  Billions      INR   \n",
       "34          7.6  Mythri Movie Makers     2.0      3.6  Billions      INR   \n",
       "35          8.0    DVV Entertainment     5.5     12.0  Billions      INR   \n",
       "\n",
       "   language  \n",
       "1   English  \n",
       "3   English  \n",
       "4   English  \n",
       "16  English  \n",
       "17  English  \n",
       "18  English  \n",
       "28    Hindi  \n",
       "29    Hindi  \n",
       "31    Hindi  \n",
       "32    Hindi  \n",
       "33  Kannada  \n",
       "34   Telugu  \n",
       "35   Telugu  "
      ]
     },
     "execution_count": 33,
     "metadata": {},
     "output_type": "execute_result"
    }
   ],
   "source": [
    "data1[data1.release_year>2015]"
   ]
  },
  {
   "cell_type": "code",
   "execution_count": 40,
   "metadata": {},
   "outputs": [
    {
     "data": {
      "application/vnd.microsoft.datawrangler.viewer.v0+json": {
       "columns": [
        {
         "name": "index",
         "rawType": "int64",
         "type": "integer"
        },
        {
         "name": "title",
         "rawType": "object",
         "type": "string"
        },
        {
         "name": "industry",
         "rawType": "object",
         "type": "string"
        },
        {
         "name": "release_year",
         "rawType": "int64",
         "type": "integer"
        },
        {
         "name": "imdb_rating",
         "rawType": "float64",
         "type": "float"
        },
        {
         "name": "studio",
         "rawType": "object",
         "type": "unknown"
        },
        {
         "name": "budget",
         "rawType": "float64",
         "type": "float"
        },
        {
         "name": "revenue",
         "rawType": "float64",
         "type": "float"
        },
        {
         "name": "unit",
         "rawType": "object",
         "type": "string"
        },
        {
         "name": "currency",
         "rawType": "object",
         "type": "string"
        },
        {
         "name": "language",
         "rawType": "object",
         "type": "string"
        }
       ],
       "conversionMethod": "pd.DataFrame",
       "ref": "90c1be80-5507-4898-8fd5-6a9c69006452",
       "rows": [
        [
         "1",
         "DOCTOR STRANGE IN THE MULTIVERSE OF MADNESS",
         "Hollywood",
         "2022",
         "7.0",
         "Marvel Studios",
         "200.0",
         "954.8",
         "Millions",
         "USD",
         "English"
        ],
        [
         "4",
         "THOR: LOVE AND THUNDER ",
         "Hollywood",
         "2022",
         "6.8",
         "Marvel Studios",
         "250.0",
         "670.0",
         "Millions",
         "USD",
         "English"
        ],
        [
         "16",
         "PARASITE",
         "Hollywood",
         "2019",
         "8.5",
         null,
         "15.5",
         "263.1",
         "Millions",
         "USD",
         "English"
        ],
        [
         "17",
         "AVENGERS: ENDGAME",
         "Hollywood",
         "2019",
         "8.4",
         "Marvel Studios",
         "400.0",
         "2798.0",
         "Millions",
         "USD",
         "English"
        ],
        [
         "18",
         "AVENGERS: INFINITY WAR",
         "Hollywood",
         "2018",
         "8.4",
         "Marvel Studios",
         "400.0",
         "2048.0",
         "Millions",
         "USD",
         "English"
        ]
       ],
       "shape": {
        "columns": 10,
        "rows": 5
       }
      },
      "text/html": [
       "<div>\n",
       "<style scoped>\n",
       "    .dataframe tbody tr th:only-of-type {\n",
       "        vertical-align: middle;\n",
       "    }\n",
       "\n",
       "    .dataframe tbody tr th {\n",
       "        vertical-align: top;\n",
       "    }\n",
       "\n",
       "    .dataframe thead th {\n",
       "        text-align: right;\n",
       "    }\n",
       "</style>\n",
       "<table border=\"1\" class=\"dataframe\">\n",
       "  <thead>\n",
       "    <tr style=\"text-align: right;\">\n",
       "      <th></th>\n",
       "      <th>title</th>\n",
       "      <th>industry</th>\n",
       "      <th>release_year</th>\n",
       "      <th>imdb_rating</th>\n",
       "      <th>studio</th>\n",
       "      <th>budget</th>\n",
       "      <th>revenue</th>\n",
       "      <th>unit</th>\n",
       "      <th>currency</th>\n",
       "      <th>language</th>\n",
       "    </tr>\n",
       "  </thead>\n",
       "  <tbody>\n",
       "    <tr>\n",
       "      <th>1</th>\n",
       "      <td>DOCTOR STRANGE IN THE MULTIVERSE OF MADNESS</td>\n",
       "      <td>Hollywood</td>\n",
       "      <td>2022</td>\n",
       "      <td>7.0</td>\n",
       "      <td>Marvel Studios</td>\n",
       "      <td>200.0</td>\n",
       "      <td>954.8</td>\n",
       "      <td>Millions</td>\n",
       "      <td>USD</td>\n",
       "      <td>English</td>\n",
       "    </tr>\n",
       "    <tr>\n",
       "      <th>4</th>\n",
       "      <td>THOR: LOVE AND THUNDER</td>\n",
       "      <td>Hollywood</td>\n",
       "      <td>2022</td>\n",
       "      <td>6.8</td>\n",
       "      <td>Marvel Studios</td>\n",
       "      <td>250.0</td>\n",
       "      <td>670.0</td>\n",
       "      <td>Millions</td>\n",
       "      <td>USD</td>\n",
       "      <td>English</td>\n",
       "    </tr>\n",
       "    <tr>\n",
       "      <th>16</th>\n",
       "      <td>PARASITE</td>\n",
       "      <td>Hollywood</td>\n",
       "      <td>2019</td>\n",
       "      <td>8.5</td>\n",
       "      <td>NaN</td>\n",
       "      <td>15.5</td>\n",
       "      <td>263.1</td>\n",
       "      <td>Millions</td>\n",
       "      <td>USD</td>\n",
       "      <td>English</td>\n",
       "    </tr>\n",
       "    <tr>\n",
       "      <th>17</th>\n",
       "      <td>AVENGERS: ENDGAME</td>\n",
       "      <td>Hollywood</td>\n",
       "      <td>2019</td>\n",
       "      <td>8.4</td>\n",
       "      <td>Marvel Studios</td>\n",
       "      <td>400.0</td>\n",
       "      <td>2798.0</td>\n",
       "      <td>Millions</td>\n",
       "      <td>USD</td>\n",
       "      <td>English</td>\n",
       "    </tr>\n",
       "    <tr>\n",
       "      <th>18</th>\n",
       "      <td>AVENGERS: INFINITY WAR</td>\n",
       "      <td>Hollywood</td>\n",
       "      <td>2018</td>\n",
       "      <td>8.4</td>\n",
       "      <td>Marvel Studios</td>\n",
       "      <td>400.0</td>\n",
       "      <td>2048.0</td>\n",
       "      <td>Millions</td>\n",
       "      <td>USD</td>\n",
       "      <td>English</td>\n",
       "    </tr>\n",
       "  </tbody>\n",
       "</table>\n",
       "</div>"
      ],
      "text/plain": [
       "                                          title   industry  release_year  \\\n",
       "1   DOCTOR STRANGE IN THE MULTIVERSE OF MADNESS  Hollywood          2022   \n",
       "4                       THOR: LOVE AND THUNDER   Hollywood          2022   \n",
       "16                                     PARASITE  Hollywood          2019   \n",
       "17                            AVENGERS: ENDGAME  Hollywood          2019   \n",
       "18                       AVENGERS: INFINITY WAR  Hollywood          2018   \n",
       "\n",
       "    imdb_rating          studio  budget  revenue      unit currency language  \n",
       "1           7.0  Marvel Studios   200.0    954.8  Millions      USD  English  \n",
       "4           6.8  Marvel Studios   250.0    670.0  Millions      USD  English  \n",
       "16          8.5             NaN    15.5    263.1  Millions      USD  English  \n",
       "17          8.4  Marvel Studios   400.0   2798.0  Millions      USD  English  \n",
       "18          8.4  Marvel Studios   400.0   2048.0  Millions      USD  English  "
      ]
     },
     "execution_count": 40,
     "metadata": {},
     "output_type": "execute_result"
    }
   ],
   "source": [
    "data1[(data1.release_year>2017) & (data1.language=='English') & (data1.industry=='Hollywood')]"
   ]
  },
  {
   "cell_type": "code",
   "execution_count": 41,
   "metadata": {},
   "outputs": [
    {
     "data": {
      "text/plain": [
       "array(['Government of West Bengal', 'Marvel Studios',\n",
       "       'Castle Rock Entertainment', 'Warner Bros. Pictures',\n",
       "       'Columbia Pictures', 'Universal Pictures  ', 'Paramount Pictures',\n",
       "       'Liberty Films', '20th Century Fox', 'Syncopy',\n",
       "       'Universal Pictures', nan, 'Yash Raj Films', 'Vinod Chopra Films',\n",
       "       'Dharma Productions', 'Vinod Chopra Productions', 'Zee Studios',\n",
       "       'Salman Khan Films', 'Hombale Films', 'Mythri Movie Makers',\n",
       "       'DVV Entertainment', 'Arka Media Works'], dtype=object)"
      ]
     },
     "execution_count": 41,
     "metadata": {},
     "output_type": "execute_result"
    }
   ],
   "source": [
    "data1.studio.unique()"
   ]
  },
  {
   "cell_type": "code",
   "execution_count": 42,
   "metadata": {},
   "outputs": [
    {
     "data": {
      "text/plain": [
       "studio\n",
       "Marvel Studios               8\n",
       "Vinod Chopra Films           3\n",
       "Dharma Productions           2\n",
       "Paramount Pictures           2\n",
       "Universal Pictures           2\n",
       "Salman Khan Films            2\n",
       "Warner Bros. Pictures        1\n",
       "Castle Rock Entertainment    1\n",
       "Government of West Bengal    1\n",
       "Columbia Pictures            1\n",
       "Liberty Films                1\n",
       "20th Century Fox             1\n",
       "Universal Pictures           1\n",
       "Yash Raj Films               1\n",
       "Syncopy                      1\n",
       "Vinod Chopra Productions     1\n",
       "Zee Studios                  1\n",
       "Hombale Films                1\n",
       "Mythri Movie Makers          1\n",
       "DVV Entertainment            1\n",
       "Arka Media Works             1\n",
       "Name: count, dtype: int64"
      ]
     },
     "execution_count": 42,
     "metadata": {},
     "output_type": "execute_result"
    }
   ],
   "source": [
    "data1.studio.value_counts()"
   ]
  },
  {
   "cell_type": "code",
   "execution_count": 46,
   "metadata": {},
   "outputs": [
    {
     "data": {
      "text/plain": [
       "title           8\n",
       "industry        8\n",
       "release_year    8\n",
       "imdb_rating     8\n",
       "studio          8\n",
       "budget          8\n",
       "revenue         8\n",
       "unit            8\n",
       "currency        8\n",
       "language        8\n",
       "dtype: int64"
      ]
     },
     "execution_count": 46,
     "metadata": {},
     "output_type": "execute_result"
    }
   ],
   "source": [
    "data1[data1.studio=='Marvel Studios'].count()"
   ]
  },
  {
   "cell_type": "code",
   "execution_count": 47,
   "metadata": {},
   "outputs": [
    {
     "data": {
      "application/vnd.microsoft.datawrangler.viewer.v0+json": {
       "columns": [
        {
         "name": "index",
         "rawType": "int64",
         "type": "integer"
        },
        {
         "name": "title",
         "rawType": "object",
         "type": "string"
        },
        {
         "name": "industry",
         "rawType": "object",
         "type": "string"
        },
        {
         "name": "release_year",
         "rawType": "int64",
         "type": "integer"
        },
        {
         "name": "imdb_rating",
         "rawType": "float64",
         "type": "float"
        },
        {
         "name": "studio",
         "rawType": "object",
         "type": "string"
        },
        {
         "name": "budget",
         "rawType": "float64",
         "type": "float"
        },
        {
         "name": "revenue",
         "rawType": "float64",
         "type": "float"
        },
        {
         "name": "unit",
         "rawType": "object",
         "type": "string"
        },
        {
         "name": "currency",
         "rawType": "object",
         "type": "string"
        },
        {
         "name": "language",
         "rawType": "object",
         "type": "string"
        }
       ],
       "conversionMethod": "pd.DataFrame",
       "ref": "2a88f60e-4a38-4d8e-b35f-6fb1c719213e",
       "rows": [
        [
         "1",
         "DOCTOR STRANGE IN THE MULTIVERSE OF MADNESS",
         "Hollywood",
         "2022",
         "7.0",
         "Marvel Studios",
         "200.0",
         "954.8",
         "Millions",
         "USD",
         "English"
        ],
        [
         "2",
         "THOR: THE DARK WORLD ",
         "Hollywood",
         "2013",
         "6.8",
         "Marvel Studios",
         "165.0",
         "644.8",
         "Millions",
         "USD",
         "English"
        ],
        [
         "3",
         "THOR: RAGNAROK ",
         "Hollywood",
         "2017",
         "7.9",
         "Marvel Studios",
         "180.0",
         "854.0",
         "Millions",
         "USD",
         "English"
        ],
        [
         "4",
         "THOR: LOVE AND THUNDER ",
         "Hollywood",
         "2022",
         "6.8",
         "Marvel Studios",
         "250.0",
         "670.0",
         "Millions",
         "USD",
         "English"
        ],
        [
         "17",
         "AVENGERS: ENDGAME",
         "Hollywood",
         "2019",
         "8.4",
         "Marvel Studios",
         "400.0",
         "2798.0",
         "Millions",
         "USD",
         "English"
        ],
        [
         "18",
         "AVENGERS: INFINITY WAR",
         "Hollywood",
         "2018",
         "8.4",
         "Marvel Studios",
         "400.0",
         "2048.0",
         "Millions",
         "USD",
         "English"
        ],
        [
         "19",
         "CAPTAIN AMERICA: THE FIRST AVENGER",
         "Hollywood",
         "2011",
         "6.9",
         "Marvel Studios",
         "216.7",
         "370.6",
         "Millions",
         "USD",
         "English"
        ],
        [
         "20",
         "CAPTAIN AMERICA: THE WINTER SOLDIER",
         "Hollywood",
         "2014",
         "7.8",
         "Marvel Studios",
         "177.0",
         "714.4",
         "Millions",
         "USD",
         "English"
        ]
       ],
       "shape": {
        "columns": 10,
        "rows": 8
       }
      },
      "text/html": [
       "<div>\n",
       "<style scoped>\n",
       "    .dataframe tbody tr th:only-of-type {\n",
       "        vertical-align: middle;\n",
       "    }\n",
       "\n",
       "    .dataframe tbody tr th {\n",
       "        vertical-align: top;\n",
       "    }\n",
       "\n",
       "    .dataframe thead th {\n",
       "        text-align: right;\n",
       "    }\n",
       "</style>\n",
       "<table border=\"1\" class=\"dataframe\">\n",
       "  <thead>\n",
       "    <tr style=\"text-align: right;\">\n",
       "      <th></th>\n",
       "      <th>title</th>\n",
       "      <th>industry</th>\n",
       "      <th>release_year</th>\n",
       "      <th>imdb_rating</th>\n",
       "      <th>studio</th>\n",
       "      <th>budget</th>\n",
       "      <th>revenue</th>\n",
       "      <th>unit</th>\n",
       "      <th>currency</th>\n",
       "      <th>language</th>\n",
       "    </tr>\n",
       "  </thead>\n",
       "  <tbody>\n",
       "    <tr>\n",
       "      <th>1</th>\n",
       "      <td>DOCTOR STRANGE IN THE MULTIVERSE OF MADNESS</td>\n",
       "      <td>Hollywood</td>\n",
       "      <td>2022</td>\n",
       "      <td>7.0</td>\n",
       "      <td>Marvel Studios</td>\n",
       "      <td>200.0</td>\n",
       "      <td>954.8</td>\n",
       "      <td>Millions</td>\n",
       "      <td>USD</td>\n",
       "      <td>English</td>\n",
       "    </tr>\n",
       "    <tr>\n",
       "      <th>2</th>\n",
       "      <td>THOR: THE DARK WORLD</td>\n",
       "      <td>Hollywood</td>\n",
       "      <td>2013</td>\n",
       "      <td>6.8</td>\n",
       "      <td>Marvel Studios</td>\n",
       "      <td>165.0</td>\n",
       "      <td>644.8</td>\n",
       "      <td>Millions</td>\n",
       "      <td>USD</td>\n",
       "      <td>English</td>\n",
       "    </tr>\n",
       "    <tr>\n",
       "      <th>3</th>\n",
       "      <td>THOR: RAGNAROK</td>\n",
       "      <td>Hollywood</td>\n",
       "      <td>2017</td>\n",
       "      <td>7.9</td>\n",
       "      <td>Marvel Studios</td>\n",
       "      <td>180.0</td>\n",
       "      <td>854.0</td>\n",
       "      <td>Millions</td>\n",
       "      <td>USD</td>\n",
       "      <td>English</td>\n",
       "    </tr>\n",
       "    <tr>\n",
       "      <th>4</th>\n",
       "      <td>THOR: LOVE AND THUNDER</td>\n",
       "      <td>Hollywood</td>\n",
       "      <td>2022</td>\n",
       "      <td>6.8</td>\n",
       "      <td>Marvel Studios</td>\n",
       "      <td>250.0</td>\n",
       "      <td>670.0</td>\n",
       "      <td>Millions</td>\n",
       "      <td>USD</td>\n",
       "      <td>English</td>\n",
       "    </tr>\n",
       "    <tr>\n",
       "      <th>17</th>\n",
       "      <td>AVENGERS: ENDGAME</td>\n",
       "      <td>Hollywood</td>\n",
       "      <td>2019</td>\n",
       "      <td>8.4</td>\n",
       "      <td>Marvel Studios</td>\n",
       "      <td>400.0</td>\n",
       "      <td>2798.0</td>\n",
       "      <td>Millions</td>\n",
       "      <td>USD</td>\n",
       "      <td>English</td>\n",
       "    </tr>\n",
       "    <tr>\n",
       "      <th>18</th>\n",
       "      <td>AVENGERS: INFINITY WAR</td>\n",
       "      <td>Hollywood</td>\n",
       "      <td>2018</td>\n",
       "      <td>8.4</td>\n",
       "      <td>Marvel Studios</td>\n",
       "      <td>400.0</td>\n",
       "      <td>2048.0</td>\n",
       "      <td>Millions</td>\n",
       "      <td>USD</td>\n",
       "      <td>English</td>\n",
       "    </tr>\n",
       "    <tr>\n",
       "      <th>19</th>\n",
       "      <td>CAPTAIN AMERICA: THE FIRST AVENGER</td>\n",
       "      <td>Hollywood</td>\n",
       "      <td>2011</td>\n",
       "      <td>6.9</td>\n",
       "      <td>Marvel Studios</td>\n",
       "      <td>216.7</td>\n",
       "      <td>370.6</td>\n",
       "      <td>Millions</td>\n",
       "      <td>USD</td>\n",
       "      <td>English</td>\n",
       "    </tr>\n",
       "    <tr>\n",
       "      <th>20</th>\n",
       "      <td>CAPTAIN AMERICA: THE WINTER SOLDIER</td>\n",
       "      <td>Hollywood</td>\n",
       "      <td>2014</td>\n",
       "      <td>7.8</td>\n",
       "      <td>Marvel Studios</td>\n",
       "      <td>177.0</td>\n",
       "      <td>714.4</td>\n",
       "      <td>Millions</td>\n",
       "      <td>USD</td>\n",
       "      <td>English</td>\n",
       "    </tr>\n",
       "  </tbody>\n",
       "</table>\n",
       "</div>"
      ],
      "text/plain": [
       "                                          title   industry  release_year  \\\n",
       "1   DOCTOR STRANGE IN THE MULTIVERSE OF MADNESS  Hollywood          2022   \n",
       "2                         THOR: THE DARK WORLD   Hollywood          2013   \n",
       "3                               THOR: RAGNAROK   Hollywood          2017   \n",
       "4                       THOR: LOVE AND THUNDER   Hollywood          2022   \n",
       "17                            AVENGERS: ENDGAME  Hollywood          2019   \n",
       "18                       AVENGERS: INFINITY WAR  Hollywood          2018   \n",
       "19           CAPTAIN AMERICA: THE FIRST AVENGER  Hollywood          2011   \n",
       "20          CAPTAIN AMERICA: THE WINTER SOLDIER  Hollywood          2014   \n",
       "\n",
       "    imdb_rating          studio  budget  revenue      unit currency language  \n",
       "1           7.0  Marvel Studios   200.0    954.8  Millions      USD  English  \n",
       "2           6.8  Marvel Studios   165.0    644.8  Millions      USD  English  \n",
       "3           7.9  Marvel Studios   180.0    854.0  Millions      USD  English  \n",
       "4           6.8  Marvel Studios   250.0    670.0  Millions      USD  English  \n",
       "17          8.4  Marvel Studios   400.0   2798.0  Millions      USD  English  \n",
       "18          8.4  Marvel Studios   400.0   2048.0  Millions      USD  English  \n",
       "19          6.9  Marvel Studios   216.7    370.6  Millions      USD  English  \n",
       "20          7.8  Marvel Studios   177.0    714.4  Millions      USD  English  "
      ]
     },
     "execution_count": 47,
     "metadata": {},
     "output_type": "execute_result"
    }
   ],
   "source": [
    "data1[data1.studio=='Marvel Studios']"
   ]
  },
  {
   "cell_type": "code",
   "execution_count": 49,
   "metadata": {},
   "outputs": [
    {
     "data": {
      "application/vnd.microsoft.datawrangler.viewer.v0+json": {
       "columns": [
        {
         "name": "index",
         "rawType": "object",
         "type": "string"
        },
        {
         "name": "release_year",
         "rawType": "float64",
         "type": "float"
        },
        {
         "name": "imdb_rating",
         "rawType": "float64",
         "type": "float"
        },
        {
         "name": "budget",
         "rawType": "float64",
         "type": "float"
        },
        {
         "name": "revenue",
         "rawType": "float64",
         "type": "float"
        }
       ],
       "conversionMethod": "pd.DataFrame",
       "ref": "8a8b7c70-2858-441f-a91f-7b08e4b58e29",
       "rows": [
        [
         "count",
         "37.0",
         "36.0",
         "37.0",
         "37.0"
        ],
        [
         "mean",
         "2007.027027027027",
         "7.919444444444445",
         "2084.975135135135",
         "4117.135135135136"
        ],
        [
         "std",
         "17.65799549226369",
         "1.2049468143436146",
         "11477.487145324882",
         "16372.462681608886"
        ],
        [
         "min",
         "1946.0",
         "1.9",
         "1.0",
         "3.1"
        ],
        [
         "25%",
         "2001.0",
         "7.8",
         "15.5",
         "263.1"
        ],
        [
         "50%",
         "2014.0",
         "8.1",
         "165.0",
         "701.8"
        ],
        [
         "75%",
         "2018.0",
         "8.4",
         "250.0",
         "2000.0"
        ],
        [
         "max",
         "2022.0",
         "9.3",
         "70000.0",
         "100000.0"
        ]
       ],
       "shape": {
        "columns": 4,
        "rows": 8
       }
      },
      "text/html": [
       "<div>\n",
       "<style scoped>\n",
       "    .dataframe tbody tr th:only-of-type {\n",
       "        vertical-align: middle;\n",
       "    }\n",
       "\n",
       "    .dataframe tbody tr th {\n",
       "        vertical-align: top;\n",
       "    }\n",
       "\n",
       "    .dataframe thead th {\n",
       "        text-align: right;\n",
       "    }\n",
       "</style>\n",
       "<table border=\"1\" class=\"dataframe\">\n",
       "  <thead>\n",
       "    <tr style=\"text-align: right;\">\n",
       "      <th></th>\n",
       "      <th>release_year</th>\n",
       "      <th>imdb_rating</th>\n",
       "      <th>budget</th>\n",
       "      <th>revenue</th>\n",
       "    </tr>\n",
       "  </thead>\n",
       "  <tbody>\n",
       "    <tr>\n",
       "      <th>count</th>\n",
       "      <td>37.000000</td>\n",
       "      <td>36.000000</td>\n",
       "      <td>37.000000</td>\n",
       "      <td>37.000000</td>\n",
       "    </tr>\n",
       "    <tr>\n",
       "      <th>mean</th>\n",
       "      <td>2007.027027</td>\n",
       "      <td>7.919444</td>\n",
       "      <td>2084.975135</td>\n",
       "      <td>4117.135135</td>\n",
       "    </tr>\n",
       "    <tr>\n",
       "      <th>std</th>\n",
       "      <td>17.657995</td>\n",
       "      <td>1.204947</td>\n",
       "      <td>11477.487145</td>\n",
       "      <td>16372.462682</td>\n",
       "    </tr>\n",
       "    <tr>\n",
       "      <th>min</th>\n",
       "      <td>1946.000000</td>\n",
       "      <td>1.900000</td>\n",
       "      <td>1.000000</td>\n",
       "      <td>3.100000</td>\n",
       "    </tr>\n",
       "    <tr>\n",
       "      <th>25%</th>\n",
       "      <td>2001.000000</td>\n",
       "      <td>7.800000</td>\n",
       "      <td>15.500000</td>\n",
       "      <td>263.100000</td>\n",
       "    </tr>\n",
       "    <tr>\n",
       "      <th>50%</th>\n",
       "      <td>2014.000000</td>\n",
       "      <td>8.100000</td>\n",
       "      <td>165.000000</td>\n",
       "      <td>701.800000</td>\n",
       "    </tr>\n",
       "    <tr>\n",
       "      <th>75%</th>\n",
       "      <td>2018.000000</td>\n",
       "      <td>8.400000</td>\n",
       "      <td>250.000000</td>\n",
       "      <td>2000.000000</td>\n",
       "    </tr>\n",
       "    <tr>\n",
       "      <th>max</th>\n",
       "      <td>2022.000000</td>\n",
       "      <td>9.300000</td>\n",
       "      <td>70000.000000</td>\n",
       "      <td>100000.000000</td>\n",
       "    </tr>\n",
       "  </tbody>\n",
       "</table>\n",
       "</div>"
      ],
      "text/plain": [
       "       release_year  imdb_rating        budget        revenue\n",
       "count     37.000000    36.000000     37.000000      37.000000\n",
       "mean    2007.027027     7.919444   2084.975135    4117.135135\n",
       "std       17.657995     1.204947  11477.487145   16372.462682\n",
       "min     1946.000000     1.900000      1.000000       3.100000\n",
       "25%     2001.000000     7.800000     15.500000     263.100000\n",
       "50%     2014.000000     8.100000    165.000000     701.800000\n",
       "75%     2018.000000     8.400000    250.000000    2000.000000\n",
       "max     2022.000000     9.300000  70000.000000  100000.000000"
      ]
     },
     "execution_count": 49,
     "metadata": {},
     "output_type": "execute_result"
    }
   ],
   "source": [
    "# quick stastaics \n",
    "data1.describe()"
   ]
  },
  {
   "cell_type": "code",
   "execution_count": 50,
   "metadata": {},
   "outputs": [
    {
     "name": "stdout",
     "output_type": "stream",
     "text": [
      "<class 'pandas.core.frame.DataFrame'>\n",
      "RangeIndex: 37 entries, 0 to 36\n",
      "Data columns (total 10 columns):\n",
      " #   Column        Non-Null Count  Dtype  \n",
      "---  ------        --------------  -----  \n",
      " 0   title         37 non-null     object \n",
      " 1   industry      37 non-null     object \n",
      " 2   release_year  37 non-null     int64  \n",
      " 3   imdb_rating   36 non-null     float64\n",
      " 4   studio        34 non-null     object \n",
      " 5   budget        37 non-null     float64\n",
      " 6   revenue       37 non-null     float64\n",
      " 7   unit          37 non-null     object \n",
      " 8   currency      37 non-null     object \n",
      " 9   language      37 non-null     object \n",
      "dtypes: float64(3), int64(1), object(6)\n",
      "memory usage: 3.0+ KB\n"
     ]
    }
   ],
   "source": [
    "data1.info()"
   ]
  },
  {
   "cell_type": "code",
   "execution_count": 51,
   "metadata": {},
   "outputs": [
    {
     "data": {
      "text/plain": [
       "np.float64(9.3)"
      ]
     },
     "execution_count": 51,
     "metadata": {},
     "output_type": "execute_result"
    }
   ],
   "source": [
    "data1.imdb_rating.max()"
   ]
  },
  {
   "cell_type": "code",
   "execution_count": 55,
   "metadata": {},
   "outputs": [
    {
     "data": {
      "application/vnd.microsoft.datawrangler.viewer.v0+json": {
       "columns": [
        {
         "name": "index",
         "rawType": "int64",
         "type": "integer"
        },
        {
         "name": "title",
         "rawType": "object",
         "type": "string"
        },
        {
         "name": "industry",
         "rawType": "object",
         "type": "string"
        },
        {
         "name": "release_year",
         "rawType": "int64",
         "type": "integer"
        },
        {
         "name": "imdb_rating",
         "rawType": "float64",
         "type": "float"
        },
        {
         "name": "studio",
         "rawType": "object",
         "type": "string"
        },
        {
         "name": "budget",
         "rawType": "float64",
         "type": "float"
        },
        {
         "name": "revenue",
         "rawType": "float64",
         "type": "float"
        },
        {
         "name": "unit",
         "rawType": "object",
         "type": "string"
        },
        {
         "name": "currency",
         "rawType": "object",
         "type": "string"
        },
        {
         "name": "language",
         "rawType": "object",
         "type": "string"
        }
       ],
       "conversionMethod": "pd.DataFrame",
       "ref": "065ddce5-27c7-4b73-b8a5-d883cc476286",
       "rows": [
        [
         "5",
         "THE SHAWSHANK REDEMPTION",
         "Hollywood",
         "1994",
         "9.3",
         "Castle Rock Entertainment",
         "25.0",
         "73.3",
         "Millions",
         "USD",
         "English"
        ],
        [
         "31",
         "RACE 3",
         "Bollywood",
         "2018",
         "1.9",
         "Salman Khan Films",
         "1.8",
         "3.1",
         "Billions",
         "INR",
         "Hindi"
        ]
       ],
       "shape": {
        "columns": 10,
        "rows": 2
       }
      },
      "text/html": [
       "<div>\n",
       "<style scoped>\n",
       "    .dataframe tbody tr th:only-of-type {\n",
       "        vertical-align: middle;\n",
       "    }\n",
       "\n",
       "    .dataframe tbody tr th {\n",
       "        vertical-align: top;\n",
       "    }\n",
       "\n",
       "    .dataframe thead th {\n",
       "        text-align: right;\n",
       "    }\n",
       "</style>\n",
       "<table border=\"1\" class=\"dataframe\">\n",
       "  <thead>\n",
       "    <tr style=\"text-align: right;\">\n",
       "      <th></th>\n",
       "      <th>title</th>\n",
       "      <th>industry</th>\n",
       "      <th>release_year</th>\n",
       "      <th>imdb_rating</th>\n",
       "      <th>studio</th>\n",
       "      <th>budget</th>\n",
       "      <th>revenue</th>\n",
       "      <th>unit</th>\n",
       "      <th>currency</th>\n",
       "      <th>language</th>\n",
       "    </tr>\n",
       "  </thead>\n",
       "  <tbody>\n",
       "    <tr>\n",
       "      <th>5</th>\n",
       "      <td>THE SHAWSHANK REDEMPTION</td>\n",
       "      <td>Hollywood</td>\n",
       "      <td>1994</td>\n",
       "      <td>9.3</td>\n",
       "      <td>Castle Rock Entertainment</td>\n",
       "      <td>25.0</td>\n",
       "      <td>73.3</td>\n",
       "      <td>Millions</td>\n",
       "      <td>USD</td>\n",
       "      <td>English</td>\n",
       "    </tr>\n",
       "    <tr>\n",
       "      <th>31</th>\n",
       "      <td>RACE 3</td>\n",
       "      <td>Bollywood</td>\n",
       "      <td>2018</td>\n",
       "      <td>1.9</td>\n",
       "      <td>Salman Khan Films</td>\n",
       "      <td>1.8</td>\n",
       "      <td>3.1</td>\n",
       "      <td>Billions</td>\n",
       "      <td>INR</td>\n",
       "      <td>Hindi</td>\n",
       "    </tr>\n",
       "  </tbody>\n",
       "</table>\n",
       "</div>"
      ],
      "text/plain": [
       "                       title   industry  release_year  imdb_rating  \\\n",
       "5   THE SHAWSHANK REDEMPTION  Hollywood          1994          9.3   \n",
       "31                    RACE 3  Bollywood          2018          1.9   \n",
       "\n",
       "                       studio  budget  revenue      unit currency language  \n",
       "5   Castle Rock Entertainment    25.0     73.3  Millions      USD  English  \n",
       "31          Salman Khan Films     1.8      3.1  Billions      INR    Hindi  "
      ]
     },
     "execution_count": 55,
     "metadata": {},
     "output_type": "execute_result"
    }
   ],
   "source": [
    "data1[(data1.imdb_rating == data1.imdb_rating.max())  | (data1.imdb_rating == data1.imdb_rating.min())]"
   ]
  },
  {
   "cell_type": "code",
   "execution_count": 56,
   "metadata": {},
   "outputs": [
    {
     "data": {
      "application/vnd.microsoft.datawrangler.viewer.v0+json": {
       "columns": [
        {
         "name": "index",
         "rawType": "int64",
         "type": "integer"
        },
        {
         "name": "title",
         "rawType": "object",
         "type": "string"
        },
        {
         "name": "industry",
         "rawType": "object",
         "type": "string"
        },
        {
         "name": "release_year",
         "rawType": "int64",
         "type": "integer"
        },
        {
         "name": "imdb_rating",
         "rawType": "float64",
         "type": "float"
        },
        {
         "name": "studio",
         "rawType": "object",
         "type": "string"
        },
        {
         "name": "budget",
         "rawType": "float64",
         "type": "float"
        },
        {
         "name": "revenue",
         "rawType": "float64",
         "type": "float"
        },
        {
         "name": "unit",
         "rawType": "object",
         "type": "string"
        },
        {
         "name": "currency",
         "rawType": "object",
         "type": "string"
        },
        {
         "name": "language",
         "rawType": "object",
         "type": "string"
        }
       ],
       "conversionMethod": "pd.DataFrame",
       "ref": "a7538239-7046-4d92-be04-6ef045d6cd03",
       "rows": [
        [
         "0",
         "PATHER PANCHALI",
         "Bollywood",
         "1955",
         "8.3",
         "Government of West Bengal",
         "70000.0",
         "100000.0",
         "Thousands",
         "INR",
         "Bengali"
        ],
        [
         "1",
         "DOCTOR STRANGE IN THE MULTIVERSE OF MADNESS",
         "Hollywood",
         "2022",
         "7.0",
         "Marvel Studios",
         "200.0",
         "954.8",
         "Millions",
         "USD",
         "English"
        ],
        [
         "2",
         "THOR: THE DARK WORLD ",
         "Hollywood",
         "2013",
         "6.8",
         "Marvel Studios",
         "165.0",
         "644.8",
         "Millions",
         "USD",
         "English"
        ],
        [
         "3",
         "THOR: RAGNAROK ",
         "Hollywood",
         "2017",
         "7.9",
         "Marvel Studios",
         "180.0",
         "854.0",
         "Millions",
         "USD",
         "English"
        ]
       ],
       "shape": {
        "columns": 10,
        "rows": 4
       }
      },
      "text/html": [
       "<div>\n",
       "<style scoped>\n",
       "    .dataframe tbody tr th:only-of-type {\n",
       "        vertical-align: middle;\n",
       "    }\n",
       "\n",
       "    .dataframe tbody tr th {\n",
       "        vertical-align: top;\n",
       "    }\n",
       "\n",
       "    .dataframe thead th {\n",
       "        text-align: right;\n",
       "    }\n",
       "</style>\n",
       "<table border=\"1\" class=\"dataframe\">\n",
       "  <thead>\n",
       "    <tr style=\"text-align: right;\">\n",
       "      <th></th>\n",
       "      <th>title</th>\n",
       "      <th>industry</th>\n",
       "      <th>release_year</th>\n",
       "      <th>imdb_rating</th>\n",
       "      <th>studio</th>\n",
       "      <th>budget</th>\n",
       "      <th>revenue</th>\n",
       "      <th>unit</th>\n",
       "      <th>currency</th>\n",
       "      <th>language</th>\n",
       "    </tr>\n",
       "  </thead>\n",
       "  <tbody>\n",
       "    <tr>\n",
       "      <th>0</th>\n",
       "      <td>PATHER PANCHALI</td>\n",
       "      <td>Bollywood</td>\n",
       "      <td>1955</td>\n",
       "      <td>8.3</td>\n",
       "      <td>Government of West Bengal</td>\n",
       "      <td>70000.0</td>\n",
       "      <td>100000.0</td>\n",
       "      <td>Thousands</td>\n",
       "      <td>INR</td>\n",
       "      <td>Bengali</td>\n",
       "    </tr>\n",
       "    <tr>\n",
       "      <th>1</th>\n",
       "      <td>DOCTOR STRANGE IN THE MULTIVERSE OF MADNESS</td>\n",
       "      <td>Hollywood</td>\n",
       "      <td>2022</td>\n",
       "      <td>7.0</td>\n",
       "      <td>Marvel Studios</td>\n",
       "      <td>200.0</td>\n",
       "      <td>954.8</td>\n",
       "      <td>Millions</td>\n",
       "      <td>USD</td>\n",
       "      <td>English</td>\n",
       "    </tr>\n",
       "    <tr>\n",
       "      <th>2</th>\n",
       "      <td>THOR: THE DARK WORLD</td>\n",
       "      <td>Hollywood</td>\n",
       "      <td>2013</td>\n",
       "      <td>6.8</td>\n",
       "      <td>Marvel Studios</td>\n",
       "      <td>165.0</td>\n",
       "      <td>644.8</td>\n",
       "      <td>Millions</td>\n",
       "      <td>USD</td>\n",
       "      <td>English</td>\n",
       "    </tr>\n",
       "    <tr>\n",
       "      <th>3</th>\n",
       "      <td>THOR: RAGNAROK</td>\n",
       "      <td>Hollywood</td>\n",
       "      <td>2017</td>\n",
       "      <td>7.9</td>\n",
       "      <td>Marvel Studios</td>\n",
       "      <td>180.0</td>\n",
       "      <td>854.0</td>\n",
       "      <td>Millions</td>\n",
       "      <td>USD</td>\n",
       "      <td>English</td>\n",
       "    </tr>\n",
       "  </tbody>\n",
       "</table>\n",
       "</div>"
      ],
      "text/plain": [
       "                                         title   industry  release_year  \\\n",
       "0                              PATHER PANCHALI  Bollywood          1955   \n",
       "1  DOCTOR STRANGE IN THE MULTIVERSE OF MADNESS  Hollywood          2022   \n",
       "2                        THOR: THE DARK WORLD   Hollywood          2013   \n",
       "3                              THOR: RAGNAROK   Hollywood          2017   \n",
       "\n",
       "   imdb_rating                     studio   budget   revenue       unit  \\\n",
       "0          8.3  Government of West Bengal  70000.0  100000.0  Thousands   \n",
       "1          7.0             Marvel Studios    200.0     954.8   Millions   \n",
       "2          6.8             Marvel Studios    165.0     644.8   Millions   \n",
       "3          7.9             Marvel Studios    180.0     854.0   Millions   \n",
       "\n",
       "  currency language  \n",
       "0      INR  Bengali  \n",
       "1      USD  English  \n",
       "2      USD  English  \n",
       "3      USD  English  "
      ]
     },
     "execution_count": 56,
     "metadata": {},
     "output_type": "execute_result"
    }
   ],
   "source": [
    "data1.head(4)"
   ]
  },
  {
   "cell_type": "code",
   "execution_count": 58,
   "metadata": {},
   "outputs": [
    {
     "data": {
      "application/vnd.microsoft.datawrangler.viewer.v0+json": {
       "columns": [
        {
         "name": "index",
         "rawType": "int64",
         "type": "integer"
        },
        {
         "name": "title",
         "rawType": "object",
         "type": "string"
        },
        {
         "name": "industry",
         "rawType": "object",
         "type": "string"
        },
        {
         "name": "release_year",
         "rawType": "int64",
         "type": "integer"
        },
        {
         "name": "imdb_rating",
         "rawType": "float64",
         "type": "float"
        },
        {
         "name": "studio",
         "rawType": "object",
         "type": "string"
        },
        {
         "name": "budget",
         "rawType": "float64",
         "type": "float"
        },
        {
         "name": "revenue",
         "rawType": "float64",
         "type": "float"
        },
        {
         "name": "unit",
         "rawType": "object",
         "type": "string"
        },
        {
         "name": "currency",
         "rawType": "object",
         "type": "string"
        },
        {
         "name": "language",
         "rawType": "object",
         "type": "string"
        },
        {
         "name": "age",
         "rawType": "int64",
         "type": "integer"
        }
       ],
       "conversionMethod": "pd.DataFrame",
       "ref": "5a613454-8680-46bc-bd52-119b17cd62e7",
       "rows": [
        [
         "0",
         "PATHER PANCHALI",
         "Bollywood",
         "1955",
         "8.3",
         "Government of West Bengal",
         "70000.0",
         "100000.0",
         "Thousands",
         "INR",
         "Bengali",
         "66"
        ],
        [
         "1",
         "DOCTOR STRANGE IN THE MULTIVERSE OF MADNESS",
         "Hollywood",
         "2022",
         "7.0",
         "Marvel Studios",
         "200.0",
         "954.8",
         "Millions",
         "USD",
         "English",
         "-1"
        ],
        [
         "2",
         "THOR: THE DARK WORLD ",
         "Hollywood",
         "2013",
         "6.8",
         "Marvel Studios",
         "165.0",
         "644.8",
         "Millions",
         "USD",
         "English",
         "8"
        ],
        [
         "3",
         "THOR: RAGNAROK ",
         "Hollywood",
         "2017",
         "7.9",
         "Marvel Studios",
         "180.0",
         "854.0",
         "Millions",
         "USD",
         "English",
         "4"
        ]
       ],
       "shape": {
        "columns": 11,
        "rows": 4
       }
      },
      "text/html": [
       "<div>\n",
       "<style scoped>\n",
       "    .dataframe tbody tr th:only-of-type {\n",
       "        vertical-align: middle;\n",
       "    }\n",
       "\n",
       "    .dataframe tbody tr th {\n",
       "        vertical-align: top;\n",
       "    }\n",
       "\n",
       "    .dataframe thead th {\n",
       "        text-align: right;\n",
       "    }\n",
       "</style>\n",
       "<table border=\"1\" class=\"dataframe\">\n",
       "  <thead>\n",
       "    <tr style=\"text-align: right;\">\n",
       "      <th></th>\n",
       "      <th>title</th>\n",
       "      <th>industry</th>\n",
       "      <th>release_year</th>\n",
       "      <th>imdb_rating</th>\n",
       "      <th>studio</th>\n",
       "      <th>budget</th>\n",
       "      <th>revenue</th>\n",
       "      <th>unit</th>\n",
       "      <th>currency</th>\n",
       "      <th>language</th>\n",
       "      <th>age</th>\n",
       "    </tr>\n",
       "  </thead>\n",
       "  <tbody>\n",
       "    <tr>\n",
       "      <th>0</th>\n",
       "      <td>PATHER PANCHALI</td>\n",
       "      <td>Bollywood</td>\n",
       "      <td>1955</td>\n",
       "      <td>8.3</td>\n",
       "      <td>Government of West Bengal</td>\n",
       "      <td>70000.0</td>\n",
       "      <td>100000.0</td>\n",
       "      <td>Thousands</td>\n",
       "      <td>INR</td>\n",
       "      <td>Bengali</td>\n",
       "      <td>66</td>\n",
       "    </tr>\n",
       "    <tr>\n",
       "      <th>1</th>\n",
       "      <td>DOCTOR STRANGE IN THE MULTIVERSE OF MADNESS</td>\n",
       "      <td>Hollywood</td>\n",
       "      <td>2022</td>\n",
       "      <td>7.0</td>\n",
       "      <td>Marvel Studios</td>\n",
       "      <td>200.0</td>\n",
       "      <td>954.8</td>\n",
       "      <td>Millions</td>\n",
       "      <td>USD</td>\n",
       "      <td>English</td>\n",
       "      <td>-1</td>\n",
       "    </tr>\n",
       "    <tr>\n",
       "      <th>2</th>\n",
       "      <td>THOR: THE DARK WORLD</td>\n",
       "      <td>Hollywood</td>\n",
       "      <td>2013</td>\n",
       "      <td>6.8</td>\n",
       "      <td>Marvel Studios</td>\n",
       "      <td>165.0</td>\n",
       "      <td>644.8</td>\n",
       "      <td>Millions</td>\n",
       "      <td>USD</td>\n",
       "      <td>English</td>\n",
       "      <td>8</td>\n",
       "    </tr>\n",
       "    <tr>\n",
       "      <th>3</th>\n",
       "      <td>THOR: RAGNAROK</td>\n",
       "      <td>Hollywood</td>\n",
       "      <td>2017</td>\n",
       "      <td>7.9</td>\n",
       "      <td>Marvel Studios</td>\n",
       "      <td>180.0</td>\n",
       "      <td>854.0</td>\n",
       "      <td>Millions</td>\n",
       "      <td>USD</td>\n",
       "      <td>English</td>\n",
       "      <td>4</td>\n",
       "    </tr>\n",
       "  </tbody>\n",
       "</table>\n",
       "</div>"
      ],
      "text/plain": [
       "                                         title   industry  release_year  \\\n",
       "0                              PATHER PANCHALI  Bollywood          1955   \n",
       "1  DOCTOR STRANGE IN THE MULTIVERSE OF MADNESS  Hollywood          2022   \n",
       "2                        THOR: THE DARK WORLD   Hollywood          2013   \n",
       "3                              THOR: RAGNAROK   Hollywood          2017   \n",
       "\n",
       "   imdb_rating                     studio   budget   revenue       unit  \\\n",
       "0          8.3  Government of West Bengal  70000.0  100000.0  Thousands   \n",
       "1          7.0             Marvel Studios    200.0     954.8   Millions   \n",
       "2          6.8             Marvel Studios    165.0     644.8   Millions   \n",
       "3          7.9             Marvel Studios    180.0     854.0   Millions   \n",
       "\n",
       "  currency language  age  \n",
       "0      INR  Bengali   66  \n",
       "1      USD  English   -1  \n",
       "2      USD  English    8  \n",
       "3      USD  English    4  "
      ]
     },
     "execution_count": 58,
     "metadata": {},
     "output_type": "execute_result"
    }
   ],
   "source": [
    "data1[\"age\"] = 2021 - data1[\"release_year\"]\n",
    "data1.head(4)"
   ]
  },
  {
   "cell_type": "code",
   "execution_count": null,
   "metadata": {},
   "outputs": [
    {
     "data": {
      "application/vnd.microsoft.datawrangler.viewer.v0+json": {
       "columns": [
        {
         "name": "index",
         "rawType": "int64",
         "type": "integer"
        },
        {
         "name": "title",
         "rawType": "object",
         "type": "string"
        },
        {
         "name": "industry",
         "rawType": "object",
         "type": "string"
        },
        {
         "name": "release_year",
         "rawType": "int64",
         "type": "integer"
        },
        {
         "name": "imdb_rating",
         "rawType": "float64",
         "type": "float"
        },
        {
         "name": "studio",
         "rawType": "object",
         "type": "string"
        },
        {
         "name": "budget",
         "rawType": "float64",
         "type": "float"
        },
        {
         "name": "revenue",
         "rawType": "float64",
         "type": "float"
        },
        {
         "name": "unit",
         "rawType": "object",
         "type": "string"
        },
        {
         "name": "currency",
         "rawType": "object",
         "type": "string"
        },
        {
         "name": "language",
         "rawType": "object",
         "type": "string"
        },
        {
         "name": "age",
         "rawType": "int64",
         "type": "integer"
        },
        {
         "name": "age1",
         "rawType": "int64",
         "type": "integer"
        }
       ],
       "conversionMethod": "pd.DataFrame",
       "ref": "1375642d-374a-4c66-b5f8-a0b98ac0e75e",
       "rows": [
        [
         "33",
         "K.G.F: CHAPTER 2",
         "Bollywood",
         "2022",
         "8.4",
         "Hombale Films",
         "1.0",
         "12.5",
         "Billions",
         "INR",
         "Kannada",
         "-1",
         "-1"
        ],
        [
         "34",
         "PUSHPA: THE RISE - PART 1",
         "Bollywood",
         "2021",
         "7.6",
         "Mythri Movie Makers",
         "2.0",
         "3.6",
         "Billions",
         "INR",
         "Telugu",
         "0",
         "0"
        ],
        [
         "35",
         "RRR",
         "Bollywood",
         "2022",
         "8.0",
         "DVV Entertainment",
         "5.5",
         "12.0",
         "Billions",
         "INR",
         "Telugu",
         "-1",
         "-1"
        ],
        [
         "36",
         "BAAHUBALI: THE BEGINNING",
         "Bollywood",
         "2015",
         "8.0",
         "Arka Media Works",
         "1.8",
         "6.5",
         "Billions",
         "INR",
         "Telugu",
         "6",
         "6"
        ]
       ],
       "shape": {
        "columns": 12,
        "rows": 4
       }
      },
      "text/html": [
       "<div>\n",
       "<style scoped>\n",
       "    .dataframe tbody tr th:only-of-type {\n",
       "        vertical-align: middle;\n",
       "    }\n",
       "\n",
       "    .dataframe tbody tr th {\n",
       "        vertical-align: top;\n",
       "    }\n",
       "\n",
       "    .dataframe thead th {\n",
       "        text-align: right;\n",
       "    }\n",
       "</style>\n",
       "<table border=\"1\" class=\"dataframe\">\n",
       "  <thead>\n",
       "    <tr style=\"text-align: right;\">\n",
       "      <th></th>\n",
       "      <th>title</th>\n",
       "      <th>industry</th>\n",
       "      <th>release_year</th>\n",
       "      <th>imdb_rating</th>\n",
       "      <th>studio</th>\n",
       "      <th>budget</th>\n",
       "      <th>revenue</th>\n",
       "      <th>unit</th>\n",
       "      <th>currency</th>\n",
       "      <th>language</th>\n",
       "      <th>age</th>\n",
       "      <th>age1</th>\n",
       "    </tr>\n",
       "  </thead>\n",
       "  <tbody>\n",
       "    <tr>\n",
       "      <th>33</th>\n",
       "      <td>K.G.F: CHAPTER 2</td>\n",
       "      <td>Bollywood</td>\n",
       "      <td>2022</td>\n",
       "      <td>8.4</td>\n",
       "      <td>Hombale Films</td>\n",
       "      <td>1.0</td>\n",
       "      <td>12.5</td>\n",
       "      <td>Billions</td>\n",
       "      <td>INR</td>\n",
       "      <td>Kannada</td>\n",
       "      <td>-1</td>\n",
       "      <td>-1</td>\n",
       "    </tr>\n",
       "    <tr>\n",
       "      <th>34</th>\n",
       "      <td>PUSHPA: THE RISE - PART 1</td>\n",
       "      <td>Bollywood</td>\n",
       "      <td>2021</td>\n",
       "      <td>7.6</td>\n",
       "      <td>Mythri Movie Makers</td>\n",
       "      <td>2.0</td>\n",
       "      <td>3.6</td>\n",
       "      <td>Billions</td>\n",
       "      <td>INR</td>\n",
       "      <td>Telugu</td>\n",
       "      <td>0</td>\n",
       "      <td>0</td>\n",
       "    </tr>\n",
       "    <tr>\n",
       "      <th>35</th>\n",
       "      <td>RRR</td>\n",
       "      <td>Bollywood</td>\n",
       "      <td>2022</td>\n",
       "      <td>8.0</td>\n",
       "      <td>DVV Entertainment</td>\n",
       "      <td>5.5</td>\n",
       "      <td>12.0</td>\n",
       "      <td>Billions</td>\n",
       "      <td>INR</td>\n",
       "      <td>Telugu</td>\n",
       "      <td>-1</td>\n",
       "      <td>-1</td>\n",
       "    </tr>\n",
       "    <tr>\n",
       "      <th>36</th>\n",
       "      <td>BAAHUBALI: THE BEGINNING</td>\n",
       "      <td>Bollywood</td>\n",
       "      <td>2015</td>\n",
       "      <td>8.0</td>\n",
       "      <td>Arka Media Works</td>\n",
       "      <td>1.8</td>\n",
       "      <td>6.5</td>\n",
       "      <td>Billions</td>\n",
       "      <td>INR</td>\n",
       "      <td>Telugu</td>\n",
       "      <td>6</td>\n",
       "      <td>6</td>\n",
       "    </tr>\n",
       "  </tbody>\n",
       "</table>\n",
       "</div>"
      ],
      "text/plain": [
       "                        title   industry  release_year  imdb_rating  \\\n",
       "33           K.G.F: CHAPTER 2  Bollywood          2022          8.4   \n",
       "34  PUSHPA: THE RISE - PART 1  Bollywood          2021          7.6   \n",
       "35                        RRR  Bollywood          2022          8.0   \n",
       "36   BAAHUBALI: THE BEGINNING  Bollywood          2015          8.0   \n",
       "\n",
       "                 studio  budget  revenue      unit currency language  age  \\\n",
       "33        Hombale Films     1.0     12.5  Billions      INR  Kannada   -1   \n",
       "34  Mythri Movie Makers     2.0      3.6  Billions      INR   Telugu    0   \n",
       "35    DVV Entertainment     5.5     12.0  Billions      INR   Telugu   -1   \n",
       "36     Arka Media Works     1.8      6.5  Billions      INR   Telugu    6   \n",
       "\n",
       "    age1  \n",
       "33    -1  \n",
       "34     0  \n",
       "35    -1  \n",
       "36     6  "
      ]
     },
     "execution_count": 62,
     "metadata": {},
     "output_type": "execute_result"
    }
   ],
   "source": [
    "data1[\"age1\"] = data1[\"release_year\"].apply(lambda x: 2021 - x)\n",
    "data1.tail(4)  # last 4 rows head() first 4 rows"
   ]
  },
  {
   "cell_type": "code",
   "execution_count": 68,
   "metadata": {},
   "outputs": [
    {
     "data": {
      "application/vnd.microsoft.datawrangler.viewer.v0+json": {
       "columns": [
        {
         "name": "index",
         "rawType": "int64",
         "type": "integer"
        },
        {
         "name": "title",
         "rawType": "object",
         "type": "string"
        },
        {
         "name": "industry",
         "rawType": "object",
         "type": "string"
        },
        {
         "name": "release_year",
         "rawType": "int64",
         "type": "integer"
        },
        {
         "name": "imdb_rating",
         "rawType": "float64",
         "type": "float"
        },
        {
         "name": "studio",
         "rawType": "object",
         "type": "string"
        },
        {
         "name": "budget",
         "rawType": "float64",
         "type": "float"
        },
        {
         "name": "revenue",
         "rawType": "float64",
         "type": "float"
        },
        {
         "name": "unit",
         "rawType": "object",
         "type": "string"
        },
        {
         "name": "currency",
         "rawType": "object",
         "type": "string"
        },
        {
         "name": "language",
         "rawType": "object",
         "type": "string"
        },
        {
         "name": "age",
         "rawType": "int64",
         "type": "integer"
        },
        {
         "name": "age1",
         "rawType": "int64",
         "type": "integer"
        },
        {
         "name": "profit",
         "rawType": "float64",
         "type": "float"
        }
       ],
       "conversionMethod": "pd.DataFrame",
       "ref": "e8a0f326-ffb0-4593-a81f-fdad94267154",
       "rows": [
        [
         "0",
         "PATHER PANCHALI",
         "Bollywood",
         "1955",
         "8.3",
         "Government of West Bengal",
         "70000.0",
         "100000.0",
         "Thousands",
         "INR",
         "Bengali",
         "66",
         "66",
         "30000.0"
        ],
        [
         "1",
         "DOCTOR STRANGE IN THE MULTIVERSE OF MADNESS",
         "Hollywood",
         "2022",
         "7.0",
         "Marvel Studios",
         "200.0",
         "954.8",
         "Millions",
         "USD",
         "English",
         "-1",
         "-1",
         "754.8"
        ],
        [
         "2",
         "THOR: THE DARK WORLD ",
         "Hollywood",
         "2013",
         "6.8",
         "Marvel Studios",
         "165.0",
         "644.8",
         "Millions",
         "USD",
         "English",
         "8",
         "8",
         "479.79999999999995"
        ],
        [
         "3",
         "THOR: RAGNAROK ",
         "Hollywood",
         "2017",
         "7.9",
         "Marvel Studios",
         "180.0",
         "854.0",
         "Millions",
         "USD",
         "English",
         "4",
         "4",
         "674.0"
        ]
       ],
       "shape": {
        "columns": 13,
        "rows": 4
       }
      },
      "text/html": [
       "<div>\n",
       "<style scoped>\n",
       "    .dataframe tbody tr th:only-of-type {\n",
       "        vertical-align: middle;\n",
       "    }\n",
       "\n",
       "    .dataframe tbody tr th {\n",
       "        vertical-align: top;\n",
       "    }\n",
       "\n",
       "    .dataframe thead th {\n",
       "        text-align: right;\n",
       "    }\n",
       "</style>\n",
       "<table border=\"1\" class=\"dataframe\">\n",
       "  <thead>\n",
       "    <tr style=\"text-align: right;\">\n",
       "      <th></th>\n",
       "      <th>title</th>\n",
       "      <th>industry</th>\n",
       "      <th>release_year</th>\n",
       "      <th>imdb_rating</th>\n",
       "      <th>studio</th>\n",
       "      <th>budget</th>\n",
       "      <th>revenue</th>\n",
       "      <th>unit</th>\n",
       "      <th>currency</th>\n",
       "      <th>language</th>\n",
       "      <th>age</th>\n",
       "      <th>age1</th>\n",
       "      <th>profit</th>\n",
       "    </tr>\n",
       "  </thead>\n",
       "  <tbody>\n",
       "    <tr>\n",
       "      <th>0</th>\n",
       "      <td>PATHER PANCHALI</td>\n",
       "      <td>Bollywood</td>\n",
       "      <td>1955</td>\n",
       "      <td>8.3</td>\n",
       "      <td>Government of West Bengal</td>\n",
       "      <td>70000.0</td>\n",
       "      <td>100000.0</td>\n",
       "      <td>Thousands</td>\n",
       "      <td>INR</td>\n",
       "      <td>Bengali</td>\n",
       "      <td>66</td>\n",
       "      <td>66</td>\n",
       "      <td>30000.0</td>\n",
       "    </tr>\n",
       "    <tr>\n",
       "      <th>1</th>\n",
       "      <td>DOCTOR STRANGE IN THE MULTIVERSE OF MADNESS</td>\n",
       "      <td>Hollywood</td>\n",
       "      <td>2022</td>\n",
       "      <td>7.0</td>\n",
       "      <td>Marvel Studios</td>\n",
       "      <td>200.0</td>\n",
       "      <td>954.8</td>\n",
       "      <td>Millions</td>\n",
       "      <td>USD</td>\n",
       "      <td>English</td>\n",
       "      <td>-1</td>\n",
       "      <td>-1</td>\n",
       "      <td>754.8</td>\n",
       "    </tr>\n",
       "    <tr>\n",
       "      <th>2</th>\n",
       "      <td>THOR: THE DARK WORLD</td>\n",
       "      <td>Hollywood</td>\n",
       "      <td>2013</td>\n",
       "      <td>6.8</td>\n",
       "      <td>Marvel Studios</td>\n",
       "      <td>165.0</td>\n",
       "      <td>644.8</td>\n",
       "      <td>Millions</td>\n",
       "      <td>USD</td>\n",
       "      <td>English</td>\n",
       "      <td>8</td>\n",
       "      <td>8</td>\n",
       "      <td>479.8</td>\n",
       "    </tr>\n",
       "    <tr>\n",
       "      <th>3</th>\n",
       "      <td>THOR: RAGNAROK</td>\n",
       "      <td>Hollywood</td>\n",
       "      <td>2017</td>\n",
       "      <td>7.9</td>\n",
       "      <td>Marvel Studios</td>\n",
       "      <td>180.0</td>\n",
       "      <td>854.0</td>\n",
       "      <td>Millions</td>\n",
       "      <td>USD</td>\n",
       "      <td>English</td>\n",
       "      <td>4</td>\n",
       "      <td>4</td>\n",
       "      <td>674.0</td>\n",
       "    </tr>\n",
       "  </tbody>\n",
       "</table>\n",
       "</div>"
      ],
      "text/plain": [
       "                                         title   industry  release_year  \\\n",
       "0                              PATHER PANCHALI  Bollywood          1955   \n",
       "1  DOCTOR STRANGE IN THE MULTIVERSE OF MADNESS  Hollywood          2022   \n",
       "2                        THOR: THE DARK WORLD   Hollywood          2013   \n",
       "3                              THOR: RAGNAROK   Hollywood          2017   \n",
       "\n",
       "   imdb_rating                     studio   budget   revenue       unit  \\\n",
       "0          8.3  Government of West Bengal  70000.0  100000.0  Thousands   \n",
       "1          7.0             Marvel Studios    200.0     954.8   Millions   \n",
       "2          6.8             Marvel Studios    165.0     644.8   Millions   \n",
       "3          7.9             Marvel Studios    180.0     854.0   Millions   \n",
       "\n",
       "  currency language  age  age1   profit  \n",
       "0      INR  Bengali   66    66  30000.0  \n",
       "1      USD  English   -1    -1    754.8  \n",
       "2      USD  English    8     8    479.8  \n",
       "3      USD  English    4     4    674.0  "
      ]
     },
     "execution_count": 68,
     "metadata": {},
     "output_type": "execute_result"
    }
   ],
   "source": [
    "data1[\"profit\"] = data1.apply(lambda x: x[\"revenue\"] - x[\"budget\"]  , axis=1)\n",
    "data1.head(4)"
   ]
  },
  {
   "cell_type": "code",
   "execution_count": 80,
   "metadata": {},
   "outputs": [
    {
     "data": {
      "text/plain": [
       "Index(['PATHER PANCHALI', 'DOCTOR STRANGE IN THE MULTIVERSE OF MADNESS',\n",
       "       'THOR: THE DARK WORLD ', 'THOR: RAGNAROK ', 'THOR: LOVE AND THUNDER ',\n",
       "       'THE SHAWSHANK REDEMPTION', 'INTERSTELLAR', 'THE PURSUIT OF HAPPYNESS',\n",
       "       'GLADIATOR', 'TITANIC', 'IT'S A WONDERFUL LIFE', 'AVATAR',\n",
       "       'THE GODFATHER', 'THE DARK KNIGHT', 'SCHINDLER'S LIST', 'JURASSIC PARK',\n",
       "       'PARASITE', 'AVENGERS: ENDGAME', 'AVENGERS: INFINITY WAR',\n",
       "       'CAPTAIN AMERICA: THE FIRST AVENGER',\n",
       "       'CAPTAIN AMERICA: THE WINTER SOLDIER', 'DILWALE DULHANIA LE JAYENGE',\n",
       "       '3 IDIOTS', 'KABHI KHUSHI KABHIE GHAM', 'BAJIRAO MASTANI ',\n",
       "       'TAARE ZAMEEN PAR', 'MUNNA BHAI M.B.B.S.', 'PK', 'SANJU',\n",
       "       'THE KASHMIR FILES', 'BAJRANGI BHAIJAAN', 'RACE 3', 'SHERSHAAH',\n",
       "       'K.G.F: CHAPTER 2', 'PUSHPA: THE RISE - PART 1', 'RRR',\n",
       "       'BAAHUBALI: THE BEGINNING'],\n",
       "      dtype='object', name='title')"
      ]
     },
     "execution_count": 80,
     "metadata": {},
     "output_type": "execute_result"
    }
   ],
   "source": [
    "data1.index"
   ]
  },
  {
   "cell_type": "code",
   "execution_count": null,
   "metadata": {},
   "outputs": [
    {
     "name": "stdout",
     "output_type": "stream",
     "text": [
      "Index(['industry', 'release_year', 'imdb_rating', 'studio', 'budget',\n",
      "       'revenue', 'unit', 'currency', 'language', 'age', 'age1', 'profit'],\n",
      "      dtype='object')\n"
     ]
    }
   ],
   "source": [
    "data1.set_index('title' , inplace=True)\n",
    "\n",
    "print(data1.columns)"
   ]
  },
  {
   "cell_type": "code",
   "execution_count": 93,
   "metadata": {},
   "outputs": [
    {
     "name": "stdout",
     "output_type": "stream",
     "text": [
      "Index(['title', 'industry', 'release_year', 'imdb_rating', 'studio', 'budget',\n",
      "       'revenue', 'unit', 'currency', 'language'],\n",
      "      dtype='object')\n",
      "                                              industry  release_year  \\\n",
      "title                                                                  \n",
      "Pather Panchali                              Bollywood          1955   \n",
      "Doctor Strange in the Multiverse of Madness  Hollywood          2022   \n",
      "Thor: The Dark World                         Hollywood          2013   \n",
      "\n",
      "                                             imdb_rating  \\\n",
      "title                                                      \n",
      "Pather Panchali                                      8.3   \n",
      "Doctor Strange in the Multiverse of Madness          7.0   \n",
      "Thor: The Dark World                                 6.8   \n",
      "\n",
      "                                                                studio  \\\n",
      "title                                                                    \n",
      "Pather Panchali                              Government of West Bengal   \n",
      "Doctor Strange in the Multiverse of Madness             Marvel Studios   \n",
      "Thor: The Dark World                                    Marvel Studios   \n",
      "\n",
      "                                              budget   revenue       unit  \\\n",
      "title                                                                       \n",
      "Pather Panchali                              70000.0  100000.0  Thousands   \n",
      "Doctor Strange in the Multiverse of Madness    200.0     954.8   Millions   \n",
      "Thor: The Dark World                           165.0     644.8   Millions   \n",
      "\n",
      "                                            currency language  \n",
      "title                                                          \n",
      "Pather Panchali                                  INR  Bengali  \n",
      "Doctor Strange in the Multiverse of Madness      USD  English  \n",
      "Thor: The Dark World                             USD  English  \n"
     ]
    }
   ],
   "source": [
    "import pandas as pd\n",
    "\n",
    "# Example of loading a DataFrame\n",
    "data1 = pd.read_csv('movies.csv')\n",
    "\n",
    "# Check the columns\n",
    "print(data1.columns)\n",
    "if 'title' in data1.columns:\n",
    "    data1.set_index('title', inplace=True)\n",
    "    print(data1.head(3))\n",
    "else:\n",
    "    print(\"Column 'title' does not exist in the DataFrame.\")"
   ]
  },
  {
   "cell_type": "code",
   "execution_count": 94,
   "metadata": {},
   "outputs": [
    {
     "data": {
      "text/plain": [
       "Index(['Pather Panchali', 'Doctor Strange in the Multiverse of Madness',\n",
       "       'Thor: The Dark World ', 'Thor: Ragnarok ', 'Thor: Love and Thunder ',\n",
       "       'The Shawshank Redemption', 'Interstellar', 'The Pursuit of Happyness',\n",
       "       'Gladiator', 'Titanic', 'It's a Wonderful Life', 'Avatar',\n",
       "       'The Godfather', 'The Dark Knight', 'Schindler's List', 'Jurassic Park',\n",
       "       'Parasite', 'Avengers: Endgame', 'Avengers: Infinity War',\n",
       "       'Captain America: The First Avenger',\n",
       "       'Captain America: The Winter Soldier', 'Dilwale Dulhania Le Jayenge',\n",
       "       '3 Idiots', 'Kabhi Khushi Kabhie Gham', 'Bajirao Mastani ',\n",
       "       'Taare Zameen Par', 'Munna Bhai M.B.B.S.', 'PK', 'Sanju',\n",
       "       'The Kashmir Files', 'Bajrangi Bhaijaan', 'Race 3', 'Shershaah',\n",
       "       'K.G.F: Chapter 2', 'Pushpa: The Rise - Part 1', 'RRR',\n",
       "       'Baahubali: The Beginning'],\n",
       "      dtype='object', name='title')"
      ]
     },
     "execution_count": 94,
     "metadata": {},
     "output_type": "execute_result"
    }
   ],
   "source": [
    "data1.index"
   ]
  },
  {
   "cell_type": "code",
   "execution_count": 98,
   "metadata": {},
   "outputs": [],
   "source": [
    "data1.loc[\"Pather Panchali\" , 'language' ] = 'Bengali'  "
   ]
  },
  {
   "cell_type": "code",
   "execution_count": 104,
   "metadata": {},
   "outputs": [
    {
     "data": {
      "text/plain": [
       "industry                        Bollywood\n",
       "release_year                         1955\n",
       "imdb_rating                           8.3\n",
       "studio          Government of West Bengal\n",
       "budget                            70000.0\n",
       "revenue                          100000.0\n",
       "unit                            Thousands\n",
       "currency                              INR\n",
       "language                          Bengali\n",
       "RRR                                   9.5\n",
       "Name: Pather Panchali, dtype: object"
      ]
     },
     "execution_count": 104,
     "metadata": {},
     "output_type": "execute_result"
    }
   ],
   "source": [
    "cc =data1.loc[\"Pather Panchali\" ] \n",
    "cc\n"
   ]
  },
  {
   "cell_type": "code",
   "execution_count": 106,
   "metadata": {},
   "outputs": [
    {
     "data": {
      "text/plain": [
       "industry                        Bollywood\n",
       "release_year                         1955\n",
       "imdb_rating                           8.3\n",
       "studio          Government of West Bengal\n",
       "budget                            70000.0\n",
       "revenue                          100000.0\n",
       "unit                            Thousands\n",
       "currency                              INR\n",
       "language                          Bengali\n",
       "RRR                                   9.5\n",
       "Name: Pather Panchali, dtype: object"
      ]
     },
     "execution_count": 106,
     "metadata": {},
     "output_type": "execute_result"
    }
   ],
   "source": [
    "data1.iloc[0]"
   ]
  },
  {
   "cell_type": "code",
   "execution_count": 107,
   "metadata": {},
   "outputs": [
    {
     "data": {
      "application/vnd.microsoft.datawrangler.viewer.v0+json": {
       "columns": [
        {
         "name": "index",
         "rawType": "int64",
         "type": "integer"
        },
        {
         "name": "title",
         "rawType": "object",
         "type": "string"
        },
        {
         "name": "industry",
         "rawType": "object",
         "type": "string"
        },
        {
         "name": "release_year",
         "rawType": "int64",
         "type": "integer"
        },
        {
         "name": "imdb_rating",
         "rawType": "float64",
         "type": "float"
        },
        {
         "name": "studio",
         "rawType": "object",
         "type": "string"
        },
        {
         "name": "budget",
         "rawType": "float64",
         "type": "float"
        },
        {
         "name": "revenue",
         "rawType": "float64",
         "type": "float"
        },
        {
         "name": "unit",
         "rawType": "object",
         "type": "string"
        },
        {
         "name": "currency",
         "rawType": "object",
         "type": "string"
        },
        {
         "name": "language",
         "rawType": "object",
         "type": "string"
        },
        {
         "name": "RRR",
         "rawType": "object",
         "type": "unknown"
        }
       ],
       "conversionMethod": "pd.DataFrame",
       "ref": "3f7f6c53-552c-43ea-989c-67c12ff81a17",
       "rows": [
        [
         "0",
         "Pather Panchali",
         "Bollywood",
         "1955",
         "8.3",
         "Government of West Bengal",
         "70000.0",
         "100000.0",
         "Thousands",
         "INR",
         "Bengali",
         "9.5"
        ],
        [
         "1",
         "Doctor Strange in the Multiverse of Madness",
         "Hollywood",
         "2022",
         "7.0",
         "Marvel Studios",
         "200.0",
         "954.8",
         "Millions",
         "USD",
         "English",
         null
        ],
        [
         "2",
         "Thor: The Dark World ",
         "Hollywood",
         "2013",
         "6.8",
         "Marvel Studios",
         "165.0",
         "644.8",
         "Millions",
         "USD",
         "English",
         null
        ],
        [
         "3",
         "Thor: Ragnarok ",
         "Hollywood",
         "2017",
         "7.9",
         "Marvel Studios",
         "180.0",
         "854.0",
         "Millions",
         "USD",
         "English",
         null
        ]
       ],
       "shape": {
        "columns": 11,
        "rows": 4
       }
      },
      "text/html": [
       "<div>\n",
       "<style scoped>\n",
       "    .dataframe tbody tr th:only-of-type {\n",
       "        vertical-align: middle;\n",
       "    }\n",
       "\n",
       "    .dataframe tbody tr th {\n",
       "        vertical-align: top;\n",
       "    }\n",
       "\n",
       "    .dataframe thead th {\n",
       "        text-align: right;\n",
       "    }\n",
       "</style>\n",
       "<table border=\"1\" class=\"dataframe\">\n",
       "  <thead>\n",
       "    <tr style=\"text-align: right;\">\n",
       "      <th></th>\n",
       "      <th>title</th>\n",
       "      <th>industry</th>\n",
       "      <th>release_year</th>\n",
       "      <th>imdb_rating</th>\n",
       "      <th>studio</th>\n",
       "      <th>budget</th>\n",
       "      <th>revenue</th>\n",
       "      <th>unit</th>\n",
       "      <th>currency</th>\n",
       "      <th>language</th>\n",
       "      <th>RRR</th>\n",
       "    </tr>\n",
       "  </thead>\n",
       "  <tbody>\n",
       "    <tr>\n",
       "      <th>0</th>\n",
       "      <td>Pather Panchali</td>\n",
       "      <td>Bollywood</td>\n",
       "      <td>1955</td>\n",
       "      <td>8.3</td>\n",
       "      <td>Government of West Bengal</td>\n",
       "      <td>70000.0</td>\n",
       "      <td>100000.0</td>\n",
       "      <td>Thousands</td>\n",
       "      <td>INR</td>\n",
       "      <td>Bengali</td>\n",
       "      <td>9.5</td>\n",
       "    </tr>\n",
       "    <tr>\n",
       "      <th>1</th>\n",
       "      <td>Doctor Strange in the Multiverse of Madness</td>\n",
       "      <td>Hollywood</td>\n",
       "      <td>2022</td>\n",
       "      <td>7.0</td>\n",
       "      <td>Marvel Studios</td>\n",
       "      <td>200.0</td>\n",
       "      <td>954.8</td>\n",
       "      <td>Millions</td>\n",
       "      <td>USD</td>\n",
       "      <td>English</td>\n",
       "      <td>NaN</td>\n",
       "    </tr>\n",
       "    <tr>\n",
       "      <th>2</th>\n",
       "      <td>Thor: The Dark World</td>\n",
       "      <td>Hollywood</td>\n",
       "      <td>2013</td>\n",
       "      <td>6.8</td>\n",
       "      <td>Marvel Studios</td>\n",
       "      <td>165.0</td>\n",
       "      <td>644.8</td>\n",
       "      <td>Millions</td>\n",
       "      <td>USD</td>\n",
       "      <td>English</td>\n",
       "      <td>NaN</td>\n",
       "    </tr>\n",
       "    <tr>\n",
       "      <th>3</th>\n",
       "      <td>Thor: Ragnarok</td>\n",
       "      <td>Hollywood</td>\n",
       "      <td>2017</td>\n",
       "      <td>7.9</td>\n",
       "      <td>Marvel Studios</td>\n",
       "      <td>180.0</td>\n",
       "      <td>854.0</td>\n",
       "      <td>Millions</td>\n",
       "      <td>USD</td>\n",
       "      <td>English</td>\n",
       "      <td>NaN</td>\n",
       "    </tr>\n",
       "  </tbody>\n",
       "</table>\n",
       "</div>"
      ],
      "text/plain": [
       "                                         title   industry  release_year  \\\n",
       "0                              Pather Panchali  Bollywood          1955   \n",
       "1  Doctor Strange in the Multiverse of Madness  Hollywood          2022   \n",
       "2                        Thor: The Dark World   Hollywood          2013   \n",
       "3                              Thor: Ragnarok   Hollywood          2017   \n",
       "\n",
       "   imdb_rating                     studio   budget   revenue       unit  \\\n",
       "0          8.3  Government of West Bengal  70000.0  100000.0  Thousands   \n",
       "1          7.0             Marvel Studios    200.0     954.8   Millions   \n",
       "2          6.8             Marvel Studios    165.0     644.8   Millions   \n",
       "3          7.9             Marvel Studios    180.0     854.0   Millions   \n",
       "\n",
       "  currency language  RRR  \n",
       "0      INR  Bengali  9.5  \n",
       "1      USD  English  NaN  \n",
       "2      USD  English  NaN  \n",
       "3      USD  English  NaN  "
      ]
     },
     "execution_count": 107,
     "metadata": {},
     "output_type": "execute_result"
    }
   ],
   "source": [
    "data1.reset_index(inplace=True)\n",
    "data1.head(4)"
   ]
  },
  {
   "cell_type": "code",
   "execution_count": 6,
   "metadata": {},
   "outputs": [
    {
     "data": {
      "application/vnd.microsoft.datawrangler.viewer.v0+json": {
       "columns": [
        {
         "name": "index",
         "rawType": "int64",
         "type": "integer"
        },
        {
         "name": "title",
         "rawType": "object",
         "type": "string"
        },
        {
         "name": "industry",
         "rawType": "object",
         "type": "string"
        },
        {
         "name": "release_year",
         "rawType": "int64",
         "type": "integer"
        },
        {
         "name": "imdb_rating",
         "rawType": "float64",
         "type": "float"
        },
        {
         "name": "studio",
         "rawType": "object",
         "type": "string"
        },
        {
         "name": "budget",
         "rawType": "float64",
         "type": "float"
        },
        {
         "name": "revenue",
         "rawType": "float64",
         "type": "float"
        },
        {
         "name": "unit",
         "rawType": "object",
         "type": "string"
        },
        {
         "name": "currency",
         "rawType": "object",
         "type": "string"
        },
        {
         "name": "language",
         "rawType": "object",
         "type": "string"
        },
        {
         "name": "age",
         "rawType": "int64",
         "type": "integer"
        }
       ],
       "conversionMethod": "pd.DataFrame",
       "ref": "f8ea0111-a488-4d09-8491-8e5ee36e51e7",
       "rows": [
        [
         "0",
         "Pather Panchali",
         "Bollywood",
         "1955",
         "8.3",
         "Government of West Bengal",
         "70000.0",
         "100000.0",
         "Thousands",
         "INR",
         "Bengali",
         "66"
        ],
        [
         "1",
         "Doctor Strange in the Multiverse of Madness",
         "Hollywood",
         "2022",
         "7.0",
         "Marvel Studios",
         "200.0",
         "954.8",
         "Millions",
         "USD",
         "English",
         "-1"
        ],
        [
         "2",
         "Thor: The Dark World ",
         "Hollywood",
         "2013",
         "6.8",
         "Marvel Studios",
         "165.0",
         "644.8",
         "Millions",
         "USD",
         "English",
         "8"
        ],
        [
         "3",
         "Thor: Ragnarok ",
         "Hollywood",
         "2017",
         "7.9",
         "Marvel Studios",
         "180.0",
         "854.0",
         "Millions",
         "USD",
         "English",
         "4"
        ]
       ],
       "shape": {
        "columns": 11,
        "rows": 4
       }
      },
      "text/html": [
       "<div>\n",
       "<style scoped>\n",
       "    .dataframe tbody tr th:only-of-type {\n",
       "        vertical-align: middle;\n",
       "    }\n",
       "\n",
       "    .dataframe tbody tr th {\n",
       "        vertical-align: top;\n",
       "    }\n",
       "\n",
       "    .dataframe thead th {\n",
       "        text-align: right;\n",
       "    }\n",
       "</style>\n",
       "<table border=\"1\" class=\"dataframe\">\n",
       "  <thead>\n",
       "    <tr style=\"text-align: right;\">\n",
       "      <th></th>\n",
       "      <th>title</th>\n",
       "      <th>industry</th>\n",
       "      <th>release_year</th>\n",
       "      <th>imdb_rating</th>\n",
       "      <th>studio</th>\n",
       "      <th>budget</th>\n",
       "      <th>revenue</th>\n",
       "      <th>unit</th>\n",
       "      <th>currency</th>\n",
       "      <th>language</th>\n",
       "      <th>age</th>\n",
       "    </tr>\n",
       "  </thead>\n",
       "  <tbody>\n",
       "    <tr>\n",
       "      <th>0</th>\n",
       "      <td>Pather Panchali</td>\n",
       "      <td>Bollywood</td>\n",
       "      <td>1955</td>\n",
       "      <td>8.3</td>\n",
       "      <td>Government of West Bengal</td>\n",
       "      <td>70000.0</td>\n",
       "      <td>100000.0</td>\n",
       "      <td>Thousands</td>\n",
       "      <td>INR</td>\n",
       "      <td>Bengali</td>\n",
       "      <td>66</td>\n",
       "    </tr>\n",
       "    <tr>\n",
       "      <th>1</th>\n",
       "      <td>Doctor Strange in the Multiverse of Madness</td>\n",
       "      <td>Hollywood</td>\n",
       "      <td>2022</td>\n",
       "      <td>7.0</td>\n",
       "      <td>Marvel Studios</td>\n",
       "      <td>200.0</td>\n",
       "      <td>954.8</td>\n",
       "      <td>Millions</td>\n",
       "      <td>USD</td>\n",
       "      <td>English</td>\n",
       "      <td>-1</td>\n",
       "    </tr>\n",
       "    <tr>\n",
       "      <th>2</th>\n",
       "      <td>Thor: The Dark World</td>\n",
       "      <td>Hollywood</td>\n",
       "      <td>2013</td>\n",
       "      <td>6.8</td>\n",
       "      <td>Marvel Studios</td>\n",
       "      <td>165.0</td>\n",
       "      <td>644.8</td>\n",
       "      <td>Millions</td>\n",
       "      <td>USD</td>\n",
       "      <td>English</td>\n",
       "      <td>8</td>\n",
       "    </tr>\n",
       "    <tr>\n",
       "      <th>3</th>\n",
       "      <td>Thor: Ragnarok</td>\n",
       "      <td>Hollywood</td>\n",
       "      <td>2017</td>\n",
       "      <td>7.9</td>\n",
       "      <td>Marvel Studios</td>\n",
       "      <td>180.0</td>\n",
       "      <td>854.0</td>\n",
       "      <td>Millions</td>\n",
       "      <td>USD</td>\n",
       "      <td>English</td>\n",
       "      <td>4</td>\n",
       "    </tr>\n",
       "  </tbody>\n",
       "</table>\n",
       "</div>"
      ],
      "text/plain": [
       "                                         title   industry  release_year  \\\n",
       "0                              Pather Panchali  Bollywood          1955   \n",
       "1  Doctor Strange in the Multiverse of Madness  Hollywood          2022   \n",
       "2                        Thor: The Dark World   Hollywood          2013   \n",
       "3                              Thor: Ragnarok   Hollywood          2017   \n",
       "\n",
       "   imdb_rating                     studio   budget   revenue       unit  \\\n",
       "0          8.3  Government of West Bengal  70000.0  100000.0  Thousands   \n",
       "1          7.0             Marvel Studios    200.0     954.8   Millions   \n",
       "2          6.8             Marvel Studios    165.0     644.8   Millions   \n",
       "3          7.9             Marvel Studios    180.0     854.0   Millions   \n",
       "\n",
       "  currency language  age  \n",
       "0      INR  Bengali   66  \n",
       "1      USD  English   -1  \n",
       "2      USD  English    8  \n",
       "3      USD  English    4  "
      ]
     },
     "execution_count": 6,
     "metadata": {},
     "output_type": "execute_result"
    }
   ],
   "source": [
    "data1[\"age\"] = 2021 - data1[\"release_year\"]\n",
    "data1.head(4)"
   ]
  },
  {
   "cell_type": "code",
   "execution_count": 8,
   "metadata": {},
   "outputs": [
    {
     "data": {
      "application/vnd.microsoft.datawrangler.viewer.v0+json": {
       "columns": [
        {
         "name": "index",
         "rawType": "int64",
         "type": "integer"
        },
        {
         "name": "title",
         "rawType": "object",
         "type": "string"
        },
        {
         "name": "industry",
         "rawType": "object",
         "type": "string"
        },
        {
         "name": "release_year",
         "rawType": "int64",
         "type": "integer"
        },
        {
         "name": "imdb_rating",
         "rawType": "float64",
         "type": "float"
        },
        {
         "name": "studio",
         "rawType": "object",
         "type": "string"
        },
        {
         "name": "budget",
         "rawType": "float64",
         "type": "float"
        },
        {
         "name": "revenue",
         "rawType": "float64",
         "type": "float"
        },
        {
         "name": "unit",
         "rawType": "object",
         "type": "string"
        },
        {
         "name": "currency",
         "rawType": "object",
         "type": "string"
        },
        {
         "name": "language",
         "rawType": "object",
         "type": "string"
        },
        {
         "name": "age",
         "rawType": "int64",
         "type": "integer"
        }
       ],
       "conversionMethod": "pd.DataFrame",
       "ref": "b0e2b36d-dfd4-4521-92ec-410f26b53544",
       "rows": [
        [
         "0",
         "Pather Panchali",
         "Bollywood",
         "1955",
         "8.3",
         "Government of West Bengal",
         "70000.0",
         "100000.0",
         "Thousands",
         "INR",
         "Bengali",
         "66"
        ],
        [
         "1",
         "Doctor Strange in the Multiverse of Madness",
         "Hollywood",
         "2022",
         "7.0",
         "Marvel Studios",
         "200.0",
         "954.8",
         "Millions",
         "USD",
         "English",
         "-1"
        ],
        [
         "2",
         "Thor: The Dark World ",
         "Hollywood",
         "2013",
         "6.8",
         "Marvel Studios",
         "165.0",
         "644.8",
         "Millions",
         "USD",
         "English",
         "8"
        ],
        [
         "3",
         "Thor: Ragnarok ",
         "Hollywood",
         "2017",
         "7.9",
         "Marvel Studios",
         "180.0",
         "854.0",
         "Millions",
         "USD",
         "English",
         "4"
        ]
       ],
       "shape": {
        "columns": 11,
        "rows": 4
       }
      },
      "text/html": [
       "<div>\n",
       "<style scoped>\n",
       "    .dataframe tbody tr th:only-of-type {\n",
       "        vertical-align: middle;\n",
       "    }\n",
       "\n",
       "    .dataframe tbody tr th {\n",
       "        vertical-align: top;\n",
       "    }\n",
       "\n",
       "    .dataframe thead th {\n",
       "        text-align: right;\n",
       "    }\n",
       "</style>\n",
       "<table border=\"1\" class=\"dataframe\">\n",
       "  <thead>\n",
       "    <tr style=\"text-align: right;\">\n",
       "      <th></th>\n",
       "      <th>title</th>\n",
       "      <th>industry</th>\n",
       "      <th>release_year</th>\n",
       "      <th>imdb_rating</th>\n",
       "      <th>studio</th>\n",
       "      <th>budget</th>\n",
       "      <th>revenue</th>\n",
       "      <th>unit</th>\n",
       "      <th>currency</th>\n",
       "      <th>language</th>\n",
       "      <th>age</th>\n",
       "    </tr>\n",
       "  </thead>\n",
       "  <tbody>\n",
       "    <tr>\n",
       "      <th>0</th>\n",
       "      <td>Pather Panchali</td>\n",
       "      <td>Bollywood</td>\n",
       "      <td>1955</td>\n",
       "      <td>8.3</td>\n",
       "      <td>Government of West Bengal</td>\n",
       "      <td>70000.0</td>\n",
       "      <td>100000.0</td>\n",
       "      <td>Thousands</td>\n",
       "      <td>INR</td>\n",
       "      <td>Bengali</td>\n",
       "      <td>66</td>\n",
       "    </tr>\n",
       "    <tr>\n",
       "      <th>1</th>\n",
       "      <td>Doctor Strange in the Multiverse of Madness</td>\n",
       "      <td>Hollywood</td>\n",
       "      <td>2022</td>\n",
       "      <td>7.0</td>\n",
       "      <td>Marvel Studios</td>\n",
       "      <td>200.0</td>\n",
       "      <td>954.8</td>\n",
       "      <td>Millions</td>\n",
       "      <td>USD</td>\n",
       "      <td>English</td>\n",
       "      <td>-1</td>\n",
       "    </tr>\n",
       "    <tr>\n",
       "      <th>2</th>\n",
       "      <td>Thor: The Dark World</td>\n",
       "      <td>Hollywood</td>\n",
       "      <td>2013</td>\n",
       "      <td>6.8</td>\n",
       "      <td>Marvel Studios</td>\n",
       "      <td>165.0</td>\n",
       "      <td>644.8</td>\n",
       "      <td>Millions</td>\n",
       "      <td>USD</td>\n",
       "      <td>English</td>\n",
       "      <td>8</td>\n",
       "    </tr>\n",
       "    <tr>\n",
       "      <th>3</th>\n",
       "      <td>Thor: Ragnarok</td>\n",
       "      <td>Hollywood</td>\n",
       "      <td>2017</td>\n",
       "      <td>7.9</td>\n",
       "      <td>Marvel Studios</td>\n",
       "      <td>180.0</td>\n",
       "      <td>854.0</td>\n",
       "      <td>Millions</td>\n",
       "      <td>USD</td>\n",
       "      <td>English</td>\n",
       "      <td>4</td>\n",
       "    </tr>\n",
       "  </tbody>\n",
       "</table>\n",
       "</div>"
      ],
      "text/plain": [
       "                                         title   industry  release_year  \\\n",
       "0                              Pather Panchali  Bollywood          1955   \n",
       "1  Doctor Strange in the Multiverse of Madness  Hollywood          2022   \n",
       "2                        Thor: The Dark World   Hollywood          2013   \n",
       "3                              Thor: Ragnarok   Hollywood          2017   \n",
       "\n",
       "   imdb_rating                     studio   budget   revenue       unit  \\\n",
       "0          8.3  Government of West Bengal  70000.0  100000.0  Thousands   \n",
       "1          7.0             Marvel Studios    200.0     954.8   Millions   \n",
       "2          6.8             Marvel Studios    165.0     644.8   Millions   \n",
       "3          7.9             Marvel Studios    180.0     854.0   Millions   \n",
       "\n",
       "  currency language  age  \n",
       "0      INR  Bengali   66  \n",
       "1      USD  English   -1  \n",
       "2      USD  English    8  \n",
       "3      USD  English    4  "
      ]
     },
     "execution_count": 8,
     "metadata": {},
     "output_type": "execute_result"
    }
   ],
   "source": [
    "data1[\"age\"] = data1[\"release_year\"].apply(lambda x: 2021 - x)\n",
    "data1.head(4)  # last 4 rows head() first 4 rows\n"
   ]
  },
  {
   "cell_type": "code",
   "execution_count": 11,
   "metadata": {},
   "outputs": [
    {
     "data": {
      "application/vnd.microsoft.datawrangler.viewer.v0+json": {
       "columns": [
        {
         "name": "index",
         "rawType": "int64",
         "type": "integer"
        },
        {
         "name": "title",
         "rawType": "object",
         "type": "string"
        },
        {
         "name": "industry",
         "rawType": "object",
         "type": "string"
        },
        {
         "name": "release_year",
         "rawType": "int64",
         "type": "integer"
        },
        {
         "name": "imdb_rating",
         "rawType": "float64",
         "type": "float"
        },
        {
         "name": "studio",
         "rawType": "object",
         "type": "string"
        },
        {
         "name": "budget",
         "rawType": "float64",
         "type": "float"
        },
        {
         "name": "revenue",
         "rawType": "float64",
         "type": "float"
        },
        {
         "name": "unit",
         "rawType": "object",
         "type": "string"
        },
        {
         "name": "currency",
         "rawType": "object",
         "type": "string"
        },
        {
         "name": "language",
         "rawType": "object",
         "type": "string"
        },
        {
         "name": "age",
         "rawType": "int64",
         "type": "integer"
        },
        {
         "name": "profit",
         "rawType": "float64",
         "type": "float"
        }
       ],
       "conversionMethod": "pd.DataFrame",
       "ref": "fdd9e248-4f6f-4642-8241-5bd09385b609",
       "rows": [
        [
         "0",
         "Pather Panchali",
         "Bollywood",
         "1955",
         "8.3",
         "Government of West Bengal",
         "70000.0",
         "100000.0",
         "Thousands",
         "INR",
         "Bengali",
         "66",
         "30000.0"
        ],
        [
         "1",
         "Doctor Strange in the Multiverse of Madness",
         "Hollywood",
         "2022",
         "7.0",
         "Marvel Studios",
         "200.0",
         "954.8",
         "Millions",
         "USD",
         "English",
         "-1",
         "754.8"
        ],
        [
         "2",
         "Thor: The Dark World ",
         "Hollywood",
         "2013",
         "6.8",
         "Marvel Studios",
         "165.0",
         "644.8",
         "Millions",
         "USD",
         "English",
         "8",
         "479.79999999999995"
        ],
        [
         "3",
         "Thor: Ragnarok ",
         "Hollywood",
         "2017",
         "7.9",
         "Marvel Studios",
         "180.0",
         "854.0",
         "Millions",
         "USD",
         "English",
         "4",
         "674.0"
        ]
       ],
       "shape": {
        "columns": 12,
        "rows": 4
       }
      },
      "text/html": [
       "<div>\n",
       "<style scoped>\n",
       "    .dataframe tbody tr th:only-of-type {\n",
       "        vertical-align: middle;\n",
       "    }\n",
       "\n",
       "    .dataframe tbody tr th {\n",
       "        vertical-align: top;\n",
       "    }\n",
       "\n",
       "    .dataframe thead th {\n",
       "        text-align: right;\n",
       "    }\n",
       "</style>\n",
       "<table border=\"1\" class=\"dataframe\">\n",
       "  <thead>\n",
       "    <tr style=\"text-align: right;\">\n",
       "      <th></th>\n",
       "      <th>title</th>\n",
       "      <th>industry</th>\n",
       "      <th>release_year</th>\n",
       "      <th>imdb_rating</th>\n",
       "      <th>studio</th>\n",
       "      <th>budget</th>\n",
       "      <th>revenue</th>\n",
       "      <th>unit</th>\n",
       "      <th>currency</th>\n",
       "      <th>language</th>\n",
       "      <th>age</th>\n",
       "      <th>profit</th>\n",
       "    </tr>\n",
       "  </thead>\n",
       "  <tbody>\n",
       "    <tr>\n",
       "      <th>0</th>\n",
       "      <td>Pather Panchali</td>\n",
       "      <td>Bollywood</td>\n",
       "      <td>1955</td>\n",
       "      <td>8.3</td>\n",
       "      <td>Government of West Bengal</td>\n",
       "      <td>70000.0</td>\n",
       "      <td>100000.0</td>\n",
       "      <td>Thousands</td>\n",
       "      <td>INR</td>\n",
       "      <td>Bengali</td>\n",
       "      <td>66</td>\n",
       "      <td>30000.0</td>\n",
       "    </tr>\n",
       "    <tr>\n",
       "      <th>1</th>\n",
       "      <td>Doctor Strange in the Multiverse of Madness</td>\n",
       "      <td>Hollywood</td>\n",
       "      <td>2022</td>\n",
       "      <td>7.0</td>\n",
       "      <td>Marvel Studios</td>\n",
       "      <td>200.0</td>\n",
       "      <td>954.8</td>\n",
       "      <td>Millions</td>\n",
       "      <td>USD</td>\n",
       "      <td>English</td>\n",
       "      <td>-1</td>\n",
       "      <td>754.8</td>\n",
       "    </tr>\n",
       "    <tr>\n",
       "      <th>2</th>\n",
       "      <td>Thor: The Dark World</td>\n",
       "      <td>Hollywood</td>\n",
       "      <td>2013</td>\n",
       "      <td>6.8</td>\n",
       "      <td>Marvel Studios</td>\n",
       "      <td>165.0</td>\n",
       "      <td>644.8</td>\n",
       "      <td>Millions</td>\n",
       "      <td>USD</td>\n",
       "      <td>English</td>\n",
       "      <td>8</td>\n",
       "      <td>479.8</td>\n",
       "    </tr>\n",
       "    <tr>\n",
       "      <th>3</th>\n",
       "      <td>Thor: Ragnarok</td>\n",
       "      <td>Hollywood</td>\n",
       "      <td>2017</td>\n",
       "      <td>7.9</td>\n",
       "      <td>Marvel Studios</td>\n",
       "      <td>180.0</td>\n",
       "      <td>854.0</td>\n",
       "      <td>Millions</td>\n",
       "      <td>USD</td>\n",
       "      <td>English</td>\n",
       "      <td>4</td>\n",
       "      <td>674.0</td>\n",
       "    </tr>\n",
       "  </tbody>\n",
       "</table>\n",
       "</div>"
      ],
      "text/plain": [
       "                                         title   industry  release_year  \\\n",
       "0                              Pather Panchali  Bollywood          1955   \n",
       "1  Doctor Strange in the Multiverse of Madness  Hollywood          2022   \n",
       "2                        Thor: The Dark World   Hollywood          2013   \n",
       "3                              Thor: Ragnarok   Hollywood          2017   \n",
       "\n",
       "   imdb_rating                     studio   budget   revenue       unit  \\\n",
       "0          8.3  Government of West Bengal  70000.0  100000.0  Thousands   \n",
       "1          7.0             Marvel Studios    200.0     954.8   Millions   \n",
       "2          6.8             Marvel Studios    165.0     644.8   Millions   \n",
       "3          7.9             Marvel Studios    180.0     854.0   Millions   \n",
       "\n",
       "  currency language  age   profit  \n",
       "0      INR  Bengali   66  30000.0  \n",
       "1      USD  English   -1    754.8  \n",
       "2      USD  English    8    479.8  \n",
       "3      USD  English    4    674.0  "
      ]
     },
     "execution_count": 11,
     "metadata": {},
     "output_type": "execute_result"
    }
   ],
   "source": [
    "data1[\"profit\"] = data1.apply(lambda x: x[\"revenue\"] - x[\"budget\"]  , axis=1)\n",
    "data1.head(4)"
   ]
  },
  {
   "cell_type": "code",
   "execution_count": 12,
   "metadata": {},
   "outputs": [
    {
     "data": {
      "text/plain": [
       "RangeIndex(start=0, stop=37, step=1)"
      ]
     },
     "execution_count": 12,
     "metadata": {},
     "output_type": "execute_result"
    }
   ],
   "source": [
    "data1.index"
   ]
  },
  {
   "cell_type": "code",
   "execution_count": 19,
   "metadata": {},
   "outputs": [
    {
     "ename": "KeyError",
     "evalue": "\"None of ['title'] are in the columns\"",
     "output_type": "error",
     "traceback": [
      "\u001b[1;31m---------------------------------------------------------------------------\u001b[0m",
      "\u001b[1;31mKeyError\u001b[0m                                  Traceback (most recent call last)",
      "\u001b[1;32m~\\AppData\\Local\\Temp\\ipykernel_11528\\2375823804.py\u001b[0m in \u001b[0;36m?\u001b[1;34m()\u001b[0m\n\u001b[1;32m----> 1\u001b[1;33m \u001b[0mdata1\u001b[0m\u001b[1;33m.\u001b[0m\u001b[0mset_index\u001b[0m\u001b[1;33m(\u001b[0m\u001b[1;34m'title'\u001b[0m \u001b[1;33m,\u001b[0m \u001b[0minplace\u001b[0m\u001b[1;33m=\u001b[0m\u001b[1;32mTrue\u001b[0m\u001b[1;33m)\u001b[0m\u001b[1;33m\u001b[0m\u001b[1;33m\u001b[0m\u001b[0m\n\u001b[0m",
      "\u001b[1;32mc:\\Users\\hp\\AppData\\Local\\Programs\\Python\\Python310\\lib\\site-packages\\pandas\\core\\frame.py\u001b[0m in \u001b[0;36m?\u001b[1;34m(self, keys, drop, append, inplace, verify_integrity)\u001b[0m\n\u001b[0;32m   6118\u001b[0m                     \u001b[1;32mif\u001b[0m \u001b[1;32mnot\u001b[0m \u001b[0mfound\u001b[0m\u001b[1;33m:\u001b[0m\u001b[1;33m\u001b[0m\u001b[1;33m\u001b[0m\u001b[0m\n\u001b[0;32m   6119\u001b[0m                         \u001b[0mmissing\u001b[0m\u001b[1;33m.\u001b[0m\u001b[0mappend\u001b[0m\u001b[1;33m(\u001b[0m\u001b[0mcol\u001b[0m\u001b[1;33m)\u001b[0m\u001b[1;33m\u001b[0m\u001b[1;33m\u001b[0m\u001b[0m\n\u001b[0;32m   6120\u001b[0m \u001b[1;33m\u001b[0m\u001b[0m\n\u001b[0;32m   6121\u001b[0m         \u001b[1;32mif\u001b[0m \u001b[0mmissing\u001b[0m\u001b[1;33m:\u001b[0m\u001b[1;33m\u001b[0m\u001b[1;33m\u001b[0m\u001b[0m\n\u001b[1;32m-> 6122\u001b[1;33m             \u001b[1;32mraise\u001b[0m \u001b[0mKeyError\u001b[0m\u001b[1;33m(\u001b[0m\u001b[1;34mf\"None of {missing} are in the columns\"\u001b[0m\u001b[1;33m)\u001b[0m\u001b[1;33m\u001b[0m\u001b[1;33m\u001b[0m\u001b[0m\n\u001b[0m\u001b[0;32m   6123\u001b[0m \u001b[1;33m\u001b[0m\u001b[0m\n\u001b[0;32m   6124\u001b[0m         \u001b[1;32mif\u001b[0m \u001b[0minplace\u001b[0m\u001b[1;33m:\u001b[0m\u001b[1;33m\u001b[0m\u001b[1;33m\u001b[0m\u001b[0m\n\u001b[0;32m   6125\u001b[0m             \u001b[0mframe\u001b[0m \u001b[1;33m=\u001b[0m \u001b[0mself\u001b[0m\u001b[1;33m\u001b[0m\u001b[1;33m\u001b[0m\u001b[0m\n",
      "\u001b[1;31mKeyError\u001b[0m: \"None of ['title'] are in the columns\""
     ]
    }
   ],
   "source": [
    "data1.set_index('title' , inplace=True)"
   ]
  },
  {
   "cell_type": "code",
   "execution_count": 15,
   "metadata": {},
   "outputs": [
    {
     "data": {
      "application/vnd.microsoft.datawrangler.viewer.v0+json": {
       "columns": [
        {
         "name": "title",
         "rawType": "object",
         "type": "string"
        },
        {
         "name": "industry",
         "rawType": "object",
         "type": "string"
        },
        {
         "name": "release_year",
         "rawType": "int64",
         "type": "integer"
        },
        {
         "name": "imdb_rating",
         "rawType": "float64",
         "type": "float"
        },
        {
         "name": "studio",
         "rawType": "object",
         "type": "string"
        },
        {
         "name": "budget",
         "rawType": "float64",
         "type": "float"
        },
        {
         "name": "revenue",
         "rawType": "float64",
         "type": "float"
        },
        {
         "name": "unit",
         "rawType": "object",
         "type": "string"
        },
        {
         "name": "currency",
         "rawType": "object",
         "type": "string"
        },
        {
         "name": "language",
         "rawType": "object",
         "type": "string"
        },
        {
         "name": "age",
         "rawType": "int64",
         "type": "integer"
        },
        {
         "name": "profit",
         "rawType": "float64",
         "type": "float"
        }
       ],
       "conversionMethod": "pd.DataFrame",
       "ref": "283a51f2-b578-49b1-8bde-f44dd646a277",
       "rows": [
        [
         "Pather Panchali",
         "Bollywood",
         "1955",
         "8.3",
         "Government of West Bengal",
         "70000.0",
         "100000.0",
         "Thousands",
         "INR",
         "Bengali",
         "66",
         "30000.0"
        ],
        [
         "Doctor Strange in the Multiverse of Madness",
         "Hollywood",
         "2022",
         "7.0",
         "Marvel Studios",
         "200.0",
         "954.8",
         "Millions",
         "USD",
         "English",
         "-1",
         "754.8"
        ],
        [
         "Thor: The Dark World ",
         "Hollywood",
         "2013",
         "6.8",
         "Marvel Studios",
         "165.0",
         "644.8",
         "Millions",
         "USD",
         "English",
         "8",
         "479.79999999999995"
        ],
        [
         "Thor: Ragnarok ",
         "Hollywood",
         "2017",
         "7.9",
         "Marvel Studios",
         "180.0",
         "854.0",
         "Millions",
         "USD",
         "English",
         "4",
         "674.0"
        ]
       ],
       "shape": {
        "columns": 11,
        "rows": 4
       }
      },
      "text/html": [
       "<div>\n",
       "<style scoped>\n",
       "    .dataframe tbody tr th:only-of-type {\n",
       "        vertical-align: middle;\n",
       "    }\n",
       "\n",
       "    .dataframe tbody tr th {\n",
       "        vertical-align: top;\n",
       "    }\n",
       "\n",
       "    .dataframe thead th {\n",
       "        text-align: right;\n",
       "    }\n",
       "</style>\n",
       "<table border=\"1\" class=\"dataframe\">\n",
       "  <thead>\n",
       "    <tr style=\"text-align: right;\">\n",
       "      <th></th>\n",
       "      <th>industry</th>\n",
       "      <th>release_year</th>\n",
       "      <th>imdb_rating</th>\n",
       "      <th>studio</th>\n",
       "      <th>budget</th>\n",
       "      <th>revenue</th>\n",
       "      <th>unit</th>\n",
       "      <th>currency</th>\n",
       "      <th>language</th>\n",
       "      <th>age</th>\n",
       "      <th>profit</th>\n",
       "    </tr>\n",
       "    <tr>\n",
       "      <th>title</th>\n",
       "      <th></th>\n",
       "      <th></th>\n",
       "      <th></th>\n",
       "      <th></th>\n",
       "      <th></th>\n",
       "      <th></th>\n",
       "      <th></th>\n",
       "      <th></th>\n",
       "      <th></th>\n",
       "      <th></th>\n",
       "      <th></th>\n",
       "    </tr>\n",
       "  </thead>\n",
       "  <tbody>\n",
       "    <tr>\n",
       "      <th>Pather Panchali</th>\n",
       "      <td>Bollywood</td>\n",
       "      <td>1955</td>\n",
       "      <td>8.3</td>\n",
       "      <td>Government of West Bengal</td>\n",
       "      <td>70000.0</td>\n",
       "      <td>100000.0</td>\n",
       "      <td>Thousands</td>\n",
       "      <td>INR</td>\n",
       "      <td>Bengali</td>\n",
       "      <td>66</td>\n",
       "      <td>30000.0</td>\n",
       "    </tr>\n",
       "    <tr>\n",
       "      <th>Doctor Strange in the Multiverse of Madness</th>\n",
       "      <td>Hollywood</td>\n",
       "      <td>2022</td>\n",
       "      <td>7.0</td>\n",
       "      <td>Marvel Studios</td>\n",
       "      <td>200.0</td>\n",
       "      <td>954.8</td>\n",
       "      <td>Millions</td>\n",
       "      <td>USD</td>\n",
       "      <td>English</td>\n",
       "      <td>-1</td>\n",
       "      <td>754.8</td>\n",
       "    </tr>\n",
       "    <tr>\n",
       "      <th>Thor: The Dark World</th>\n",
       "      <td>Hollywood</td>\n",
       "      <td>2013</td>\n",
       "      <td>6.8</td>\n",
       "      <td>Marvel Studios</td>\n",
       "      <td>165.0</td>\n",
       "      <td>644.8</td>\n",
       "      <td>Millions</td>\n",
       "      <td>USD</td>\n",
       "      <td>English</td>\n",
       "      <td>8</td>\n",
       "      <td>479.8</td>\n",
       "    </tr>\n",
       "    <tr>\n",
       "      <th>Thor: Ragnarok</th>\n",
       "      <td>Hollywood</td>\n",
       "      <td>2017</td>\n",
       "      <td>7.9</td>\n",
       "      <td>Marvel Studios</td>\n",
       "      <td>180.0</td>\n",
       "      <td>854.0</td>\n",
       "      <td>Millions</td>\n",
       "      <td>USD</td>\n",
       "      <td>English</td>\n",
       "      <td>4</td>\n",
       "      <td>674.0</td>\n",
       "    </tr>\n",
       "  </tbody>\n",
       "</table>\n",
       "</div>"
      ],
      "text/plain": [
       "                                              industry  release_year  \\\n",
       "title                                                                  \n",
       "Pather Panchali                              Bollywood          1955   \n",
       "Doctor Strange in the Multiverse of Madness  Hollywood          2022   \n",
       "Thor: The Dark World                         Hollywood          2013   \n",
       "Thor: Ragnarok                               Hollywood          2017   \n",
       "\n",
       "                                             imdb_rating  \\\n",
       "title                                                      \n",
       "Pather Panchali                                      8.3   \n",
       "Doctor Strange in the Multiverse of Madness          7.0   \n",
       "Thor: The Dark World                                 6.8   \n",
       "Thor: Ragnarok                                       7.9   \n",
       "\n",
       "                                                                studio  \\\n",
       "title                                                                    \n",
       "Pather Panchali                              Government of West Bengal   \n",
       "Doctor Strange in the Multiverse of Madness             Marvel Studios   \n",
       "Thor: The Dark World                                    Marvel Studios   \n",
       "Thor: Ragnarok                                          Marvel Studios   \n",
       "\n",
       "                                              budget   revenue       unit  \\\n",
       "title                                                                       \n",
       "Pather Panchali                              70000.0  100000.0  Thousands   \n",
       "Doctor Strange in the Multiverse of Madness    200.0     954.8   Millions   \n",
       "Thor: The Dark World                           165.0     644.8   Millions   \n",
       "Thor: Ragnarok                                 180.0     854.0   Millions   \n",
       "\n",
       "                                            currency language  age   profit  \n",
       "title                                                                        \n",
       "Pather Panchali                                  INR  Bengali   66  30000.0  \n",
       "Doctor Strange in the Multiverse of Madness      USD  English   -1    754.8  \n",
       "Thor: The Dark World                             USD  English    8    479.8  \n",
       "Thor: Ragnarok                                   USD  English    4    674.0  "
      ]
     },
     "execution_count": 15,
     "metadata": {},
     "output_type": "execute_result"
    }
   ],
   "source": [
    "data1.head(4)"
   ]
  },
  {
   "cell_type": "code",
   "execution_count": 20,
   "metadata": {},
   "outputs": [
    {
     "data": {
      "text/plain": [
       "Index(['Pather Panchali', 'Doctor Strange in the Multiverse of Madness',\n",
       "       'Thor: The Dark World ', 'Thor: Ragnarok ', 'Thor: Love and Thunder ',\n",
       "       'The Shawshank Redemption', 'Interstellar', 'The Pursuit of Happyness',\n",
       "       'Gladiator', 'Titanic', 'It's a Wonderful Life', 'Avatar',\n",
       "       'The Godfather', 'The Dark Knight', 'Schindler's List', 'Jurassic Park',\n",
       "       'Parasite', 'Avengers: Endgame', 'Avengers: Infinity War',\n",
       "       'Captain America: The First Avenger',\n",
       "       'Captain America: The Winter Soldier', 'Dilwale Dulhania Le Jayenge',\n",
       "       '3 Idiots', 'Kabhi Khushi Kabhie Gham', 'Bajirao Mastani ',\n",
       "       'Taare Zameen Par', 'Munna Bhai M.B.B.S.', 'PK', 'Sanju',\n",
       "       'The Kashmir Files', 'Bajrangi Bhaijaan', 'Race 3', 'Shershaah',\n",
       "       'K.G.F: Chapter 2', 'Pushpa: The Rise - Part 1', 'RRR',\n",
       "       'Baahubali: The Beginning'],\n",
       "      dtype='object', name='title')"
      ]
     },
     "execution_count": 20,
     "metadata": {},
     "output_type": "execute_result"
    }
   ],
   "source": [
    "data1.index"
   ]
  },
  {
   "cell_type": "code",
   "execution_count": 27,
   "metadata": {},
   "outputs": [
    {
     "ename": "KeyError",
     "evalue": "\"['Doctor Strange in the Multiverse of Madness '] not in index\"",
     "output_type": "error",
     "traceback": [
      "\u001b[1;31m---------------------------------------------------------------------------\u001b[0m",
      "\u001b[1;31mKeyError\u001b[0m                                  Traceback (most recent call last)",
      "Cell \u001b[1;32mIn[27], line 1\u001b[0m\n\u001b[1;32m----> 1\u001b[0m \u001b[43mdata1\u001b[49m\u001b[38;5;241;43m.\u001b[39;49m\u001b[43mloc\u001b[49m\u001b[43m[\u001b[49m\u001b[43m[\u001b[49m\u001b[38;5;124;43m\"\u001b[39;49m\u001b[38;5;124;43mPather Panchali\u001b[39;49m\u001b[38;5;124;43m\"\u001b[39;49m\u001b[43m \u001b[49m\u001b[43m,\u001b[49m\u001b[43m \u001b[49m\u001b[38;5;124;43m\"\u001b[39;49m\u001b[38;5;124;43mDoctor Strange in the Multiverse of Madness \u001b[39;49m\u001b[38;5;124;43m\"\u001b[39;49m\u001b[43m]\u001b[49m\u001b[43m]\u001b[49m\n",
      "File \u001b[1;32mc:\\Users\\hp\\AppData\\Local\\Programs\\Python\\Python310\\lib\\site-packages\\pandas\\core\\indexing.py:1191\u001b[0m, in \u001b[0;36m_LocationIndexer.__getitem__\u001b[1;34m(self, key)\u001b[0m\n\u001b[0;32m   1189\u001b[0m maybe_callable \u001b[38;5;241m=\u001b[39m com\u001b[38;5;241m.\u001b[39mapply_if_callable(key, \u001b[38;5;28mself\u001b[39m\u001b[38;5;241m.\u001b[39mobj)\n\u001b[0;32m   1190\u001b[0m maybe_callable \u001b[38;5;241m=\u001b[39m \u001b[38;5;28mself\u001b[39m\u001b[38;5;241m.\u001b[39m_check_deprecated_callable_usage(key, maybe_callable)\n\u001b[1;32m-> 1191\u001b[0m \u001b[38;5;28;01mreturn\u001b[39;00m \u001b[38;5;28;43mself\u001b[39;49m\u001b[38;5;241;43m.\u001b[39;49m\u001b[43m_getitem_axis\u001b[49m\u001b[43m(\u001b[49m\u001b[43mmaybe_callable\u001b[49m\u001b[43m,\u001b[49m\u001b[43m \u001b[49m\u001b[43maxis\u001b[49m\u001b[38;5;241;43m=\u001b[39;49m\u001b[43maxis\u001b[49m\u001b[43m)\u001b[49m\n",
      "File \u001b[1;32mc:\\Users\\hp\\AppData\\Local\\Programs\\Python\\Python310\\lib\\site-packages\\pandas\\core\\indexing.py:1420\u001b[0m, in \u001b[0;36m_LocIndexer._getitem_axis\u001b[1;34m(self, key, axis)\u001b[0m\n\u001b[0;32m   1417\u001b[0m     \u001b[38;5;28;01mif\u001b[39;00m \u001b[38;5;28mhasattr\u001b[39m(key, \u001b[38;5;124m\"\u001b[39m\u001b[38;5;124mndim\u001b[39m\u001b[38;5;124m\"\u001b[39m) \u001b[38;5;129;01mand\u001b[39;00m key\u001b[38;5;241m.\u001b[39mndim \u001b[38;5;241m>\u001b[39m \u001b[38;5;241m1\u001b[39m:\n\u001b[0;32m   1418\u001b[0m         \u001b[38;5;28;01mraise\u001b[39;00m \u001b[38;5;167;01mValueError\u001b[39;00m(\u001b[38;5;124m\"\u001b[39m\u001b[38;5;124mCannot index with multidimensional key\u001b[39m\u001b[38;5;124m\"\u001b[39m)\n\u001b[1;32m-> 1420\u001b[0m     \u001b[38;5;28;01mreturn\u001b[39;00m \u001b[38;5;28;43mself\u001b[39;49m\u001b[38;5;241;43m.\u001b[39;49m\u001b[43m_getitem_iterable\u001b[49m\u001b[43m(\u001b[49m\u001b[43mkey\u001b[49m\u001b[43m,\u001b[49m\u001b[43m \u001b[49m\u001b[43maxis\u001b[49m\u001b[38;5;241;43m=\u001b[39;49m\u001b[43maxis\u001b[49m\u001b[43m)\u001b[49m\n\u001b[0;32m   1422\u001b[0m \u001b[38;5;66;03m# nested tuple slicing\u001b[39;00m\n\u001b[0;32m   1423\u001b[0m \u001b[38;5;28;01mif\u001b[39;00m is_nested_tuple(key, labels):\n",
      "File \u001b[1;32mc:\\Users\\hp\\AppData\\Local\\Programs\\Python\\Python310\\lib\\site-packages\\pandas\\core\\indexing.py:1360\u001b[0m, in \u001b[0;36m_LocIndexer._getitem_iterable\u001b[1;34m(self, key, axis)\u001b[0m\n\u001b[0;32m   1357\u001b[0m \u001b[38;5;28mself\u001b[39m\u001b[38;5;241m.\u001b[39m_validate_key(key, axis)\n\u001b[0;32m   1359\u001b[0m \u001b[38;5;66;03m# A collection of keys\u001b[39;00m\n\u001b[1;32m-> 1360\u001b[0m keyarr, indexer \u001b[38;5;241m=\u001b[39m \u001b[38;5;28;43mself\u001b[39;49m\u001b[38;5;241;43m.\u001b[39;49m\u001b[43m_get_listlike_indexer\u001b[49m\u001b[43m(\u001b[49m\u001b[43mkey\u001b[49m\u001b[43m,\u001b[49m\u001b[43m \u001b[49m\u001b[43maxis\u001b[49m\u001b[43m)\u001b[49m\n\u001b[0;32m   1361\u001b[0m \u001b[38;5;28;01mreturn\u001b[39;00m \u001b[38;5;28mself\u001b[39m\u001b[38;5;241m.\u001b[39mobj\u001b[38;5;241m.\u001b[39m_reindex_with_indexers(\n\u001b[0;32m   1362\u001b[0m     {axis: [keyarr, indexer]}, copy\u001b[38;5;241m=\u001b[39m\u001b[38;5;28;01mTrue\u001b[39;00m, allow_dups\u001b[38;5;241m=\u001b[39m\u001b[38;5;28;01mTrue\u001b[39;00m\n\u001b[0;32m   1363\u001b[0m )\n",
      "File \u001b[1;32mc:\\Users\\hp\\AppData\\Local\\Programs\\Python\\Python310\\lib\\site-packages\\pandas\\core\\indexing.py:1558\u001b[0m, in \u001b[0;36m_LocIndexer._get_listlike_indexer\u001b[1;34m(self, key, axis)\u001b[0m\n\u001b[0;32m   1555\u001b[0m ax \u001b[38;5;241m=\u001b[39m \u001b[38;5;28mself\u001b[39m\u001b[38;5;241m.\u001b[39mobj\u001b[38;5;241m.\u001b[39m_get_axis(axis)\n\u001b[0;32m   1556\u001b[0m axis_name \u001b[38;5;241m=\u001b[39m \u001b[38;5;28mself\u001b[39m\u001b[38;5;241m.\u001b[39mobj\u001b[38;5;241m.\u001b[39m_get_axis_name(axis)\n\u001b[1;32m-> 1558\u001b[0m keyarr, indexer \u001b[38;5;241m=\u001b[39m \u001b[43max\u001b[49m\u001b[38;5;241;43m.\u001b[39;49m\u001b[43m_get_indexer_strict\u001b[49m\u001b[43m(\u001b[49m\u001b[43mkey\u001b[49m\u001b[43m,\u001b[49m\u001b[43m \u001b[49m\u001b[43maxis_name\u001b[49m\u001b[43m)\u001b[49m\n\u001b[0;32m   1560\u001b[0m \u001b[38;5;28;01mreturn\u001b[39;00m keyarr, indexer\n",
      "File \u001b[1;32mc:\\Users\\hp\\AppData\\Local\\Programs\\Python\\Python310\\lib\\site-packages\\pandas\\core\\indexes\\base.py:6200\u001b[0m, in \u001b[0;36mIndex._get_indexer_strict\u001b[1;34m(self, key, axis_name)\u001b[0m\n\u001b[0;32m   6197\u001b[0m \u001b[38;5;28;01melse\u001b[39;00m:\n\u001b[0;32m   6198\u001b[0m     keyarr, indexer, new_indexer \u001b[38;5;241m=\u001b[39m \u001b[38;5;28mself\u001b[39m\u001b[38;5;241m.\u001b[39m_reindex_non_unique(keyarr)\n\u001b[1;32m-> 6200\u001b[0m \u001b[38;5;28;43mself\u001b[39;49m\u001b[38;5;241;43m.\u001b[39;49m\u001b[43m_raise_if_missing\u001b[49m\u001b[43m(\u001b[49m\u001b[43mkeyarr\u001b[49m\u001b[43m,\u001b[49m\u001b[43m \u001b[49m\u001b[43mindexer\u001b[49m\u001b[43m,\u001b[49m\u001b[43m \u001b[49m\u001b[43maxis_name\u001b[49m\u001b[43m)\u001b[49m\n\u001b[0;32m   6202\u001b[0m keyarr \u001b[38;5;241m=\u001b[39m \u001b[38;5;28mself\u001b[39m\u001b[38;5;241m.\u001b[39mtake(indexer)\n\u001b[0;32m   6203\u001b[0m \u001b[38;5;28;01mif\u001b[39;00m \u001b[38;5;28misinstance\u001b[39m(key, Index):\n\u001b[0;32m   6204\u001b[0m     \u001b[38;5;66;03m# GH 42790 - Preserve name from an Index\u001b[39;00m\n",
      "File \u001b[1;32mc:\\Users\\hp\\AppData\\Local\\Programs\\Python\\Python310\\lib\\site-packages\\pandas\\core\\indexes\\base.py:6252\u001b[0m, in \u001b[0;36mIndex._raise_if_missing\u001b[1;34m(self, key, indexer, axis_name)\u001b[0m\n\u001b[0;32m   6249\u001b[0m     \u001b[38;5;28;01mraise\u001b[39;00m \u001b[38;5;167;01mKeyError\u001b[39;00m(\u001b[38;5;124mf\u001b[39m\u001b[38;5;124m\"\u001b[39m\u001b[38;5;124mNone of [\u001b[39m\u001b[38;5;132;01m{\u001b[39;00mkey\u001b[38;5;132;01m}\u001b[39;00m\u001b[38;5;124m] are in the [\u001b[39m\u001b[38;5;132;01m{\u001b[39;00maxis_name\u001b[38;5;132;01m}\u001b[39;00m\u001b[38;5;124m]\u001b[39m\u001b[38;5;124m\"\u001b[39m)\n\u001b[0;32m   6251\u001b[0m not_found \u001b[38;5;241m=\u001b[39m \u001b[38;5;28mlist\u001b[39m(ensure_index(key)[missing_mask\u001b[38;5;241m.\u001b[39mnonzero()[\u001b[38;5;241m0\u001b[39m]]\u001b[38;5;241m.\u001b[39munique())\n\u001b[1;32m-> 6252\u001b[0m \u001b[38;5;28;01mraise\u001b[39;00m \u001b[38;5;167;01mKeyError\u001b[39;00m(\u001b[38;5;124mf\u001b[39m\u001b[38;5;124m\"\u001b[39m\u001b[38;5;132;01m{\u001b[39;00mnot_found\u001b[38;5;132;01m}\u001b[39;00m\u001b[38;5;124m not in index\u001b[39m\u001b[38;5;124m\"\u001b[39m)\n",
      "\u001b[1;31mKeyError\u001b[0m: \"['Doctor Strange in the Multiverse of Madness '] not in index\""
     ]
    }
   ],
   "source": [
    "data1.loc[[\"Pather Panchali\" , \"Doctor Strange in the Multiverse of Madness \"]]"
   ]
  },
  {
   "cell_type": "code",
   "execution_count": null,
   "metadata": {},
   "outputs": [],
   "source": []
  }
 ],
 "metadata": {
  "kernelspec": {
   "display_name": "Python 3",
   "language": "python",
   "name": "python3"
  },
  "language_info": {
   "codemirror_mode": {
    "name": "ipython",
    "version": 3
   },
   "file_extension": ".py",
   "mimetype": "text/x-python",
   "name": "python",
   "nbconvert_exporter": "python",
   "pygments_lexer": "ipython3",
   "version": "3.10.11"
  }
 },
 "nbformat": 4,
 "nbformat_minor": 2
}
