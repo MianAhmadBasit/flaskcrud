{
 "cells": [
  {
   "cell_type": "markdown",
   "id": "b2f784fe",
   "metadata": {},
   "source": [
    "what is OOP ?\n",
    "Depend Classes or objects etc \n",
    "Class is a design or blueprint \n",
    "Define in class\n",
    "which attributes are exist  (data kon sa hu ga) \n",
    "Which Functions are exist  (behvaioure kia hu ga )"
   ]
  },
  {
   "cell_type": "code",
   "execution_count": 4,
   "id": "89868dbf",
   "metadata": {},
   "outputs": [],
   "source": [
    "class Car:\n",
    "    color = \"Red\"\n",
    "    color1 = \"Green\"\n",
    "    color2 = \"yellow\""
   ]
  },
  {
   "cell_type": "code",
   "execution_count": 5,
   "id": "42fdf4e6",
   "metadata": {},
   "outputs": [
    {
     "name": "stdout",
     "output_type": "stream",
     "text": [
      "yellow\n"
     ]
    }
   ],
   "source": [
    "# objects  its a real instance \n",
    "my_car = Car()\n",
    "print(my_car.color2)\n"
   ]
  },
  {
   "cell_type": "code",
   "execution_count": 7,
   "id": "3444b540",
   "metadata": {},
   "outputs": [],
   "source": [
    "# init method constructor __init__ double undersscore init \n",
    "# when new object 'll be created \n",
    "#object variable initilazation \n",
    "\n",
    "class Car:\n",
    "    def __init__(self , color , brand):\n",
    "        self.color = color\n",
    "        self.brand = brand\n",
    "\n",
    "# self current object calling with self keyword"
   ]
  },
  {
   "cell_type": "code",
   "execution_count": 8,
   "id": "7391c924",
   "metadata": {},
   "outputs": [
    {
     "name": "stdout",
     "output_type": "stream",
     "text": [
      "toyta\n"
     ]
    }
   ],
   "source": [
    "my_car = Car(\"Black\" , \"Honda\")\n",
    "my_car1 = Car(\"red\" , \"toyta\")\n",
    "print(my_car1.brand)"
   ]
  },
  {
   "cell_type": "code",
   "execution_count": 13,
   "id": "cf20b6e4",
   "metadata": {},
   "outputs": [],
   "source": [
    "class Car1:\n",
    "    def start(self):\n",
    "        print(\"car start\")"
   ]
  },
  {
   "cell_type": "code",
   "execution_count": 15,
   "id": "2453c2e8",
   "metadata": {},
   "outputs": [
    {
     "name": "stdout",
     "output_type": "stream",
     "text": [
      "car start\n"
     ]
    }
   ],
   "source": [
    "c = Car1()\n",
    "c.start()"
   ]
  },
  {
   "cell_type": "markdown",
   "id": "fcf06802",
   "metadata": {},
   "source": [
    "Encapsulation (Hide of data/ inner of class part data protection layer)"
   ]
  },
  {
   "cell_type": "code",
   "execution_count": 9,
   "id": "32e95097",
   "metadata": {},
   "outputs": [],
   "source": [
    "class BankAccount: \n",
    "    def __init__(self , balance):\n",
    "          self.__balance = balance\n",
    "    def get_balance(self):\n",
    "        return self.__balance"
   ]
  },
  {
   "cell_type": "code",
   "execution_count": 16,
   "id": "f9df13aa",
   "metadata": {},
   "outputs": [
    {
     "data": {
      "text/plain": [
       "22"
      ]
     },
     "execution_count": 16,
     "metadata": {},
     "output_type": "execute_result"
    }
   ],
   "source": [
    "c = BankAccount(22)\n",
    "c.get_balance()"
   ]
  },
  {
   "cell_type": "markdown",
   "id": "ccdfa8a7",
   "metadata": {},
   "source": [
    "Inhertance (warsat)\n",
    "1st class inhert to second \n",
    "ak class dosri class sa properties aur methods ko inhert kar lati ha"
   ]
  },
  {
   "cell_type": "code",
   "execution_count": 18,
   "id": "e2327e9a",
   "metadata": {},
   "outputs": [],
   "source": [
    "class Animal : \n",
    "    def speak(self):\n",
    "        print(\"Animal sound\")\n",
    "\n",
    "class Dog(Animal):\n",
    "    def bark(self):\n",
    "        print(\"Dog barks\")\n",
    "\n",
    "class Cat(Dog):\n",
    "    def bark(self):\n",
    "        print(\"Cat mewo\")\n",
    "\n",
    "\n",
    "\n"
   ]
  },
  {
   "cell_type": "code",
   "execution_count": 20,
   "id": "887de4e5",
   "metadata": {},
   "outputs": [
    {
     "name": "stdout",
     "output_type": "stream",
     "text": [
      "Animal sound\n",
      "Dog barks\n"
     ]
    }
   ],
   "source": [
    "d = Dog()\n",
    "d.speak()\n",
    "d.bark()"
   ]
  },
  {
   "cell_type": "markdown",
   "id": "280f7833",
   "metadata": {},
   "source": [
    "Polymorphism (different name ,  shapes)\n",
    "eK HI METHOD KA DIFFERNT BEHAVE DEPINDING ON CLASS"
   ]
  },
  {
   "cell_type": "code",
   "execution_count": 21,
   "id": "7c3337ed",
   "metadata": {},
   "outputs": [],
   "source": [
    "class Bird:\n",
    "    def fly(self):\n",
    "        print(\"Birds flies\")\n",
    "\n",
    "class plane:\n",
    "    def fly(self):\n",
    "        print(\"plane flies\")\n"
   ]
  },
  {
   "cell_type": "code",
   "execution_count": 33,
   "id": "32fcbaa5",
   "metadata": {},
   "outputs": [
    {
     "name": "stdout",
     "output_type": "stream",
     "text": [
      "Birds flies\n",
      "plane flies\n"
     ]
    }
   ],
   "source": [
    "\n",
    "def lift_off(thing):\n",
    "    thing.fly()\n",
    "\n",
    "lift_off(Bird())\n",
    "lift_off(plane())\n",
    "\n"
   ]
  },
  {
   "cell_type": "markdown",
   "id": "5b2d4fda",
   "metadata": {},
   "source": [
    "Abstraction (Need hide / unhide )"
   ]
  },
  {
   "cell_type": "code",
   "execution_count": 23,
   "id": "a424b8ae",
   "metadata": {},
   "outputs": [],
   "source": [
    "from abc import ABC, abstractmethod\n",
    "\n",
    "class Shape(ABC):\n",
    "    @abstractmethod\n",
    "    def area(self):\n",
    "        pass\n",
    "\n",
    "class Circle(Shape):\n",
    "    def __init__(self,radius):\n",
    "        self.radius = radius\n",
    "\n",
    "    def area(self):\n",
    "        return 3.14 * self.radius * self.radius\n",
    "    \n",
    "    # def num(self):\n",
    "    #     return 22 * self.radius"
   ]
  },
  {
   "cell_type": "code",
   "execution_count": 24,
   "id": "7071a4a2",
   "metadata": {},
   "outputs": [
    {
     "data": {
      "text/plain": [
       "1519.76"
      ]
     },
     "execution_count": 24,
     "metadata": {},
     "output_type": "execute_result"
    }
   ],
   "source": [
    "d = Circle(22)\n",
    "d.area()\n"
   ]
  },
  {
   "cell_type": "markdown",
   "id": "f6efb1b4",
   "metadata": {},
   "source": [
    "self.name ====>acces from anywhere\n",
    "self._name ===>protected ===>class + subclass\n",
    "self.__name ===> specfic only classe\n"
   ]
  },
  {
   "cell_type": "code",
   "execution_count": null,
   "id": "d2edd572",
   "metadata": {},
   "outputs": [],
   "source": []
  }
 ],
 "metadata": {
  "kernelspec": {
   "display_name": "Python 3",
   "language": "python",
   "name": "python3"
  },
  "language_info": {
   "codemirror_mode": {
    "name": "ipython",
    "version": 3
   },
   "file_extension": ".py",
   "mimetype": "text/x-python",
   "name": "python",
   "nbconvert_exporter": "python",
   "pygments_lexer": "ipython3",
   "version": "3.10.11"
  }
 },
 "nbformat": 4,
 "nbformat_minor": 5
}
